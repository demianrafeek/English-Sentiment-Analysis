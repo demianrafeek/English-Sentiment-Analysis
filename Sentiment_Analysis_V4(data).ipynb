{
  "cells": [
    {
      "cell_type": "code",
      "execution_count": null,
      "metadata": {
        "id": "R7FPo3qgRqI6"
      },
      "outputs": [],
      "source": [
        "import tensorflow as tf\n",
        "import pandas as pd\n",
        "import numpy as np\n",
        "import matplotlib.pyplot as plt\n",
        "from sklearn.metrics import classification_report,accuracy_score,confusion_matrix\n"
      ]
    },
    {
      "cell_type": "markdown",
      "metadata": {
        "id": "Mum8V2gGSXUJ"
      },
      "source": [
        "### download datasets\n"
      ]
    },
    {
      "cell_type": "code",
      "execution_count": null,
      "metadata": {
        "colab": {
          "base_uri": "https://localhost:8080/"
        },
        "id": "-bgXFIvxSDkQ",
        "outputId": "5ad0feae-d8ea-44c6-88d2-84bd2bf19dfd"
      },
      "outputs": [
        {
          "output_type": "stream",
          "name": "stdout",
          "text": [
            "Mounted at /content/gdrive\n"
          ]
        }
      ],
      "source": [
        "from google.colab import drive\n",
        "drive.mount('/content/gdrive')\n",
        "\n",
        "# from google.colab import files\n",
        "# files.upload()"
      ]
    },
    {
      "cell_type": "code",
      "execution_count": null,
      "metadata": {
        "id": "ZTp4EUl2TERX"
      },
      "outputs": [],
      "source": [
        "# 1- create a directory called \"kaggle\" in root to copy json file to it\n",
        "!mkdir ~/.kaggle/"
      ]
    },
    {
      "cell_type": "code",
      "execution_count": null,
      "metadata": {
        "id": "d4FYSoO-TEcn"
      },
      "outputs": [],
      "source": [
        "# 2- copy the file to the directory >> this a heddin file .kaggle\n",
        "!cp /content/gdrive/MyDrive/Deep_learning/kaggle.json ~/.kaggle/"
      ]
    },
    {
      "cell_type": "code",
      "execution_count": null,
      "metadata": {
        "id": "Gr4rLVwvR6oc"
      },
      "outputs": [],
      "source": [
        "# !kaggle datasets download -d kazanova/sentiment140"
      ]
    },
    {
      "cell_type": "markdown",
      "metadata": {
        "id": "C_7fm9C4eEBn"
      },
      "source": [
        "Tweets2 df"
      ]
    },
    {
      "cell_type": "code",
      "execution_count": null,
      "metadata": {
        "colab": {
          "base_uri": "https://localhost:8080/"
        },
        "id": "f0vfF1RUYYbT",
        "outputId": "36e14344-b9f7-4452-9e5b-07d2613dae2a"
      },
      "outputs": [
        {
          "output_type": "execute_result",
          "data": {
            "text/plain": [
              "(14640, 15)"
            ]
          },
          "metadata": {},
          "execution_count": 7
        }
      ],
      "source": [
        "# https://drive.google.com/file/d/14y5kMRsqs2F5djtztmN0VDa1FDPHqana/view?usp=sharing\n",
        "tweets2_df = pd.read_csv('/content/gdrive/MyDrive/Arete/sentiment analysis task/Tweets2.csv')\n",
        "tweets2_df.shape"
      ]
    },
    {
      "cell_type": "code",
      "execution_count": null,
      "metadata": {
        "colab": {
          "base_uri": "https://localhost:8080/"
        },
        "id": "D_7l-g-wYvRd",
        "outputId": "4755d15a-1ddc-4a69-a8ff-ee7c266bb572"
      },
      "outputs": [
        {
          "output_type": "execute_result",
          "data": {
            "text/plain": [
              "             tweet_id airline_sentiment  airline_sentiment_confidence  \\\n",
              "0  570306133677760513           neutral                        1.0000   \n",
              "1  570301130888122368          positive                        0.3486   \n",
              "2  570301083672813571           neutral                        0.6837   \n",
              "3  570301031407624196          negative                        1.0000   \n",
              "4  570300817074462722          negative                        1.0000   \n",
              "\n",
              "  negativereason  negativereason_confidence         airline  \\\n",
              "0            NaN                        NaN  Virgin America   \n",
              "1            NaN                     0.0000  Virgin America   \n",
              "2            NaN                        NaN  Virgin America   \n",
              "3     Bad Flight                     0.7033  Virgin America   \n",
              "4     Can't Tell                     1.0000  Virgin America   \n",
              "\n",
              "  airline_sentiment_gold        name negativereason_gold  retweet_count  \\\n",
              "0                    NaN     cairdin                 NaN              0   \n",
              "1                    NaN    jnardino                 NaN              0   \n",
              "2                    NaN  yvonnalynn                 NaN              0   \n",
              "3                    NaN    jnardino                 NaN              0   \n",
              "4                    NaN    jnardino                 NaN              0   \n",
              "\n",
              "                                                text tweet_coord  \\\n",
              "0                @VirginAmerica What @dhepburn said.         NaN   \n",
              "1  @VirginAmerica plus you've added commercials t...         NaN   \n",
              "2  @VirginAmerica I didn't today... Must mean I n...         NaN   \n",
              "3  @VirginAmerica it's really aggressive to blast...         NaN   \n",
              "4  @VirginAmerica and it's a really big bad thing...         NaN   \n",
              "\n",
              "               tweet_created tweet_location               user_timezone  \n",
              "0  2015-02-24 11:35:52 -0800            NaN  Eastern Time (US & Canada)  \n",
              "1  2015-02-24 11:15:59 -0800            NaN  Pacific Time (US & Canada)  \n",
              "2  2015-02-24 11:15:48 -0800      Lets Play  Central Time (US & Canada)  \n",
              "3  2015-02-24 11:15:36 -0800            NaN  Pacific Time (US & Canada)  \n",
              "4  2015-02-24 11:14:45 -0800            NaN  Pacific Time (US & Canada)  "
            ],
            "text/html": [
              "\n",
              "  <div id=\"df-fda3ab1d-04f4-4c8c-820d-5f23ee80ee36\">\n",
              "    <div class=\"colab-df-container\">\n",
              "      <div>\n",
              "<style scoped>\n",
              "    .dataframe tbody tr th:only-of-type {\n",
              "        vertical-align: middle;\n",
              "    }\n",
              "\n",
              "    .dataframe tbody tr th {\n",
              "        vertical-align: top;\n",
              "    }\n",
              "\n",
              "    .dataframe thead th {\n",
              "        text-align: right;\n",
              "    }\n",
              "</style>\n",
              "<table border=\"1\" class=\"dataframe\">\n",
              "  <thead>\n",
              "    <tr style=\"text-align: right;\">\n",
              "      <th></th>\n",
              "      <th>tweet_id</th>\n",
              "      <th>airline_sentiment</th>\n",
              "      <th>airline_sentiment_confidence</th>\n",
              "      <th>negativereason</th>\n",
              "      <th>negativereason_confidence</th>\n",
              "      <th>airline</th>\n",
              "      <th>airline_sentiment_gold</th>\n",
              "      <th>name</th>\n",
              "      <th>negativereason_gold</th>\n",
              "      <th>retweet_count</th>\n",
              "      <th>text</th>\n",
              "      <th>tweet_coord</th>\n",
              "      <th>tweet_created</th>\n",
              "      <th>tweet_location</th>\n",
              "      <th>user_timezone</th>\n",
              "    </tr>\n",
              "  </thead>\n",
              "  <tbody>\n",
              "    <tr>\n",
              "      <th>0</th>\n",
              "      <td>570306133677760513</td>\n",
              "      <td>neutral</td>\n",
              "      <td>1.0000</td>\n",
              "      <td>NaN</td>\n",
              "      <td>NaN</td>\n",
              "      <td>Virgin America</td>\n",
              "      <td>NaN</td>\n",
              "      <td>cairdin</td>\n",
              "      <td>NaN</td>\n",
              "      <td>0</td>\n",
              "      <td>@VirginAmerica What @dhepburn said.</td>\n",
              "      <td>NaN</td>\n",
              "      <td>2015-02-24 11:35:52 -0800</td>\n",
              "      <td>NaN</td>\n",
              "      <td>Eastern Time (US &amp; Canada)</td>\n",
              "    </tr>\n",
              "    <tr>\n",
              "      <th>1</th>\n",
              "      <td>570301130888122368</td>\n",
              "      <td>positive</td>\n",
              "      <td>0.3486</td>\n",
              "      <td>NaN</td>\n",
              "      <td>0.0000</td>\n",
              "      <td>Virgin America</td>\n",
              "      <td>NaN</td>\n",
              "      <td>jnardino</td>\n",
              "      <td>NaN</td>\n",
              "      <td>0</td>\n",
              "      <td>@VirginAmerica plus you've added commercials t...</td>\n",
              "      <td>NaN</td>\n",
              "      <td>2015-02-24 11:15:59 -0800</td>\n",
              "      <td>NaN</td>\n",
              "      <td>Pacific Time (US &amp; Canada)</td>\n",
              "    </tr>\n",
              "    <tr>\n",
              "      <th>2</th>\n",
              "      <td>570301083672813571</td>\n",
              "      <td>neutral</td>\n",
              "      <td>0.6837</td>\n",
              "      <td>NaN</td>\n",
              "      <td>NaN</td>\n",
              "      <td>Virgin America</td>\n",
              "      <td>NaN</td>\n",
              "      <td>yvonnalynn</td>\n",
              "      <td>NaN</td>\n",
              "      <td>0</td>\n",
              "      <td>@VirginAmerica I didn't today... Must mean I n...</td>\n",
              "      <td>NaN</td>\n",
              "      <td>2015-02-24 11:15:48 -0800</td>\n",
              "      <td>Lets Play</td>\n",
              "      <td>Central Time (US &amp; Canada)</td>\n",
              "    </tr>\n",
              "    <tr>\n",
              "      <th>3</th>\n",
              "      <td>570301031407624196</td>\n",
              "      <td>negative</td>\n",
              "      <td>1.0000</td>\n",
              "      <td>Bad Flight</td>\n",
              "      <td>0.7033</td>\n",
              "      <td>Virgin America</td>\n",
              "      <td>NaN</td>\n",
              "      <td>jnardino</td>\n",
              "      <td>NaN</td>\n",
              "      <td>0</td>\n",
              "      <td>@VirginAmerica it's really aggressive to blast...</td>\n",
              "      <td>NaN</td>\n",
              "      <td>2015-02-24 11:15:36 -0800</td>\n",
              "      <td>NaN</td>\n",
              "      <td>Pacific Time (US &amp; Canada)</td>\n",
              "    </tr>\n",
              "    <tr>\n",
              "      <th>4</th>\n",
              "      <td>570300817074462722</td>\n",
              "      <td>negative</td>\n",
              "      <td>1.0000</td>\n",
              "      <td>Can't Tell</td>\n",
              "      <td>1.0000</td>\n",
              "      <td>Virgin America</td>\n",
              "      <td>NaN</td>\n",
              "      <td>jnardino</td>\n",
              "      <td>NaN</td>\n",
              "      <td>0</td>\n",
              "      <td>@VirginAmerica and it's a really big bad thing...</td>\n",
              "      <td>NaN</td>\n",
              "      <td>2015-02-24 11:14:45 -0800</td>\n",
              "      <td>NaN</td>\n",
              "      <td>Pacific Time (US &amp; Canada)</td>\n",
              "    </tr>\n",
              "  </tbody>\n",
              "</table>\n",
              "</div>\n",
              "      <button class=\"colab-df-convert\" onclick=\"convertToInteractive('df-fda3ab1d-04f4-4c8c-820d-5f23ee80ee36')\"\n",
              "              title=\"Convert this dataframe to an interactive table.\"\n",
              "              style=\"display:none;\">\n",
              "        \n",
              "  <svg xmlns=\"http://www.w3.org/2000/svg\" height=\"24px\"viewBox=\"0 0 24 24\"\n",
              "       width=\"24px\">\n",
              "    <path d=\"M0 0h24v24H0V0z\" fill=\"none\"/>\n",
              "    <path d=\"M18.56 5.44l.94 2.06.94-2.06 2.06-.94-2.06-.94-.94-2.06-.94 2.06-2.06.94zm-11 1L8.5 8.5l.94-2.06 2.06-.94-2.06-.94L8.5 2.5l-.94 2.06-2.06.94zm10 10l.94 2.06.94-2.06 2.06-.94-2.06-.94-.94-2.06-.94 2.06-2.06.94z\"/><path d=\"M17.41 7.96l-1.37-1.37c-.4-.4-.92-.59-1.43-.59-.52 0-1.04.2-1.43.59L10.3 9.45l-7.72 7.72c-.78.78-.78 2.05 0 2.83L4 21.41c.39.39.9.59 1.41.59.51 0 1.02-.2 1.41-.59l7.78-7.78 2.81-2.81c.8-.78.8-2.07 0-2.86zM5.41 20L4 18.59l7.72-7.72 1.47 1.35L5.41 20z\"/>\n",
              "  </svg>\n",
              "      </button>\n",
              "      \n",
              "  <style>\n",
              "    .colab-df-container {\n",
              "      display:flex;\n",
              "      flex-wrap:wrap;\n",
              "      gap: 12px;\n",
              "    }\n",
              "\n",
              "    .colab-df-convert {\n",
              "      background-color: #E8F0FE;\n",
              "      border: none;\n",
              "      border-radius: 50%;\n",
              "      cursor: pointer;\n",
              "      display: none;\n",
              "      fill: #1967D2;\n",
              "      height: 32px;\n",
              "      padding: 0 0 0 0;\n",
              "      width: 32px;\n",
              "    }\n",
              "\n",
              "    .colab-df-convert:hover {\n",
              "      background-color: #E2EBFA;\n",
              "      box-shadow: 0px 1px 2px rgba(60, 64, 67, 0.3), 0px 1px 3px 1px rgba(60, 64, 67, 0.15);\n",
              "      fill: #174EA6;\n",
              "    }\n",
              "\n",
              "    [theme=dark] .colab-df-convert {\n",
              "      background-color: #3B4455;\n",
              "      fill: #D2E3FC;\n",
              "    }\n",
              "\n",
              "    [theme=dark] .colab-df-convert:hover {\n",
              "      background-color: #434B5C;\n",
              "      box-shadow: 0px 1px 3px 1px rgba(0, 0, 0, 0.15);\n",
              "      filter: drop-shadow(0px 1px 2px rgba(0, 0, 0, 0.3));\n",
              "      fill: #FFFFFF;\n",
              "    }\n",
              "  </style>\n",
              "\n",
              "      <script>\n",
              "        const buttonEl =\n",
              "          document.querySelector('#df-fda3ab1d-04f4-4c8c-820d-5f23ee80ee36 button.colab-df-convert');\n",
              "        buttonEl.style.display =\n",
              "          google.colab.kernel.accessAllowed ? 'block' : 'none';\n",
              "\n",
              "        async function convertToInteractive(key) {\n",
              "          const element = document.querySelector('#df-fda3ab1d-04f4-4c8c-820d-5f23ee80ee36');\n",
              "          const dataTable =\n",
              "            await google.colab.kernel.invokeFunction('convertToInteractive',\n",
              "                                                     [key], {});\n",
              "          if (!dataTable) return;\n",
              "\n",
              "          const docLinkHtml = 'Like what you see? Visit the ' +\n",
              "            '<a target=\"_blank\" href=https://colab.research.google.com/notebooks/data_table.ipynb>data table notebook</a>'\n",
              "            + ' to learn more about interactive tables.';\n",
              "          element.innerHTML = '';\n",
              "          dataTable['output_type'] = 'display_data';\n",
              "          await google.colab.output.renderOutput(dataTable, element);\n",
              "          const docLink = document.createElement('div');\n",
              "          docLink.innerHTML = docLinkHtml;\n",
              "          element.appendChild(docLink);\n",
              "        }\n",
              "      </script>\n",
              "    </div>\n",
              "  </div>\n",
              "  "
            ]
          },
          "metadata": {},
          "execution_count": 8
        }
      ],
      "source": [
        "tweets2_df.head()"
      ]
    },
    {
      "cell_type": "code",
      "execution_count": null,
      "metadata": {
        "colab": {
          "base_uri": "https://localhost:8080/"
        },
        "id": "z04DzJxUZM48",
        "outputId": "bd0f1c49-ad36-4607-a8af-50d4fe0c2065"
      },
      "outputs": [
        {
          "output_type": "execute_result",
          "data": {
            "text/plain": [
              "(array([3099.,    0.,    0.,    0.,    0., 2363.,    0.,    0.,    0.,\n",
              "        9178.]),\n",
              " array([0. , 0.2, 0.4, 0.6, 0.8, 1. , 1.2, 1.4, 1.6, 1.8, 2. ]),\n",
              " <BarContainer object of 10 artists>)"
            ]
          },
          "metadata": {},
          "execution_count": 9
        },
        {
          "output_type": "display_data",
          "data": {
            "text/plain": [
              "<Figure size 432x288 with 1 Axes>"
            ],
            "image/png": "[encoded data removed]"
          },
          "metadata": {
            "needs_background": "light"
          }
        }
      ],
      "source": [
        "plt.hist(tweets2_df.airline_sentiment)"
      ]
    },
    {
      "cell_type": "code",
      "execution_count": null,
      "metadata": {
        "colab": {
          "base_uri": "https://localhost:8080/"
        },
        "id": "qg3DwgR_ef5h",
        "outputId": "825e3cde-52a4-4c06-d06c-2c37e874f033"
      },
      "outputs": [
        {
          "output_type": "execute_result",
          "data": {
            "text/plain": [
              "Index(['tweet_id', 'airline_sentiment', 'airline_sentiment_confidence',\n",
              "       'negativereason', 'negativereason_confidence', 'airline',\n",
              "       'airline_sentiment_gold', 'name', 'negativereason_gold',\n",
              "       'retweet_count', 'text', 'tweet_coord', 'tweet_created',\n",
              "       'tweet_location', 'user_timezone'],\n",
              "      dtype='object')"
            ]
          },
          "metadata": {},
          "execution_count": 10
        }
      ],
      "source": [
        "tweets2_df.columns"
      ]
    },
    {
      "cell_type": "code",
      "execution_count": null,
      "metadata": {
        "id": "gYhPW7iSef_j"
      },
      "outputs": [],
      "source": [
        "tweets2_df.drop(['tweet_id', 'airline_sentiment_confidence',\n",
        "       'negativereason', 'negativereason_confidence', 'airline',\n",
        "       'airline_sentiment_gold', 'name', 'negativereason_gold',\n",
        "       'retweet_count', 'tweet_coord', 'tweet_created',\n",
        "       'tweet_location', 'user_timezone'],axis=1,inplace=True)"
      ]
    },
    {
      "cell_type": "code",
      "execution_count": null,
      "metadata": {
        "id": "M2gSmOWGfQDG"
      },
      "outputs": [],
      "source": [
        "tweets2_df.rename(columns={'airline_sentiment':'sentiment'},inplace=True)"
      ]
    },
    {
      "cell_type": "code",
      "execution_count": null,
      "metadata": {
        "colab": {
          "base_uri": "https://localhost:8080/"
        },
        "id": "RjLmwrBxegGh",
        "outputId": "40ec4f55-4c5b-4983-ca16-0ab6c0a20a68"
      },
      "outputs": [
        {
          "output_type": "execute_result",
          "data": {
            "text/plain": [
              "  sentiment                                               text\n",
              "0   neutral                @VirginAmerica What @dhepburn said.\n",
              "1  positive  @VirginAmerica plus you've added commercials t...\n",
              "2   neutral  @VirginAmerica I didn't today... Must mean I n...\n",
              "3  negative  @VirginAmerica it's really aggressive to blast...\n",
              "4  negative  @VirginAmerica and it's a really big bad thing..."
            ],
            "text/html": [
              "\n",
              "  <div id=\"df-56b1af4f-9c96-490d-9c39-97b5daf02d3a\">\n",
              "    <div class=\"colab-df-container\">\n",
              "      <div>\n",
              "<style scoped>\n",
              "    .dataframe tbody tr th:only-of-type {\n",
              "        vertical-align: middle;\n",
              "    }\n",
              "\n",
              "    .dataframe tbody tr th {\n",
              "        vertical-align: top;\n",
              "    }\n",
              "\n",
              "    .dataframe thead th {\n",
              "        text-align: right;\n",
              "    }\n",
              "</style>\n",
              "<table border=\"1\" class=\"dataframe\">\n",
              "  <thead>\n",
              "    <tr style=\"text-align: right;\">\n",
              "      <th></th>\n",
              "      <th>sentiment</th>\n",
              "      <th>text</th>\n",
              "    </tr>\n",
              "  </thead>\n",
              "  <tbody>\n",
              "    <tr>\n",
              "      <th>0</th>\n",
              "      <td>neutral</td>\n",
              "      <td>@VirginAmerica What @dhepburn said.</td>\n",
              "    </tr>\n",
              "    <tr>\n",
              "      <th>1</th>\n",
              "      <td>positive</td>\n",
              "      <td>@VirginAmerica plus you've added commercials t...</td>\n",
              "    </tr>\n",
              "    <tr>\n",
              "      <th>2</th>\n",
              "      <td>neutral</td>\n",
              "      <td>@VirginAmerica I didn't today... Must mean I n...</td>\n",
              "    </tr>\n",
              "    <tr>\n",
              "      <th>3</th>\n",
              "      <td>negative</td>\n",
              "      <td>@VirginAmerica it's really aggressive to blast...</td>\n",
              "    </tr>\n",
              "    <tr>\n",
              "      <th>4</th>\n",
              "      <td>negative</td>\n",
              "      <td>@VirginAmerica and it's a really big bad thing...</td>\n",
              "    </tr>\n",
              "  </tbody>\n",
              "</table>\n",
              "</div>\n",
              "      <button class=\"colab-df-convert\" onclick=\"convertToInteractive('df-56b1af4f-9c96-490d-9c39-97b5daf02d3a')\"\n",
              "              title=\"Convert this dataframe to an interactive table.\"\n",
              "              style=\"display:none;\">\n",
              "        \n",
              "  <svg xmlns=\"http://www.w3.org/2000/svg\" height=\"24px\"viewBox=\"0 0 24 24\"\n",
              "       width=\"24px\">\n",
              "    <path d=\"M0 0h24v24H0V0z\" fill=\"none\"/>\n",
              "    <path d=\"M18.56 5.44l.94 2.06.94-2.06 2.06-.94-2.06-.94-.94-2.06-.94 2.06-2.06.94zm-11 1L8.5 8.5l.94-2.06 2.06-.94-2.06-.94L8.5 2.5l-.94 2.06-2.06.94zm10 10l.94 2.06.94-2.06 2.06-.94-2.06-.94-.94-2.06-.94 2.06-2.06.94z\"/><path d=\"M17.41 7.96l-1.37-1.37c-.4-.4-.92-.59-1.43-.59-.52 0-1.04.2-1.43.59L10.3 9.45l-7.72 7.72c-.78.78-.78 2.05 0 2.83L4 21.41c.39.39.9.59 1.41.59.51 0 1.02-.2 1.41-.59l7.78-7.78 2.81-2.81c.8-.78.8-2.07 0-2.86zM5.41 20L4 18.59l7.72-7.72 1.47 1.35L5.41 20z\"/>\n",
              "  </svg>\n",
              "      </button>\n",
              "      \n",
              "  <style>\n",
              "    .colab-df-container {\n",
              "      display:flex;\n",
              "      flex-wrap:wrap;\n",
              "      gap: 12px;\n",
              "    }\n",
              "\n",
              "    .colab-df-convert {\n",
              "      background-color: #E8F0FE;\n",
              "      border: none;\n",
              "      border-radius: 50%;\n",
              "      cursor: pointer;\n",
              "      display: none;\n",
              "      fill: #1967D2;\n",
              "      height: 32px;\n",
              "      padding: 0 0 0 0;\n",
              "      width: 32px;\n",
              "    }\n",
              "\n",
              "    .colab-df-convert:hover {\n",
              "      background-color: #E2EBFA;\n",
              "      box-shadow: 0px 1px 2px rgba(60, 64, 67, 0.3), 0px 1px 3px 1px rgba(60, 64, 67, 0.15);\n",
              "      fill: #174EA6;\n",
              "    }\n",
              "\n",
              "    [theme=dark] .colab-df-convert {\n",
              "      background-color: #3B4455;\n",
              "      fill: #D2E3FC;\n",
              "    }\n",
              "\n",
              "    [theme=dark] .colab-df-convert:hover {\n",
              "      background-color: #434B5C;\n",
              "      box-shadow: 0px 1px 3px 1px rgba(0, 0, 0, 0.15);\n",
              "      filter: drop-shadow(0px 1px 2px rgba(0, 0, 0, 0.3));\n",
              "      fill: #FFFFFF;\n",
              "    }\n",
              "  </style>\n",
              "\n",
              "      <script>\n",
              "        const buttonEl =\n",
              "          document.querySelector('#df-56b1af4f-9c96-490d-9c39-97b5daf02d3a button.colab-df-convert');\n",
              "        buttonEl.style.display =\n",
              "          google.colab.kernel.accessAllowed ? 'block' : 'none';\n",
              "\n",
              "        async function convertToInteractive(key) {\n",
              "          const element = document.querySelector('#df-56b1af4f-9c96-490d-9c39-97b5daf02d3a');\n",
              "          const dataTable =\n",
              "            await google.colab.kernel.invokeFunction('convertToInteractive',\n",
              "                                                     [key], {});\n",
              "          if (!dataTable) return;\n",
              "\n",
              "          const docLinkHtml = 'Like what you see? Visit the ' +\n",
              "            '<a target=\"_blank\" href=https://colab.research.google.com/notebooks/data_table.ipynb>data table notebook</a>'\n",
              "            + ' to learn more about interactive tables.';\n",
              "          element.innerHTML = '';\n",
              "          dataTable['output_type'] = 'display_data';\n",
              "          await google.colab.output.renderOutput(dataTable, element);\n",
              "          const docLink = document.createElement('div');\n",
              "          docLink.innerHTML = docLinkHtml;\n",
              "          element.appendChild(docLink);\n",
              "        }\n",
              "      </script>\n",
              "    </div>\n",
              "  </div>\n",
              "  "
            ]
          },
          "metadata": {},
          "execution_count": 13
        }
      ],
      "source": [
        "tweets2_df.head()"
      ]
    },
    {
      "cell_type": "code",
      "execution_count": null,
      "metadata": {
        "id": "s5r_vf67fQLj"
      },
      "outputs": [],
      "source": []
    },
    {
      "cell_type": "markdown",
      "metadata": {
        "id": "aCPW0iLZm3hb"
      },
      "source": [
        "Tweets df"
      ]
    },
    {
      "cell_type": "code",
      "execution_count": null,
      "metadata": {
        "colab": {
          "base_uri": "https://localhost:8080/"
        },
        "id": "N1JQsvr5bHPF",
        "outputId": "96cfa933-a07d-4023-8ce8-1d61e6d4184a"
      },
      "outputs": [
        {
          "output_type": "stream",
          "name": "stdout",
          "text": [
            "Downloading twitter-tweets-sentiment-dataset.zip to /content\n",
            "\r  0% 0.00/1.23M [00:00<?, ?B/s]\n",
            "\r100% 1.23M/1.23M [00:00<00:00, 137MB/s]\n"
          ]
        }
      ],
      "source": [
        "# 40% neutral\n",
        "# https://www.kaggle.com/datasets/yasserh/twitter-tweets-sentiment-dataset\n",
        "\n",
        "!kaggle datasets download -d yasserh/twitter-tweets-sentiment-dataset"
      ]
    },
    {
      "cell_type": "code",
      "execution_count": null,
      "metadata": {
        "colab": {
          "base_uri": "https://localhost:8080/"
        },
        "id": "htaN0a5lmmVy",
        "outputId": "1c940c19-1c98-47ce-89ae-68493b18e096"
      },
      "outputs": [
        {
          "output_type": "stream",
          "name": "stdout",
          "text": [
            "Archive:  /content/twitter-tweets-sentiment-dataset.zip\n",
            "  inflating: Tweets.csv              \n"
          ]
        }
      ],
      "source": [
        "!unzip /content/twitter-tweets-sentiment-dataset.zip"
      ]
    },
    {
      "cell_type": "code",
      "execution_count": null,
      "metadata": {
        "colab": {
          "base_uri": "https://localhost:8080/"
        },
        "id": "Cnif5vw_mvrR",
        "outputId": "3fa0e690-5f6d-4962-9cf5-57d85cceaafb"
      },
      "outputs": [
        {
          "output_type": "execute_result",
          "data": {
            "text/plain": [
              "(27481, 4)"
            ]
          },
          "metadata": {},
          "execution_count": 16
        }
      ],
      "source": [
        "tweets_df = pd.read_csv('/content/Tweets.csv')\n",
        "tweets_df.shape"
      ]
    },
    {
      "cell_type": "code",
      "execution_count": null,
      "metadata": {
        "colab": {
          "base_uri": "https://localhost:8080/"
        },
        "id": "ruP8Y4UrnEoZ",
        "outputId": "96166645-6f57-4da1-99a9-ef8ba325b68c"
      },
      "outputs": [
        {
          "output_type": "execute_result",
          "data": {
            "text/plain": [
              "       textID                                               text  \\\n",
              "0  cb774db0d1                I`d have responded, if I were going   \n",
              "1  549e992a42      Sooo SAD I will miss you here in San Diego!!!   \n",
              "2  088c60f138                          my boss is bullying me...   \n",
              "3  9642c003ef                     what interview! leave me alone   \n",
              "4  358bd9e861   Sons of ****, why couldn`t they put them on t...   \n",
              "\n",
              "                         selected_text sentiment  \n",
              "0  I`d have responded, if I were going   neutral  \n",
              "1                             Sooo SAD  negative  \n",
              "2                          bullying me  negative  \n",
              "3                       leave me alone  negative  \n",
              "4                        Sons of ****,  negative  "
            ],
            "text/html": [
              "\n",
              "  <div id=\"df-10b38d6b-812a-4523-8ad1-72a889a83ffd\">\n",
              "    <div class=\"colab-df-container\">\n",
              "      <div>\n",
              "<style scoped>\n",
              "    .dataframe tbody tr th:only-of-type {\n",
              "        vertical-align: middle;\n",
              "    }\n",
              "\n",
              "    .dataframe tbody tr th {\n",
              "        vertical-align: top;\n",
              "    }\n",
              "\n",
              "    .dataframe thead th {\n",
              "        text-align: right;\n",
              "    }\n",
              "</style>\n",
              "<table border=\"1\" class=\"dataframe\">\n",
              "  <thead>\n",
              "    <tr style=\"text-align: right;\">\n",
              "      <th></th>\n",
              "      <th>textID</th>\n",
              "      <th>text</th>\n",
              "      <th>selected_text</th>\n",
              "      <th>sentiment</th>\n",
              "    </tr>\n",
              "  </thead>\n",
              "  <tbody>\n",
              "    <tr>\n",
              "      <th>0</th>\n",
              "      <td>cb774db0d1</td>\n",
              "      <td>I`d have responded, if I were going</td>\n",
              "      <td>I`d have responded, if I were going</td>\n",
              "      <td>neutral</td>\n",
              "    </tr>\n",
              "    <tr>\n",
              "      <th>1</th>\n",
              "      <td>549e992a42</td>\n",
              "      <td>Sooo SAD I will miss you here in San Diego!!!</td>\n",
              "      <td>Sooo SAD</td>\n",
              "      <td>negative</td>\n",
              "    </tr>\n",
              "    <tr>\n",
              "      <th>2</th>\n",
              "      <td>088c60f138</td>\n",
              "      <td>my boss is bullying me...</td>\n",
              "      <td>bullying me</td>\n",
              "      <td>negative</td>\n",
              "    </tr>\n",
              "    <tr>\n",
              "      <th>3</th>\n",
              "      <td>9642c003ef</td>\n",
              "      <td>what interview! leave me alone</td>\n",
              "      <td>leave me alone</td>\n",
              "      <td>negative</td>\n",
              "    </tr>\n",
              "    <tr>\n",
              "      <th>4</th>\n",
              "      <td>358bd9e861</td>\n",
              "      <td>Sons of ****, why couldn`t they put them on t...</td>\n",
              "      <td>Sons of ****,</td>\n",
              "      <td>negative</td>\n",
              "    </tr>\n",
              "  </tbody>\n",
              "</table>\n",
              "</div>\n",
              "      <button class=\"colab-df-convert\" onclick=\"convertToInteractive('df-10b38d6b-812a-4523-8ad1-72a889a83ffd')\"\n",
              "              title=\"Convert this dataframe to an interactive table.\"\n",
              "              style=\"display:none;\">\n",
              "        \n",
              "  <svg xmlns=\"http://www.w3.org/2000/svg\" height=\"24px\"viewBox=\"0 0 24 24\"\n",
              "       width=\"24px\">\n",
              "    <path d=\"M0 0h24v24H0V0z\" fill=\"none\"/>\n",
              "    <path d=\"M18.56 5.44l.94 2.06.94-2.06 2.06-.94-2.06-.94-.94-2.06-.94 2.06-2.06.94zm-11 1L8.5 8.5l.94-2.06 2.06-.94-2.06-.94L8.5 2.5l-.94 2.06-2.06.94zm10 10l.94 2.06.94-2.06 2.06-.94-2.06-.94-.94-2.06-.94 2.06-2.06.94z\"/><path d=\"M17.41 7.96l-1.37-1.37c-.4-.4-.92-.59-1.43-.59-.52 0-1.04.2-1.43.59L10.3 9.45l-7.72 7.72c-.78.78-.78 2.05 0 2.83L4 21.41c.39.39.9.59 1.41.59.51 0 1.02-.2 1.41-.59l7.78-7.78 2.81-2.81c.8-.78.8-2.07 0-2.86zM5.41 20L4 18.59l7.72-7.72 1.47 1.35L5.41 20z\"/>\n",
              "  </svg>\n",
              "      </button>\n",
              "      \n",
              "  <style>\n",
              "    .colab-df-container {\n",
              "      display:flex;\n",
              "      flex-wrap:wrap;\n",
              "      gap: 12px;\n",
              "    }\n",
              "\n",
              "    .colab-df-convert {\n",
              "      background-color: #E8F0FE;\n",
              "      border: none;\n",
              "      border-radius: 50%;\n",
              "      cursor: pointer;\n",
              "      display: none;\n",
              "      fill: #1967D2;\n",
              "      height: 32px;\n",
              "      padding: 0 0 0 0;\n",
              "      width: 32px;\n",
              "    }\n",
              "\n",
              "    .colab-df-convert:hover {\n",
              "      background-color: #E2EBFA;\n",
              "      box-shadow: 0px 1px 2px rgba(60, 64, 67, 0.3), 0px 1px 3px 1px rgba(60, 64, 67, 0.15);\n",
              "      fill: #174EA6;\n",
              "    }\n",
              "\n",
              "    [theme=dark] .colab-df-convert {\n",
              "      background-color: #3B4455;\n",
              "      fill: #D2E3FC;\n",
              "    }\n",
              "\n",
              "    [theme=dark] .colab-df-convert:hover {\n",
              "      background-color: #434B5C;\n",
              "      box-shadow: 0px 1px 3px 1px rgba(0, 0, 0, 0.15);\n",
              "      filter: drop-shadow(0px 1px 2px rgba(0, 0, 0, 0.3));\n",
              "      fill: #FFFFFF;\n",
              "    }\n",
              "  </style>\n",
              "\n",
              "      <script>\n",
              "        const buttonEl =\n",
              "          document.querySelector('#df-10b38d6b-812a-4523-8ad1-72a889a83ffd button.colab-df-convert');\n",
              "        buttonEl.style.display =\n",
              "          google.colab.kernel.accessAllowed ? 'block' : 'none';\n",
              "\n",
              "        async function convertToInteractive(key) {\n",
              "          const element = document.querySelector('#df-10b38d6b-812a-4523-8ad1-72a889a83ffd');\n",
              "          const dataTable =\n",
              "            await google.colab.kernel.invokeFunction('convertToInteractive',\n",
              "                                                     [key], {});\n",
              "          if (!dataTable) return;\n",
              "\n",
              "          const docLinkHtml = 'Like what you see? Visit the ' +\n",
              "            '<a target=\"_blank\" href=https://colab.research.google.com/notebooks/data_table.ipynb>data table notebook</a>'\n",
              "            + ' to learn more about interactive tables.';\n",
              "          element.innerHTML = '';\n",
              "          dataTable['output_type'] = 'display_data';\n",
              "          await google.colab.output.renderOutput(dataTable, element);\n",
              "          const docLink = document.createElement('div');\n",
              "          docLink.innerHTML = docLinkHtml;\n",
              "          element.appendChild(docLink);\n",
              "        }\n",
              "      </script>\n",
              "    </div>\n",
              "  </div>\n",
              "  "
            ]
          },
          "metadata": {},
          "execution_count": 17
        }
      ],
      "source": [
        "tweets_df.head()"
      ]
    },
    {
      "cell_type": "code",
      "execution_count": null,
      "metadata": {
        "colab": {
          "base_uri": "https://localhost:8080/"
        },
        "id": "-R84V5LVDoCr",
        "outputId": "6b6b8457-904d-4aae-c9ec-df4896f504ee"
      },
      "outputs": [
        {
          "output_type": "execute_result",
          "data": {
            "text/plain": [
              "(27481, 4)"
            ]
          },
          "metadata": {},
          "execution_count": 18
        }
      ],
      "source": [
        "tweets_df.shape"
      ]
    },
    {
      "cell_type": "code",
      "execution_count": null,
      "metadata": {
        "colab": {
          "base_uri": "https://localhost:8080/"
        },
        "id": "t4eCps_JoOAR",
        "outputId": "8615eeb4-b961-4b54-dc8a-497718918363"
      },
      "outputs": [
        {
          "output_type": "execute_result",
          "data": {
            "text/plain": [
              "(array([11118.,     0.,     0.,     0.,     0.,  7781.,     0.,     0.,\n",
              "            0.,  8582.]),\n",
              " array([0. , 0.2, 0.4, 0.6, 0.8, 1. , 1.2, 1.4, 1.6, 1.8, 2. ]),\n",
              " <BarContainer object of 10 artists>)"
            ]
          },
          "metadata": {},
          "execution_count": 19
        },
        {
          "output_type": "display_data",
          "data": {
            "text/plain": [
              "<Figure size 432x288 with 1 Axes>"
            ],
            "image/png": "[encoded data removed]"
          },
          "metadata": {
            "needs_background": "light"
          }
        }
      ],
      "source": [
        "plt.hist(tweets_df.sentiment)"
      ]
    },
    {
      "cell_type": "code",
      "execution_count": null,
      "metadata": {
        "colab": {
          "base_uri": "https://localhost:8080/"
        },
        "id": "_CFd4riKnFom",
        "outputId": "694411f9-e8ea-4c4e-c1f5-3212f4e15a2a"
      },
      "outputs": [
        {
          "output_type": "execute_result",
          "data": {
            "text/plain": [
              "Index(['textID', 'text', 'selected_text', 'sentiment'], dtype='object')"
            ]
          },
          "metadata": {},
          "execution_count": 20
        }
      ],
      "source": [
        "tweets_df.columns"
      ]
    },
    {
      "cell_type": "code",
      "execution_count": null,
      "metadata": {
        "id": "NYF90csDnFvo"
      },
      "outputs": [],
      "source": [
        "tweets_df.drop(['textID', 'selected_text'],axis=1,inplace=True)"
      ]
    },
    {
      "cell_type": "code",
      "execution_count": null,
      "metadata": {
        "colab": {
          "base_uri": "https://localhost:8080/"
        },
        "id": "GiM--b_2nF6F",
        "outputId": "a7f9b7db-2061-4c04-85af-96e876079e49"
      },
      "outputs": [
        {
          "output_type": "execute_result",
          "data": {
            "text/plain": [
              "  sentiment                                               text\n",
              "0   neutral                I`d have responded, if I were going\n",
              "1  negative      Sooo SAD I will miss you here in San Diego!!!\n",
              "2  negative                          my boss is bullying me...\n",
              "3  negative                     what interview! leave me alone\n",
              "4  negative   Sons of ****, why couldn`t they put them on t..."
            ],
            "text/html": [
              "\n",
              "  <div id=\"df-c758b59a-cd10-4e2d-b2a7-72ae741fa1cc\">\n",
              "    <div class=\"colab-df-container\">\n",
              "      <div>\n",
              "<style scoped>\n",
              "    .dataframe tbody tr th:only-of-type {\n",
              "        vertical-align: middle;\n",
              "    }\n",
              "\n",
              "    .dataframe tbody tr th {\n",
              "        vertical-align: top;\n",
              "    }\n",
              "\n",
              "    .dataframe thead th {\n",
              "        text-align: right;\n",
              "    }\n",
              "</style>\n",
              "<table border=\"1\" class=\"dataframe\">\n",
              "  <thead>\n",
              "    <tr style=\"text-align: right;\">\n",
              "      <th></th>\n",
              "      <th>sentiment</th>\n",
              "      <th>text</th>\n",
              "    </tr>\n",
              "  </thead>\n",
              "  <tbody>\n",
              "    <tr>\n",
              "      <th>0</th>\n",
              "      <td>neutral</td>\n",
              "      <td>I`d have responded, if I were going</td>\n",
              "    </tr>\n",
              "    <tr>\n",
              "      <th>1</th>\n",
              "      <td>negative</td>\n",
              "      <td>Sooo SAD I will miss you here in San Diego!!!</td>\n",
              "    </tr>\n",
              "    <tr>\n",
              "      <th>2</th>\n",
              "      <td>negative</td>\n",
              "      <td>my boss is bullying me...</td>\n",
              "    </tr>\n",
              "    <tr>\n",
              "      <th>3</th>\n",
              "      <td>negative</td>\n",
              "      <td>what interview! leave me alone</td>\n",
              "    </tr>\n",
              "    <tr>\n",
              "      <th>4</th>\n",
              "      <td>negative</td>\n",
              "      <td>Sons of ****, why couldn`t they put them on t...</td>\n",
              "    </tr>\n",
              "  </tbody>\n",
              "</table>\n",
              "</div>\n",
              "      <button class=\"colab-df-convert\" onclick=\"convertToInteractive('df-c758b59a-cd10-4e2d-b2a7-72ae741fa1cc')\"\n",
              "              title=\"Convert this dataframe to an interactive table.\"\n",
              "              style=\"display:none;\">\n",
              "        \n",
              "  <svg xmlns=\"http://www.w3.org/2000/svg\" height=\"24px\"viewBox=\"0 0 24 24\"\n",
              "       width=\"24px\">\n",
              "    <path d=\"M0 0h24v24H0V0z\" fill=\"none\"/>\n",
              "    <path d=\"M18.56 5.44l.94 2.06.94-2.06 2.06-.94-2.06-.94-.94-2.06-.94 2.06-2.06.94zm-11 1L8.5 8.5l.94-2.06 2.06-.94-2.06-.94L8.5 2.5l-.94 2.06-2.06.94zm10 10l.94 2.06.94-2.06 2.06-.94-2.06-.94-.94-2.06-.94 2.06-2.06.94z\"/><path d=\"M17.41 7.96l-1.37-1.37c-.4-.4-.92-.59-1.43-.59-.52 0-1.04.2-1.43.59L10.3 9.45l-7.72 7.72c-.78.78-.78 2.05 0 2.83L4 21.41c.39.39.9.59 1.41.59.51 0 1.02-.2 1.41-.59l7.78-7.78 2.81-2.81c.8-.78.8-2.07 0-2.86zM5.41 20L4 18.59l7.72-7.72 1.47 1.35L5.41 20z\"/>\n",
              "  </svg>\n",
              "      </button>\n",
              "      \n",
              "  <style>\n",
              "    .colab-df-container {\n",
              "      display:flex;\n",
              "      flex-wrap:wrap;\n",
              "      gap: 12px;\n",
              "    }\n",
              "\n",
              "    .colab-df-convert {\n",
              "      background-color: #E8F0FE;\n",
              "      border: none;\n",
              "      border-radius: 50%;\n",
              "      cursor: pointer;\n",
              "      display: none;\n",
              "      fill: #1967D2;\n",
              "      height: 32px;\n",
              "      padding: 0 0 0 0;\n",
              "      width: 32px;\n",
              "    }\n",
              "\n",
              "    .colab-df-convert:hover {\n",
              "      background-color: #E2EBFA;\n",
              "      box-shadow: 0px 1px 2px rgba(60, 64, 67, 0.3), 0px 1px 3px 1px rgba(60, 64, 67, 0.15);\n",
              "      fill: #174EA6;\n",
              "    }\n",
              "\n",
              "    [theme=dark] .colab-df-convert {\n",
              "      background-color: #3B4455;\n",
              "      fill: #D2E3FC;\n",
              "    }\n",
              "\n",
              "    [theme=dark] .colab-df-convert:hover {\n",
              "      background-color: #434B5C;\n",
              "      box-shadow: 0px 1px 3px 1px rgba(0, 0, 0, 0.15);\n",
              "      filter: drop-shadow(0px 1px 2px rgba(0, 0, 0, 0.3));\n",
              "      fill: #FFFFFF;\n",
              "    }\n",
              "  </style>\n",
              "\n",
              "      <script>\n",
              "        const buttonEl =\n",
              "          document.querySelector('#df-c758b59a-cd10-4e2d-b2a7-72ae741fa1cc button.colab-df-convert');\n",
              "        buttonEl.style.display =\n",
              "          google.colab.kernel.accessAllowed ? 'block' : 'none';\n",
              "\n",
              "        async function convertToInteractive(key) {\n",
              "          const element = document.querySelector('#df-c758b59a-cd10-4e2d-b2a7-72ae741fa1cc');\n",
              "          const dataTable =\n",
              "            await google.colab.kernel.invokeFunction('convertToInteractive',\n",
              "                                                     [key], {});\n",
              "          if (!dataTable) return;\n",
              "\n",
              "          const docLinkHtml = 'Like what you see? Visit the ' +\n",
              "            '<a target=\"_blank\" href=https://colab.research.google.com/notebooks/data_table.ipynb>data table notebook</a>'\n",
              "            + ' to learn more about interactive tables.';\n",
              "          element.innerHTML = '';\n",
              "          dataTable['output_type'] = 'display_data';\n",
              "          await google.colab.output.renderOutput(dataTable, element);\n",
              "          const docLink = document.createElement('div');\n",
              "          docLink.innerHTML = docLinkHtml;\n",
              "          element.appendChild(docLink);\n",
              "        }\n",
              "      </script>\n",
              "    </div>\n",
              "  </div>\n",
              "  "
            ]
          },
          "metadata": {},
          "execution_count": 22
        }
      ],
      "source": [
        "tweets_df = tweets_df.reindex(columns=['sentiment','text'])\n",
        "tweets_df.head()\n"
      ]
    },
    {
      "cell_type": "code",
      "execution_count": null,
      "metadata": {
        "colab": {
          "base_uri": "https://localhost:8080/"
        },
        "id": "uwchctVQnGA9",
        "outputId": "343987bf-e5f4-4b6d-8e4a-6e7c002bca56"
      },
      "outputs": [
        {
          "output_type": "execute_result",
          "data": {
            "text/plain": [
              "           count unique                                   top   freq\n",
              "sentiment  27481      3                               neutral  11118\n",
              "text       27480  27480   I`d have responded, if I were going      1"
            ],
            "text/html": [
              "\n",
              "  <div id=\"df-da0b6200-7440-44c8-a4d5-e3ba322a43fb\">\n",
              "    <div class=\"colab-df-container\">\n",
              "      <div>\n",
              "<style scoped>\n",
              "    .dataframe tbody tr th:only-of-type {\n",
              "        vertical-align: middle;\n",
              "    }\n",
              "\n",
              "    .dataframe tbody tr th {\n",
              "        vertical-align: top;\n",
              "    }\n",
              "\n",
              "    .dataframe thead th {\n",
              "        text-align: right;\n",
              "    }\n",
              "</style>\n",
              "<table border=\"1\" class=\"dataframe\">\n",
              "  <thead>\n",
              "    <tr style=\"text-align: right;\">\n",
              "      <th></th>\n",
              "      <th>count</th>\n",
              "      <th>unique</th>\n",
              "      <th>top</th>\n",
              "      <th>freq</th>\n",
              "    </tr>\n",
              "  </thead>\n",
              "  <tbody>\n",
              "    <tr>\n",
              "      <th>sentiment</th>\n",
              "      <td>27481</td>\n",
              "      <td>3</td>\n",
              "      <td>neutral</td>\n",
              "      <td>11118</td>\n",
              "    </tr>\n",
              "    <tr>\n",
              "      <th>text</th>\n",
              "      <td>27480</td>\n",
              "      <td>27480</td>\n",
              "      <td>I`d have responded, if I were going</td>\n",
              "      <td>1</td>\n",
              "    </tr>\n",
              "  </tbody>\n",
              "</table>\n",
              "</div>\n",
              "      <button class=\"colab-df-convert\" onclick=\"convertToInteractive('df-da0b6200-7440-44c8-a4d5-e3ba322a43fb')\"\n",
              "              title=\"Convert this dataframe to an interactive table.\"\n",
              "              style=\"display:none;\">\n",
              "        \n",
              "  <svg xmlns=\"http://www.w3.org/2000/svg\" height=\"24px\"viewBox=\"0 0 24 24\"\n",
              "       width=\"24px\">\n",
              "    <path d=\"M0 0h24v24H0V0z\" fill=\"none\"/>\n",
              "    <path d=\"M18.56 5.44l.94 2.06.94-2.06 2.06-.94-2.06-.94-.94-2.06-.94 2.06-2.06.94zm-11 1L8.5 8.5l.94-2.06 2.06-.94-2.06-.94L8.5 2.5l-.94 2.06-2.06.94zm10 10l.94 2.06.94-2.06 2.06-.94-2.06-.94-.94-2.06-.94 2.06-2.06.94z\"/><path d=\"M17.41 7.96l-1.37-1.37c-.4-.4-.92-.59-1.43-.59-.52 0-1.04.2-1.43.59L10.3 9.45l-7.72 7.72c-.78.78-.78 2.05 0 2.83L4 21.41c.39.39.9.59 1.41.59.51 0 1.02-.2 1.41-.59l7.78-7.78 2.81-2.81c.8-.78.8-2.07 0-2.86zM5.41 20L4 18.59l7.72-7.72 1.47 1.35L5.41 20z\"/>\n",
              "  </svg>\n",
              "      </button>\n",
              "      \n",
              "  <style>\n",
              "    .colab-df-container {\n",
              "      display:flex;\n",
              "      flex-wrap:wrap;\n",
              "      gap: 12px;\n",
              "    }\n",
              "\n",
              "    .colab-df-convert {\n",
              "      background-color: #E8F0FE;\n",
              "      border: none;\n",
              "      border-radius: 50%;\n",
              "      cursor: pointer;\n",
              "      display: none;\n",
              "      fill: #1967D2;\n",
              "      height: 32px;\n",
              "      padding: 0 0 0 0;\n",
              "      width: 32px;\n",
              "    }\n",
              "\n",
              "    .colab-df-convert:hover {\n",
              "      background-color: #E2EBFA;\n",
              "      box-shadow: 0px 1px 2px rgba(60, 64, 67, 0.3), 0px 1px 3px 1px rgba(60, 64, 67, 0.15);\n",
              "      fill: #174EA6;\n",
              "    }\n",
              "\n",
              "    [theme=dark] .colab-df-convert {\n",
              "      background-color: #3B4455;\n",
              "      fill: #D2E3FC;\n",
              "    }\n",
              "\n",
              "    [theme=dark] .colab-df-convert:hover {\n",
              "      background-color: #434B5C;\n",
              "      box-shadow: 0px 1px 3px 1px rgba(0, 0, 0, 0.15);\n",
              "      filter: drop-shadow(0px 1px 2px rgba(0, 0, 0, 0.3));\n",
              "      fill: #FFFFFF;\n",
              "    }\n",
              "  </style>\n",
              "\n",
              "      <script>\n",
              "        const buttonEl =\n",
              "          document.querySelector('#df-da0b6200-7440-44c8-a4d5-e3ba322a43fb button.colab-df-convert');\n",
              "        buttonEl.style.display =\n",
              "          google.colab.kernel.accessAllowed ? 'block' : 'none';\n",
              "\n",
              "        async function convertToInteractive(key) {\n",
              "          const element = document.querySelector('#df-da0b6200-7440-44c8-a4d5-e3ba322a43fb');\n",
              "          const dataTable =\n",
              "            await google.colab.kernel.invokeFunction('convertToInteractive',\n",
              "                                                     [key], {});\n",
              "          if (!dataTable) return;\n",
              "\n",
              "          const docLinkHtml = 'Like what you see? Visit the ' +\n",
              "            '<a target=\"_blank\" href=https://colab.research.google.com/notebooks/data_table.ipynb>data table notebook</a>'\n",
              "            + ' to learn more about interactive tables.';\n",
              "          element.innerHTML = '';\n",
              "          dataTable['output_type'] = 'display_data';\n",
              "          await google.colab.output.renderOutput(dataTable, element);\n",
              "          const docLink = document.createElement('div');\n",
              "          docLink.innerHTML = docLinkHtml;\n",
              "          element.appendChild(docLink);\n",
              "        }\n",
              "      </script>\n",
              "    </div>\n",
              "  </div>\n",
              "  "
            ]
          },
          "metadata": {},
          "execution_count": 23
        }
      ],
      "source": [
        "tweets_df.describe().T"
      ]
    },
    {
      "cell_type": "code",
      "execution_count": null,
      "metadata": {
        "colab": {
          "base_uri": "https://localhost:8080/"
        },
        "id": "Gcx-ONoznGHc",
        "outputId": "6a0241b4-fc3f-4a06-e1c9-67e18f0924dd"
      },
      "outputs": [
        {
          "output_type": "execute_result",
          "data": {
            "text/plain": [
              "188"
            ]
          },
          "metadata": {},
          "execution_count": 24
        }
      ],
      "source": [
        "tweets2_df.duplicated().sum()"
      ]
    },
    {
      "cell_type": "code",
      "execution_count": null,
      "metadata": {
        "id": "T8-3rG9kEDji"
      },
      "outputs": [],
      "source": [
        "tweets2_df.drop_duplicates(inplace=True)"
      ]
    },
    {
      "cell_type": "code",
      "execution_count": null,
      "metadata": {
        "id": "KSnVWW_Hq753"
      },
      "outputs": [],
      "source": []
    },
    {
      "cell_type": "markdown",
      "metadata": {
        "id": "7ly1CauhqlHf"
      },
      "source": [
        "Twitter_Data df"
      ]
    },
    {
      "cell_type": "code",
      "execution_count": null,
      "metadata": {
        "id": "erxrMQp8an7C"
      },
      "outputs": [],
      "source": [
        "# https://drive.google.com/file/d/1SVNAvK979QqKhn0PqU9aqplViJtWhGbQ/view?usp=sharing\n",
        "twitter_df = pd.read_csv('/content/gdrive/MyDrive/Arete/sentiment analysis task/Twitter_Data.csv')\n"
      ]
    },
    {
      "cell_type": "code",
      "execution_count": null,
      "metadata": {
        "colab": {
          "base_uri": "https://localhost:8080/"
        },
        "id": "Tc3JXlQya1Sj",
        "outputId": "ad7ded5e-df9c-4514-e9b4-b0b4b6815a0a"
      },
      "outputs": [
        {
          "output_type": "execute_result",
          "data": {
            "text/plain": [
              "                                          clean_text  category\n",
              "0  when modi promised “minimum government maximum...      -1.0\n",
              "1  talk all the nonsense and continue all the dra...       0.0\n",
              "2  what did just say vote for modi  welcome bjp t...       1.0\n",
              "3  asking his supporters prefix chowkidar their n...       1.0\n",
              "4  answer who among these the most powerful world...       1.0"
            ],
            "text/html": [
              "\n",
              "  <div id=\"df-cd8c0cf1-0e7d-4770-848d-59f5cd1b2a4e\">\n",
              "    <div class=\"colab-df-container\">\n",
              "      <div>\n",
              "<style scoped>\n",
              "    .dataframe tbody tr th:only-of-type {\n",
              "        vertical-align: middle;\n",
              "    }\n",
              "\n",
              "    .dataframe tbody tr th {\n",
              "        vertical-align: top;\n",
              "    }\n",
              "\n",
              "    .dataframe thead th {\n",
              "        text-align: right;\n",
              "    }\n",
              "</style>\n",
              "<table border=\"1\" class=\"dataframe\">\n",
              "  <thead>\n",
              "    <tr style=\"text-align: right;\">\n",
              "      <th></th>\n",
              "      <th>clean_text</th>\n",
              "      <th>category</th>\n",
              "    </tr>\n",
              "  </thead>\n",
              "  <tbody>\n",
              "    <tr>\n",
              "      <th>0</th>\n",
              "      <td>when modi promised “minimum government maximum...</td>\n",
              "      <td>-1.0</td>\n",
              "    </tr>\n",
              "    <tr>\n",
              "      <th>1</th>\n",
              "      <td>talk all the nonsense and continue all the dra...</td>\n",
              "      <td>0.0</td>\n",
              "    </tr>\n",
              "    <tr>\n",
              "      <th>2</th>\n",
              "      <td>what did just say vote for modi  welcome bjp t...</td>\n",
              "      <td>1.0</td>\n",
              "    </tr>\n",
              "    <tr>\n",
              "      <th>3</th>\n",
              "      <td>asking his supporters prefix chowkidar their n...</td>\n",
              "      <td>1.0</td>\n",
              "    </tr>\n",
              "    <tr>\n",
              "      <th>4</th>\n",
              "      <td>answer who among these the most powerful world...</td>\n",
              "      <td>1.0</td>\n",
              "    </tr>\n",
              "  </tbody>\n",
              "</table>\n",
              "</div>\n",
              "      <button class=\"colab-df-convert\" onclick=\"convertToInteractive('df-cd8c0cf1-0e7d-4770-848d-59f5cd1b2a4e')\"\n",
              "              title=\"Convert this dataframe to an interactive table.\"\n",
              "              style=\"display:none;\">\n",
              "        \n",
              "  <svg xmlns=\"http://www.w3.org/2000/svg\" height=\"24px\"viewBox=\"0 0 24 24\"\n",
              "       width=\"24px\">\n",
              "    <path d=\"M0 0h24v24H0V0z\" fill=\"none\"/>\n",
              "    <path d=\"M18.56 5.44l.94 2.06.94-2.06 2.06-.94-2.06-.94-.94-2.06-.94 2.06-2.06.94zm-11 1L8.5 8.5l.94-2.06 2.06-.94-2.06-.94L8.5 2.5l-.94 2.06-2.06.94zm10 10l.94 2.06.94-2.06 2.06-.94-2.06-.94-.94-2.06-.94 2.06-2.06.94z\"/><path d=\"M17.41 7.96l-1.37-1.37c-.4-.4-.92-.59-1.43-.59-.52 0-1.04.2-1.43.59L10.3 9.45l-7.72 7.72c-.78.78-.78 2.05 0 2.83L4 21.41c.39.39.9.59 1.41.59.51 0 1.02-.2 1.41-.59l7.78-7.78 2.81-2.81c.8-.78.8-2.07 0-2.86zM5.41 20L4 18.59l7.72-7.72 1.47 1.35L5.41 20z\"/>\n",
              "  </svg>\n",
              "      </button>\n",
              "      \n",
              "  <style>\n",
              "    .colab-df-container {\n",
              "      display:flex;\n",
              "      flex-wrap:wrap;\n",
              "      gap: 12px;\n",
              "    }\n",
              "\n",
              "    .colab-df-convert {\n",
              "      background-color: #E8F0FE;\n",
              "      border: none;\n",
              "      border-radius: 50%;\n",
              "      cursor: pointer;\n",
              "      display: none;\n",
              "      fill: #1967D2;\n",
              "      height: 32px;\n",
              "      padding: 0 0 0 0;\n",
              "      width: 32px;\n",
              "    }\n",
              "\n",
              "    .colab-df-convert:hover {\n",
              "      background-color: #E2EBFA;\n",
              "      box-shadow: 0px 1px 2px rgba(60, 64, 67, 0.3), 0px 1px 3px 1px rgba(60, 64, 67, 0.15);\n",
              "      fill: #174EA6;\n",
              "    }\n",
              "\n",
              "    [theme=dark] .colab-df-convert {\n",
              "      background-color: #3B4455;\n",
              "      fill: #D2E3FC;\n",
              "    }\n",
              "\n",
              "    [theme=dark] .colab-df-convert:hover {\n",
              "      background-color: #434B5C;\n",
              "      box-shadow: 0px 1px 3px 1px rgba(0, 0, 0, 0.15);\n",
              "      filter: drop-shadow(0px 1px 2px rgba(0, 0, 0, 0.3));\n",
              "      fill: #FFFFFF;\n",
              "    }\n",
              "  </style>\n",
              "\n",
              "      <script>\n",
              "        const buttonEl =\n",
              "          document.querySelector('#df-cd8c0cf1-0e7d-4770-848d-59f5cd1b2a4e button.colab-df-convert');\n",
              "        buttonEl.style.display =\n",
              "          google.colab.kernel.accessAllowed ? 'block' : 'none';\n",
              "\n",
              "        async function convertToInteractive(key) {\n",
              "          const element = document.querySelector('#df-cd8c0cf1-0e7d-4770-848d-59f5cd1b2a4e');\n",
              "          const dataTable =\n",
              "            await google.colab.kernel.invokeFunction('convertToInteractive',\n",
              "                                                     [key], {});\n",
              "          if (!dataTable) return;\n",
              "\n",
              "          const docLinkHtml = 'Like what you see? Visit the ' +\n",
              "            '<a target=\"_blank\" href=https://colab.research.google.com/notebooks/data_table.ipynb>data table notebook</a>'\n",
              "            + ' to learn more about interactive tables.';\n",
              "          element.innerHTML = '';\n",
              "          dataTable['output_type'] = 'display_data';\n",
              "          await google.colab.output.renderOutput(dataTable, element);\n",
              "          const docLink = document.createElement('div');\n",
              "          docLink.innerHTML = docLinkHtml;\n",
              "          element.appendChild(docLink);\n",
              "        }\n",
              "      </script>\n",
              "    </div>\n",
              "  </div>\n",
              "  "
            ]
          },
          "metadata": {},
          "execution_count": 27
        }
      ],
      "source": [
        "twitter_df.head()"
      ]
    },
    {
      "cell_type": "code",
      "execution_count": null,
      "metadata": {
        "colab": {
          "base_uri": "https://localhost:8080/"
        },
        "id": "kb8PzsHVhYAf",
        "outputId": "cf28aee3-ceb4-4281-d88f-53b076af07b0"
      },
      "outputs": [
        {
          "output_type": "execute_result",
          "data": {
            "text/plain": [
              "(162980, 2)"
            ]
          },
          "metadata": {},
          "execution_count": 28
        }
      ],
      "source": [
        "twitter_df.shape"
      ]
    },
    {
      "cell_type": "code",
      "execution_count": null,
      "metadata": {
        "colab": {
          "base_uri": "https://localhost:8080/"
        },
        "id": "gWw5OUxra-uz",
        "outputId": "5456a752-9972-4b01-8fe0-8caeb37a0ac3"
      },
      "outputs": [
        {
          "output_type": "execute_result",
          "data": {
            "text/plain": [
              "(array([35510.,     0.,     0.,     0.,     0., 55213.,     0.,     0.,\n",
              "            0., 72250.]),\n",
              " array([-1. , -0.8, -0.6, -0.4, -0.2,  0. ,  0.2,  0.4,  0.6,  0.8,  1. ]),\n",
              " <BarContainer object of 10 artists>)"
            ]
          },
          "metadata": {},
          "execution_count": 29
        },
        {
          "output_type": "display_data",
          "data": {
            "text/plain": [
              "<Figure size 432x288 with 1 Axes>"
            ],
            "image/png": "[encoded data removed]"
          },
          "metadata": {
            "needs_background": "light"
          }
        }
      ],
      "source": [
        "plt.hist(twitter_df.category)"
      ]
    },
    {
      "cell_type": "code",
      "execution_count": null,
      "metadata": {
        "colab": {
          "base_uri": "https://localhost:8080/"
        },
        "id": "7Qwn9OW4a5kA",
        "outputId": "5d4024ac-6a0d-4584-e7a4-70a55cc8ce45"
      },
      "outputs": [
        {
          "output_type": "execute_result",
          "data": {
            "text/plain": [
              "                                          clean_text  category\n",
              "0  when modi promised “minimum government maximum...  negative\n",
              "1  talk all the nonsense and continue all the dra...   neutral\n",
              "2  what did just say vote for modi  welcome bjp t...  positive\n",
              "3  asking his supporters prefix chowkidar their n...  positive\n",
              "4  answer who among these the most powerful world...  positive"
            ],
            "text/html": [
              "\n",
              "  <div id=\"df-3a69288d-6918-4865-ad91-216fb8cd68d9\">\n",
              "    <div class=\"colab-df-container\">\n",
              "      <div>\n",
              "<style scoped>\n",
              "    .dataframe tbody tr th:only-of-type {\n",
              "        vertical-align: middle;\n",
              "    }\n",
              "\n",
              "    .dataframe tbody tr th {\n",
              "        vertical-align: top;\n",
              "    }\n",
              "\n",
              "    .dataframe thead th {\n",
              "        text-align: right;\n",
              "    }\n",
              "</style>\n",
              "<table border=\"1\" class=\"dataframe\">\n",
              "  <thead>\n",
              "    <tr style=\"text-align: right;\">\n",
              "      <th></th>\n",
              "      <th>clean_text</th>\n",
              "      <th>category</th>\n",
              "    </tr>\n",
              "  </thead>\n",
              "  <tbody>\n",
              "    <tr>\n",
              "      <th>0</th>\n",
              "      <td>when modi promised “minimum government maximum...</td>\n",
              "      <td>negative</td>\n",
              "    </tr>\n",
              "    <tr>\n",
              "      <th>1</th>\n",
              "      <td>talk all the nonsense and continue all the dra...</td>\n",
              "      <td>neutral</td>\n",
              "    </tr>\n",
              "    <tr>\n",
              "      <th>2</th>\n",
              "      <td>what did just say vote for modi  welcome bjp t...</td>\n",
              "      <td>positive</td>\n",
              "    </tr>\n",
              "    <tr>\n",
              "      <th>3</th>\n",
              "      <td>asking his supporters prefix chowkidar their n...</td>\n",
              "      <td>positive</td>\n",
              "    </tr>\n",
              "    <tr>\n",
              "      <th>4</th>\n",
              "      <td>answer who among these the most powerful world...</td>\n",
              "      <td>positive</td>\n",
              "    </tr>\n",
              "  </tbody>\n",
              "</table>\n",
              "</div>\n",
              "      <button class=\"colab-df-convert\" onclick=\"convertToInteractive('df-3a69288d-6918-4865-ad91-216fb8cd68d9')\"\n",
              "              title=\"Convert this dataframe to an interactive table.\"\n",
              "              style=\"display:none;\">\n",
              "        \n",
              "  <svg xmlns=\"http://www.w3.org/2000/svg\" height=\"24px\"viewBox=\"0 0 24 24\"\n",
              "       width=\"24px\">\n",
              "    <path d=\"M0 0h24v24H0V0z\" fill=\"none\"/>\n",
              "    <path d=\"M18.56 5.44l.94 2.06.94-2.06 2.06-.94-2.06-.94-.94-2.06-.94 2.06-2.06.94zm-11 1L8.5 8.5l.94-2.06 2.06-.94-2.06-.94L8.5 2.5l-.94 2.06-2.06.94zm10 10l.94 2.06.94-2.06 2.06-.94-2.06-.94-.94-2.06-.94 2.06-2.06.94z\"/><path d=\"M17.41 7.96l-1.37-1.37c-.4-.4-.92-.59-1.43-.59-.52 0-1.04.2-1.43.59L10.3 9.45l-7.72 7.72c-.78.78-.78 2.05 0 2.83L4 21.41c.39.39.9.59 1.41.59.51 0 1.02-.2 1.41-.59l7.78-7.78 2.81-2.81c.8-.78.8-2.07 0-2.86zM5.41 20L4 18.59l7.72-7.72 1.47 1.35L5.41 20z\"/>\n",
              "  </svg>\n",
              "      </button>\n",
              "      \n",
              "  <style>\n",
              "    .colab-df-container {\n",
              "      display:flex;\n",
              "      flex-wrap:wrap;\n",
              "      gap: 12px;\n",
              "    }\n",
              "\n",
              "    .colab-df-convert {\n",
              "      background-color: #E8F0FE;\n",
              "      border: none;\n",
              "      border-radius: 50%;\n",
              "      cursor: pointer;\n",
              "      display: none;\n",
              "      fill: #1967D2;\n",
              "      height: 32px;\n",
              "      padding: 0 0 0 0;\n",
              "      width: 32px;\n",
              "    }\n",
              "\n",
              "    .colab-df-convert:hover {\n",
              "      background-color: #E2EBFA;\n",
              "      box-shadow: 0px 1px 2px rgba(60, 64, 67, 0.3), 0px 1px 3px 1px rgba(60, 64, 67, 0.15);\n",
              "      fill: #174EA6;\n",
              "    }\n",
              "\n",
              "    [theme=dark] .colab-df-convert {\n",
              "      background-color: #3B4455;\n",
              "      fill: #D2E3FC;\n",
              "    }\n",
              "\n",
              "    [theme=dark] .colab-df-convert:hover {\n",
              "      background-color: #434B5C;\n",
              "      box-shadow: 0px 1px 3px 1px rgba(0, 0, 0, 0.15);\n",
              "      filter: drop-shadow(0px 1px 2px rgba(0, 0, 0, 0.3));\n",
              "      fill: #FFFFFF;\n",
              "    }\n",
              "  </style>\n",
              "\n",
              "      <script>\n",
              "        const buttonEl =\n",
              "          document.querySelector('#df-3a69288d-6918-4865-ad91-216fb8cd68d9 button.colab-df-convert');\n",
              "        buttonEl.style.display =\n",
              "          google.colab.kernel.accessAllowed ? 'block' : 'none';\n",
              "\n",
              "        async function convertToInteractive(key) {\n",
              "          const element = document.querySelector('#df-3a69288d-6918-4865-ad91-216fb8cd68d9');\n",
              "          const dataTable =\n",
              "            await google.colab.kernel.invokeFunction('convertToInteractive',\n",
              "                                                     [key], {});\n",
              "          if (!dataTable) return;\n",
              "\n",
              "          const docLinkHtml = 'Like what you see? Visit the ' +\n",
              "            '<a target=\"_blank\" href=https://colab.research.google.com/notebooks/data_table.ipynb>data table notebook</a>'\n",
              "            + ' to learn more about interactive tables.';\n",
              "          element.innerHTML = '';\n",
              "          dataTable['output_type'] = 'display_data';\n",
              "          await google.colab.output.renderOutput(dataTable, element);\n",
              "          const docLink = document.createElement('div');\n",
              "          docLink.innerHTML = docLinkHtml;\n",
              "          element.appendChild(docLink);\n",
              "        }\n",
              "      </script>\n",
              "    </div>\n",
              "  </div>\n",
              "  "
            ]
          },
          "metadata": {},
          "execution_count": 30
        }
      ],
      "source": [
        "twitter_df['category'] = twitter_df['category'].map({-1.0:'negative',0.0:'neutral',1.0:'positive'})\n",
        "twitter_df.head()"
      ]
    },
    {
      "cell_type": "code",
      "execution_count": null,
      "metadata": {
        "id": "qfvJKeoyt1zy"
      },
      "outputs": [],
      "source": [
        "twitter_df = twitter_df.rename(columns={'clean_text':'text','category':'sentiment'})\n"
      ]
    },
    {
      "cell_type": "code",
      "execution_count": null,
      "metadata": {
        "colab": {
          "base_uri": "https://localhost:8080/"
        },
        "id": "uEuW4F3kt18-",
        "outputId": "751b0a4c-c2b3-40cc-fb58-ad0a716ba827"
      },
      "outputs": [
        {
          "output_type": "execute_result",
          "data": {
            "text/plain": [
              "  sentiment                                               text\n",
              "0  negative  when modi promised “minimum government maximum...\n",
              "1   neutral  talk all the nonsense and continue all the dra...\n",
              "2  positive  what did just say vote for modi  welcome bjp t...\n",
              "3  positive  asking his supporters prefix chowkidar their n...\n",
              "4  positive  answer who among these the most powerful world..."
            ],
            "text/html": [
              "\n",
              "  <div id=\"df-d5c826b2-2465-4fcd-aba4-7cc4abf74a7c\">\n",
              "    <div class=\"colab-df-container\">\n",
              "      <div>\n",
              "<style scoped>\n",
              "    .dataframe tbody tr th:only-of-type {\n",
              "        vertical-align: middle;\n",
              "    }\n",
              "\n",
              "    .dataframe tbody tr th {\n",
              "        vertical-align: top;\n",
              "    }\n",
              "\n",
              "    .dataframe thead th {\n",
              "        text-align: right;\n",
              "    }\n",
              "</style>\n",
              "<table border=\"1\" class=\"dataframe\">\n",
              "  <thead>\n",
              "    <tr style=\"text-align: right;\">\n",
              "      <th></th>\n",
              "      <th>sentiment</th>\n",
              "      <th>text</th>\n",
              "    </tr>\n",
              "  </thead>\n",
              "  <tbody>\n",
              "    <tr>\n",
              "      <th>0</th>\n",
              "      <td>negative</td>\n",
              "      <td>when modi promised “minimum government maximum...</td>\n",
              "    </tr>\n",
              "    <tr>\n",
              "      <th>1</th>\n",
              "      <td>neutral</td>\n",
              "      <td>talk all the nonsense and continue all the dra...</td>\n",
              "    </tr>\n",
              "    <tr>\n",
              "      <th>2</th>\n",
              "      <td>positive</td>\n",
              "      <td>what did just say vote for modi  welcome bjp t...</td>\n",
              "    </tr>\n",
              "    <tr>\n",
              "      <th>3</th>\n",
              "      <td>positive</td>\n",
              "      <td>asking his supporters prefix chowkidar their n...</td>\n",
              "    </tr>\n",
              "    <tr>\n",
              "      <th>4</th>\n",
              "      <td>positive</td>\n",
              "      <td>answer who among these the most powerful world...</td>\n",
              "    </tr>\n",
              "  </tbody>\n",
              "</table>\n",
              "</div>\n",
              "      <button class=\"colab-df-convert\" onclick=\"convertToInteractive('df-d5c826b2-2465-4fcd-aba4-7cc4abf74a7c')\"\n",
              "              title=\"Convert this dataframe to an interactive table.\"\n",
              "              style=\"display:none;\">\n",
              "        \n",
              "  <svg xmlns=\"http://www.w3.org/2000/svg\" height=\"24px\"viewBox=\"0 0 24 24\"\n",
              "       width=\"24px\">\n",
              "    <path d=\"M0 0h24v24H0V0z\" fill=\"none\"/>\n",
              "    <path d=\"M18.56 5.44l.94 2.06.94-2.06 2.06-.94-2.06-.94-.94-2.06-.94 2.06-2.06.94zm-11 1L8.5 8.5l.94-2.06 2.06-.94-2.06-.94L8.5 2.5l-.94 2.06-2.06.94zm10 10l.94 2.06.94-2.06 2.06-.94-2.06-.94-.94-2.06-.94 2.06-2.06.94z\"/><path d=\"M17.41 7.96l-1.37-1.37c-.4-.4-.92-.59-1.43-.59-.52 0-1.04.2-1.43.59L10.3 9.45l-7.72 7.72c-.78.78-.78 2.05 0 2.83L4 21.41c.39.39.9.59 1.41.59.51 0 1.02-.2 1.41-.59l7.78-7.78 2.81-2.81c.8-.78.8-2.07 0-2.86zM5.41 20L4 18.59l7.72-7.72 1.47 1.35L5.41 20z\"/>\n",
              "  </svg>\n",
              "      </button>\n",
              "      \n",
              "  <style>\n",
              "    .colab-df-container {\n",
              "      display:flex;\n",
              "      flex-wrap:wrap;\n",
              "      gap: 12px;\n",
              "    }\n",
              "\n",
              "    .colab-df-convert {\n",
              "      background-color: #E8F0FE;\n",
              "      border: none;\n",
              "      border-radius: 50%;\n",
              "      cursor: pointer;\n",
              "      display: none;\n",
              "      fill: #1967D2;\n",
              "      height: 32px;\n",
              "      padding: 0 0 0 0;\n",
              "      width: 32px;\n",
              "    }\n",
              "\n",
              "    .colab-df-convert:hover {\n",
              "      background-color: #E2EBFA;\n",
              "      box-shadow: 0px 1px 2px rgba(60, 64, 67, 0.3), 0px 1px 3px 1px rgba(60, 64, 67, 0.15);\n",
              "      fill: #174EA6;\n",
              "    }\n",
              "\n",
              "    [theme=dark] .colab-df-convert {\n",
              "      background-color: #3B4455;\n",
              "      fill: #D2E3FC;\n",
              "    }\n",
              "\n",
              "    [theme=dark] .colab-df-convert:hover {\n",
              "      background-color: #434B5C;\n",
              "      box-shadow: 0px 1px 3px 1px rgba(0, 0, 0, 0.15);\n",
              "      filter: drop-shadow(0px 1px 2px rgba(0, 0, 0, 0.3));\n",
              "      fill: #FFFFFF;\n",
              "    }\n",
              "  </style>\n",
              "\n",
              "      <script>\n",
              "        const buttonEl =\n",
              "          document.querySelector('#df-d5c826b2-2465-4fcd-aba4-7cc4abf74a7c button.colab-df-convert');\n",
              "        buttonEl.style.display =\n",
              "          google.colab.kernel.accessAllowed ? 'block' : 'none';\n",
              "\n",
              "        async function convertToInteractive(key) {\n",
              "          const element = document.querySelector('#df-d5c826b2-2465-4fcd-aba4-7cc4abf74a7c');\n",
              "          const dataTable =\n",
              "            await google.colab.kernel.invokeFunction('convertToInteractive',\n",
              "                                                     [key], {});\n",
              "          if (!dataTable) return;\n",
              "\n",
              "          const docLinkHtml = 'Like what you see? Visit the ' +\n",
              "            '<a target=\"_blank\" href=https://colab.research.google.com/notebooks/data_table.ipynb>data table notebook</a>'\n",
              "            + ' to learn more about interactive tables.';\n",
              "          element.innerHTML = '';\n",
              "          dataTable['output_type'] = 'display_data';\n",
              "          await google.colab.output.renderOutput(dataTable, element);\n",
              "          const docLink = document.createElement('div');\n",
              "          docLink.innerHTML = docLinkHtml;\n",
              "          element.appendChild(docLink);\n",
              "        }\n",
              "      </script>\n",
              "    </div>\n",
              "  </div>\n",
              "  "
            ]
          },
          "metadata": {},
          "execution_count": 32
        }
      ],
      "source": [
        "twitter_df = twitter_df.reindex(columns = ['sentiment','text'])\n",
        "twitter_df.head()"
      ]
    },
    {
      "cell_type": "code",
      "execution_count": null,
      "metadata": {
        "colab": {
          "base_uri": "https://localhost:8080/"
        },
        "id": "_3nvukaJvCba",
        "outputId": "1602b0a6-c190-40a7-abff-c8654fe077d6"
      },
      "outputs": [
        {
          "output_type": "execute_result",
          "data": {
            "text/plain": [
              "            count  unique                                                top  \\\n",
              "sentiment  162973       3                                           positive   \n",
              "text       162976  162976  when modi promised “minimum government maximum...   \n",
              "\n",
              "            freq  \n",
              "sentiment  72250  \n",
              "text           1  "
            ],
            "text/html": [
              "\n",
              "  <div id=\"df-bbdccc2f-c51c-4d43-a08c-2fb6c1b81281\">\n",
              "    <div class=\"colab-df-container\">\n",
              "      <div>\n",
              "<style scoped>\n",
              "    .dataframe tbody tr th:only-of-type {\n",
              "        vertical-align: middle;\n",
              "    }\n",
              "\n",
              "    .dataframe tbody tr th {\n",
              "        vertical-align: top;\n",
              "    }\n",
              "\n",
              "    .dataframe thead th {\n",
              "        text-align: right;\n",
              "    }\n",
              "</style>\n",
              "<table border=\"1\" class=\"dataframe\">\n",
              "  <thead>\n",
              "    <tr style=\"text-align: right;\">\n",
              "      <th></th>\n",
              "      <th>count</th>\n",
              "      <th>unique</th>\n",
              "      <th>top</th>\n",
              "      <th>freq</th>\n",
              "    </tr>\n",
              "  </thead>\n",
              "  <tbody>\n",
              "    <tr>\n",
              "      <th>sentiment</th>\n",
              "      <td>162973</td>\n",
              "      <td>3</td>\n",
              "      <td>positive</td>\n",
              "      <td>72250</td>\n",
              "    </tr>\n",
              "    <tr>\n",
              "      <th>text</th>\n",
              "      <td>162976</td>\n",
              "      <td>162976</td>\n",
              "      <td>when modi promised “minimum government maximum...</td>\n",
              "      <td>1</td>\n",
              "    </tr>\n",
              "  </tbody>\n",
              "</table>\n",
              "</div>\n",
              "      <button class=\"colab-df-convert\" onclick=\"convertToInteractive('df-bbdccc2f-c51c-4d43-a08c-2fb6c1b81281')\"\n",
              "              title=\"Convert this dataframe to an interactive table.\"\n",
              "              style=\"display:none;\">\n",
              "        \n",
              "  <svg xmlns=\"http://www.w3.org/2000/svg\" height=\"24px\"viewBox=\"0 0 24 24\"\n",
              "       width=\"24px\">\n",
              "    <path d=\"M0 0h24v24H0V0z\" fill=\"none\"/>\n",
              "    <path d=\"M18.56 5.44l.94 2.06.94-2.06 2.06-.94-2.06-.94-.94-2.06-.94 2.06-2.06.94zm-11 1L8.5 8.5l.94-2.06 2.06-.94-2.06-.94L8.5 2.5l-.94 2.06-2.06.94zm10 10l.94 2.06.94-2.06 2.06-.94-2.06-.94-.94-2.06-.94 2.06-2.06.94z\"/><path d=\"M17.41 7.96l-1.37-1.37c-.4-.4-.92-.59-1.43-.59-.52 0-1.04.2-1.43.59L10.3 9.45l-7.72 7.72c-.78.78-.78 2.05 0 2.83L4 21.41c.39.39.9.59 1.41.59.51 0 1.02-.2 1.41-.59l7.78-7.78 2.81-2.81c.8-.78.8-2.07 0-2.86zM5.41 20L4 18.59l7.72-7.72 1.47 1.35L5.41 20z\"/>\n",
              "  </svg>\n",
              "      </button>\n",
              "      \n",
              "  <style>\n",
              "    .colab-df-container {\n",
              "      display:flex;\n",
              "      flex-wrap:wrap;\n",
              "      gap: 12px;\n",
              "    }\n",
              "\n",
              "    .colab-df-convert {\n",
              "      background-color: #E8F0FE;\n",
              "      border: none;\n",
              "      border-radius: 50%;\n",
              "      cursor: pointer;\n",
              "      display: none;\n",
              "      fill: #1967D2;\n",
              "      height: 32px;\n",
              "      padding: 0 0 0 0;\n",
              "      width: 32px;\n",
              "    }\n",
              "\n",
              "    .colab-df-convert:hover {\n",
              "      background-color: #E2EBFA;\n",
              "      box-shadow: 0px 1px 2px rgba(60, 64, 67, 0.3), 0px 1px 3px 1px rgba(60, 64, 67, 0.15);\n",
              "      fill: #174EA6;\n",
              "    }\n",
              "\n",
              "    [theme=dark] .colab-df-convert {\n",
              "      background-color: #3B4455;\n",
              "      fill: #D2E3FC;\n",
              "    }\n",
              "\n",
              "    [theme=dark] .colab-df-convert:hover {\n",
              "      background-color: #434B5C;\n",
              "      box-shadow: 0px 1px 3px 1px rgba(0, 0, 0, 0.15);\n",
              "      filter: drop-shadow(0px 1px 2px rgba(0, 0, 0, 0.3));\n",
              "      fill: #FFFFFF;\n",
              "    }\n",
              "  </style>\n",
              "\n",
              "      <script>\n",
              "        const buttonEl =\n",
              "          document.querySelector('#df-bbdccc2f-c51c-4d43-a08c-2fb6c1b81281 button.colab-df-convert');\n",
              "        buttonEl.style.display =\n",
              "          google.colab.kernel.accessAllowed ? 'block' : 'none';\n",
              "\n",
              "        async function convertToInteractive(key) {\n",
              "          const element = document.querySelector('#df-bbdccc2f-c51c-4d43-a08c-2fb6c1b81281');\n",
              "          const dataTable =\n",
              "            await google.colab.kernel.invokeFunction('convertToInteractive',\n",
              "                                                     [key], {});\n",
              "          if (!dataTable) return;\n",
              "\n",
              "          const docLinkHtml = 'Like what you see? Visit the ' +\n",
              "            '<a target=\"_blank\" href=https://colab.research.google.com/notebooks/data_table.ipynb>data table notebook</a>'\n",
              "            + ' to learn more about interactive tables.';\n",
              "          element.innerHTML = '';\n",
              "          dataTable['output_type'] = 'display_data';\n",
              "          await google.colab.output.renderOutput(dataTable, element);\n",
              "          const docLink = document.createElement('div');\n",
              "          docLink.innerHTML = docLinkHtml;\n",
              "          element.appendChild(docLink);\n",
              "        }\n",
              "      </script>\n",
              "    </div>\n",
              "  </div>\n",
              "  "
            ]
          },
          "metadata": {},
          "execution_count": 33
        }
      ],
      "source": [
        "twitter_df.describe().T"
      ]
    },
    {
      "cell_type": "code",
      "execution_count": null,
      "metadata": {
        "id": "RKIBwcDxxCIG"
      },
      "outputs": [],
      "source": [
        "twitter_df.dropna(inplace=True)"
      ]
    },
    {
      "cell_type": "code",
      "execution_count": null,
      "metadata": {
        "colab": {
          "base_uri": "https://localhost:8080/"
        },
        "id": "BhsIMvJoxz13",
        "outputId": "97abfdd5-aaa2-49c9-e52f-b115c02c1410"
      },
      "outputs": [
        {
          "output_type": "execute_result",
          "data": {
            "text/plain": [
              "            count  unique                                                top  \\\n",
              "sentiment  162969       3                                           positive   \n",
              "text       162969  162969  when modi promised “minimum government maximum...   \n",
              "\n",
              "            freq  \n",
              "sentiment  72249  \n",
              "text           1  "
            ],
            "text/html": [
              "\n",
              "  <div id=\"df-1dcacebc-7efc-413e-bbac-788f55cea8d4\">\n",
              "    <div class=\"colab-df-container\">\n",
              "      <div>\n",
              "<style scoped>\n",
              "    .dataframe tbody tr th:only-of-type {\n",
              "        vertical-align: middle;\n",
              "    }\n",
              "\n",
              "    .dataframe tbody tr th {\n",
              "        vertical-align: top;\n",
              "    }\n",
              "\n",
              "    .dataframe thead th {\n",
              "        text-align: right;\n",
              "    }\n",
              "</style>\n",
              "<table border=\"1\" class=\"dataframe\">\n",
              "  <thead>\n",
              "    <tr style=\"text-align: right;\">\n",
              "      <th></th>\n",
              "      <th>count</th>\n",
              "      <th>unique</th>\n",
              "      <th>top</th>\n",
              "      <th>freq</th>\n",
              "    </tr>\n",
              "  </thead>\n",
              "  <tbody>\n",
              "    <tr>\n",
              "      <th>sentiment</th>\n",
              "      <td>162969</td>\n",
              "      <td>3</td>\n",
              "      <td>positive</td>\n",
              "      <td>72249</td>\n",
              "    </tr>\n",
              "    <tr>\n",
              "      <th>text</th>\n",
              "      <td>162969</td>\n",
              "      <td>162969</td>\n",
              "      <td>when modi promised “minimum government maximum...</td>\n",
              "      <td>1</td>\n",
              "    </tr>\n",
              "  </tbody>\n",
              "</table>\n",
              "</div>\n",
              "      <button class=\"colab-df-convert\" onclick=\"convertToInteractive('df-1dcacebc-7efc-413e-bbac-788f55cea8d4')\"\n",
              "              title=\"Convert this dataframe to an interactive table.\"\n",
              "              style=\"display:none;\">\n",
              "        \n",
              "  <svg xmlns=\"http://www.w3.org/2000/svg\" height=\"24px\"viewBox=\"0 0 24 24\"\n",
              "       width=\"24px\">\n",
              "    <path d=\"M0 0h24v24H0V0z\" fill=\"none\"/>\n",
              "    <path d=\"M18.56 5.44l.94 2.06.94-2.06 2.06-.94-2.06-.94-.94-2.06-.94 2.06-2.06.94zm-11 1L8.5 8.5l.94-2.06 2.06-.94-2.06-.94L8.5 2.5l-.94 2.06-2.06.94zm10 10l.94 2.06.94-2.06 2.06-.94-2.06-.94-.94-2.06-.94 2.06-2.06.94z\"/><path d=\"M17.41 7.96l-1.37-1.37c-.4-.4-.92-.59-1.43-.59-.52 0-1.04.2-1.43.59L10.3 9.45l-7.72 7.72c-.78.78-.78 2.05 0 2.83L4 21.41c.39.39.9.59 1.41.59.51 0 1.02-.2 1.41-.59l7.78-7.78 2.81-2.81c.8-.78.8-2.07 0-2.86zM5.41 20L4 18.59l7.72-7.72 1.47 1.35L5.41 20z\"/>\n",
              "  </svg>\n",
              "      </button>\n",
              "      \n",
              "  <style>\n",
              "    .colab-df-container {\n",
              "      display:flex;\n",
              "      flex-wrap:wrap;\n",
              "      gap: 12px;\n",
              "    }\n",
              "\n",
              "    .colab-df-convert {\n",
              "      background-color: #E8F0FE;\n",
              "      border: none;\n",
              "      border-radius: 50%;\n",
              "      cursor: pointer;\n",
              "      display: none;\n",
              "      fill: #1967D2;\n",
              "      height: 32px;\n",
              "      padding: 0 0 0 0;\n",
              "      width: 32px;\n",
              "    }\n",
              "\n",
              "    .colab-df-convert:hover {\n",
              "      background-color: #E2EBFA;\n",
              "      box-shadow: 0px 1px 2px rgba(60, 64, 67, 0.3), 0px 1px 3px 1px rgba(60, 64, 67, 0.15);\n",
              "      fill: #174EA6;\n",
              "    }\n",
              "\n",
              "    [theme=dark] .colab-df-convert {\n",
              "      background-color: #3B4455;\n",
              "      fill: #D2E3FC;\n",
              "    }\n",
              "\n",
              "    [theme=dark] .colab-df-convert:hover {\n",
              "      background-color: #434B5C;\n",
              "      box-shadow: 0px 1px 3px 1px rgba(0, 0, 0, 0.15);\n",
              "      filter: drop-shadow(0px 1px 2px rgba(0, 0, 0, 0.3));\n",
              "      fill: #FFFFFF;\n",
              "    }\n",
              "  </style>\n",
              "\n",
              "      <script>\n",
              "        const buttonEl =\n",
              "          document.querySelector('#df-1dcacebc-7efc-413e-bbac-788f55cea8d4 button.colab-df-convert');\n",
              "        buttonEl.style.display =\n",
              "          google.colab.kernel.accessAllowed ? 'block' : 'none';\n",
              "\n",
              "        async function convertToInteractive(key) {\n",
              "          const element = document.querySelector('#df-1dcacebc-7efc-413e-bbac-788f55cea8d4');\n",
              "          const dataTable =\n",
              "            await google.colab.kernel.invokeFunction('convertToInteractive',\n",
              "                                                     [key], {});\n",
              "          if (!dataTable) return;\n",
              "\n",
              "          const docLinkHtml = 'Like what you see? Visit the ' +\n",
              "            '<a target=\"_blank\" href=https://colab.research.google.com/notebooks/data_table.ipynb>data table notebook</a>'\n",
              "            + ' to learn more about interactive tables.';\n",
              "          element.innerHTML = '';\n",
              "          dataTable['output_type'] = 'display_data';\n",
              "          await google.colab.output.renderOutput(dataTable, element);\n",
              "          const docLink = document.createElement('div');\n",
              "          docLink.innerHTML = docLinkHtml;\n",
              "          element.appendChild(docLink);\n",
              "        }\n",
              "      </script>\n",
              "    </div>\n",
              "  </div>\n",
              "  "
            ]
          },
          "metadata": {},
          "execution_count": 35
        }
      ],
      "source": [
        "twitter_df.describe().T"
      ]
    },
    {
      "cell_type": "markdown",
      "metadata": {
        "id": "XU9qiRXEt2dk"
      },
      "source": [
        "Concat data"
      ]
    },
    {
      "cell_type": "code",
      "execution_count": null,
      "metadata": {
        "colab": {
          "base_uri": "https://localhost:8080/"
        },
        "id": "2J0kACzztMB5",
        "outputId": "ef825eae-94be-493a-b0a1-693af42b45a4"
      },
      "outputs": [
        {
          "output_type": "execute_result",
          "data": {
            "text/plain": [
              "  sentiment                                               text\n",
              "0   neutral                @VirginAmerica What @dhepburn said.\n",
              "1  positive  @VirginAmerica plus you've added commercials t...\n",
              "2   neutral  @VirginAmerica I didn't today... Must mean I n...\n",
              "3  negative  @VirginAmerica it's really aggressive to blast...\n",
              "4  negative  @VirginAmerica and it's a really big bad thing..."
            ],
            "text/html": [
              "\n",
              "  <div id=\"df-4624f2ab-84f8-4e7f-a82e-450e80853045\">\n",
              "    <div class=\"colab-df-container\">\n",
              "      <div>\n",
              "<style scoped>\n",
              "    .dataframe tbody tr th:only-of-type {\n",
              "        vertical-align: middle;\n",
              "    }\n",
              "\n",
              "    .dataframe tbody tr th {\n",
              "        vertical-align: top;\n",
              "    }\n",
              "\n",
              "    .dataframe thead th {\n",
              "        text-align: right;\n",
              "    }\n",
              "</style>\n",
              "<table border=\"1\" class=\"dataframe\">\n",
              "  <thead>\n",
              "    <tr style=\"text-align: right;\">\n",
              "      <th></th>\n",
              "      <th>sentiment</th>\n",
              "      <th>text</th>\n",
              "    </tr>\n",
              "  </thead>\n",
              "  <tbody>\n",
              "    <tr>\n",
              "      <th>0</th>\n",
              "      <td>neutral</td>\n",
              "      <td>@VirginAmerica What @dhepburn said.</td>\n",
              "    </tr>\n",
              "    <tr>\n",
              "      <th>1</th>\n",
              "      <td>positive</td>\n",
              "      <td>@VirginAmerica plus you've added commercials t...</td>\n",
              "    </tr>\n",
              "    <tr>\n",
              "      <th>2</th>\n",
              "      <td>neutral</td>\n",
              "      <td>@VirginAmerica I didn't today... Must mean I n...</td>\n",
              "    </tr>\n",
              "    <tr>\n",
              "      <th>3</th>\n",
              "      <td>negative</td>\n",
              "      <td>@VirginAmerica it's really aggressive to blast...</td>\n",
              "    </tr>\n",
              "    <tr>\n",
              "      <th>4</th>\n",
              "      <td>negative</td>\n",
              "      <td>@VirginAmerica and it's a really big bad thing...</td>\n",
              "    </tr>\n",
              "  </tbody>\n",
              "</table>\n",
              "</div>\n",
              "      <button class=\"colab-df-convert\" onclick=\"convertToInteractive('df-4624f2ab-84f8-4e7f-a82e-450e80853045')\"\n",
              "              title=\"Convert this dataframe to an interactive table.\"\n",
              "              style=\"display:none;\">\n",
              "        \n",
              "  <svg xmlns=\"http://www.w3.org/2000/svg\" height=\"24px\"viewBox=\"0 0 24 24\"\n",
              "       width=\"24px\">\n",
              "    <path d=\"M0 0h24v24H0V0z\" fill=\"none\"/>\n",
              "    <path d=\"M18.56 5.44l.94 2.06.94-2.06 2.06-.94-2.06-.94-.94-2.06-.94 2.06-2.06.94zm-11 1L8.5 8.5l.94-2.06 2.06-.94-2.06-.94L8.5 2.5l-.94 2.06-2.06.94zm10 10l.94 2.06.94-2.06 2.06-.94-2.06-.94-.94-2.06-.94 2.06-2.06.94z\"/><path d=\"M17.41 7.96l-1.37-1.37c-.4-.4-.92-.59-1.43-.59-.52 0-1.04.2-1.43.59L10.3 9.45l-7.72 7.72c-.78.78-.78 2.05 0 2.83L4 21.41c.39.39.9.59 1.41.59.51 0 1.02-.2 1.41-.59l7.78-7.78 2.81-2.81c.8-.78.8-2.07 0-2.86zM5.41 20L4 18.59l7.72-7.72 1.47 1.35L5.41 20z\"/>\n",
              "  </svg>\n",
              "      </button>\n",
              "      \n",
              "  <style>\n",
              "    .colab-df-container {\n",
              "      display:flex;\n",
              "      flex-wrap:wrap;\n",
              "      gap: 12px;\n",
              "    }\n",
              "\n",
              "    .colab-df-convert {\n",
              "      background-color: #E8F0FE;\n",
              "      border: none;\n",
              "      border-radius: 50%;\n",
              "      cursor: pointer;\n",
              "      display: none;\n",
              "      fill: #1967D2;\n",
              "      height: 32px;\n",
              "      padding: 0 0 0 0;\n",
              "      width: 32px;\n",
              "    }\n",
              "\n",
              "    .colab-df-convert:hover {\n",
              "      background-color: #E2EBFA;\n",
              "      box-shadow: 0px 1px 2px rgba(60, 64, 67, 0.3), 0px 1px 3px 1px rgba(60, 64, 67, 0.15);\n",
              "      fill: #174EA6;\n",
              "    }\n",
              "\n",
              "    [theme=dark] .colab-df-convert {\n",
              "      background-color: #3B4455;\n",
              "      fill: #D2E3FC;\n",
              "    }\n",
              "\n",
              "    [theme=dark] .colab-df-convert:hover {\n",
              "      background-color: #434B5C;\n",
              "      box-shadow: 0px 1px 3px 1px rgba(0, 0, 0, 0.15);\n",
              "      filter: drop-shadow(0px 1px 2px rgba(0, 0, 0, 0.3));\n",
              "      fill: #FFFFFF;\n",
              "    }\n",
              "  </style>\n",
              "\n",
              "      <script>\n",
              "        const buttonEl =\n",
              "          document.querySelector('#df-4624f2ab-84f8-4e7f-a82e-450e80853045 button.colab-df-convert');\n",
              "        buttonEl.style.display =\n",
              "          google.colab.kernel.accessAllowed ? 'block' : 'none';\n",
              "\n",
              "        async function convertToInteractive(key) {\n",
              "          const element = document.querySelector('#df-4624f2ab-84f8-4e7f-a82e-450e80853045');\n",
              "          const dataTable =\n",
              "            await google.colab.kernel.invokeFunction('convertToInteractive',\n",
              "                                                     [key], {});\n",
              "          if (!dataTable) return;\n",
              "\n",
              "          const docLinkHtml = 'Like what you see? Visit the ' +\n",
              "            '<a target=\"_blank\" href=https://colab.research.google.com/notebooks/data_table.ipynb>data table notebook</a>'\n",
              "            + ' to learn more about interactive tables.';\n",
              "          element.innerHTML = '';\n",
              "          dataTable['output_type'] = 'display_data';\n",
              "          await google.colab.output.renderOutput(dataTable, element);\n",
              "          const docLink = document.createElement('div');\n",
              "          docLink.innerHTML = docLinkHtml;\n",
              "          element.appendChild(docLink);\n",
              "        }\n",
              "      </script>\n",
              "    </div>\n",
              "  </div>\n",
              "  "
            ]
          },
          "metadata": {},
          "execution_count": 36
        }
      ],
      "source": [
        "data = pd.concat([tweets2_df,tweets_df,twitter_df]) \n",
        "data.head()"
      ]
    },
    {
      "cell_type": "code",
      "execution_count": null,
      "metadata": {
        "id": "u4mZ-FUBLy7p"
      },
      "outputs": [],
      "source": [
        "data.drop_duplicates(inplace=True)\n",
        "data.dropna(inplace=True)"
      ]
    },
    {
      "cell_type": "code",
      "execution_count": null,
      "metadata": {
        "colab": {
          "base_uri": "https://localhost:8080/"
        },
        "id": "GAklENCCpUif",
        "outputId": "83efe578-8361-4330-f301-4105f58eda26"
      },
      "outputs": [
        {
          "output_type": "stream",
          "name": "stdout",
          "text": [
            "(204897, 2)\n"
          ]
        }
      ],
      "source": [
        "print(data.shape)\n"
      ]
    },
    {
      "cell_type": "code",
      "execution_count": null,
      "metadata": {
        "colab": {
          "base_uri": "https://localhost:8080/"
        },
        "id": "txC7KT15tqG2",
        "outputId": "6eebea39-6aa7-4a4c-9516-94a58e1e9827"
      },
      "outputs": [
        {
          "output_type": "execute_result",
          "data": {
            "text/plain": [
              "(array([69394.,     0.,     0.,     0.,     0., 83126.,     0.,     0.,\n",
              "            0., 52377.]),\n",
              " array([0. , 0.2, 0.4, 0.6, 0.8, 1. , 1.2, 1.4, 1.6, 1.8, 2. ]),\n",
              " <BarContainer object of 10 artists>)"
            ]
          },
          "metadata": {},
          "execution_count": 39
        },
        {
          "output_type": "display_data",
          "data": {
            "text/plain": [
              "<Figure size 432x288 with 1 Axes>"
            ],
            "image/png": "[encoded data removed]"
          },
          "metadata": {
            "needs_background": "light"
          }
        }
      ],
      "source": [
        "plt.hist(data.sentiment)"
      ]
    },
    {
      "cell_type": "code",
      "execution_count": null,
      "metadata": {
        "id": "OTYqyEHOzsXy"
      },
      "outputs": [],
      "source": [
        "positive = data[data['sentiment'] == 'positive']\n",
        "temp = positive.copy()"
      ]
    },
    {
      "cell_type": "code",
      "execution_count": null,
      "metadata": {
        "colab": {
          "base_uri": "https://localhost:8080/"
        },
        "id": "Co_YlvrFzsqs",
        "outputId": "55aaa744-5a45-4148-a4c4-e43eb5675ccc"
      },
      "outputs": [
        {
          "output_type": "execute_result",
          "data": {
            "text/plain": [
              "(83126, 2)"
            ]
          },
          "metadata": {},
          "execution_count": 41
        }
      ],
      "source": [
        "positive.shape"
      ]
    },
    {
      "cell_type": "code",
      "execution_count": null,
      "metadata": {
        "colab": {
          "base_uri": "https://localhost:8080/"
        },
        "id": "VLulIkfa2tsd",
        "outputId": "f443ca15-bf02-49c3-bdcd-60fe1f06e766"
      },
      "outputs": [
        {
          "output_type": "execute_result",
          "data": {
            "text/plain": [
              "       sentiment                                               text\n",
              "1       positive  @VirginAmerica plus you've added commercials t...\n",
              "6       positive  @VirginAmerica yes, nearly every time I fly VX...\n",
              "8       positive    @virginamerica Well, I didn't…but NOW I DO! :-D\n",
              "9       positive  @VirginAmerica it was amazing, and arrived an ...\n",
              "11      positive  @VirginAmerica I &lt;3 pretty graphics. so muc...\n",
              "...          ...                                                ...\n",
              "162969  positive  objective cover everything from akhlaq ramalin...\n",
              "162970  positive  raga knows dat wont spared modi courts for his...\n",
              "162972  positive  engine growth modi unveils indias first 12000 ...\n",
              "162973  positive  modi promised 2014 lok sabha elections that be...\n",
              "162979  positive  have you ever listen about like gurukul where ...\n",
              "\n",
              "[83126 rows x 2 columns]"
            ],
            "text/html": [
              "\n",
              "  <div id=\"df-256bf84a-30c9-494a-8650-7e0f37c10b6f\">\n",
              "    <div class=\"colab-df-container\">\n",
              "      <div>\n",
              "<style scoped>\n",
              "    .dataframe tbody tr th:only-of-type {\n",
              "        vertical-align: middle;\n",
              "    }\n",
              "\n",
              "    .dataframe tbody tr th {\n",
              "        vertical-align: top;\n",
              "    }\n",
              "\n",
              "    .dataframe thead th {\n",
              "        text-align: right;\n",
              "    }\n",
              "</style>\n",
              "<table border=\"1\" class=\"dataframe\">\n",
              "  <thead>\n",
              "    <tr style=\"text-align: right;\">\n",
              "      <th></th>\n",
              "      <th>sentiment</th>\n",
              "      <th>text</th>\n",
              "    </tr>\n",
              "  </thead>\n",
              "  <tbody>\n",
              "    <tr>\n",
              "      <th>1</th>\n",
              "      <td>positive</td>\n",
              "      <td>@VirginAmerica plus you've added commercials t...</td>\n",
              "    </tr>\n",
              "    <tr>\n",
              "      <th>6</th>\n",
              "      <td>positive</td>\n",
              "      <td>@VirginAmerica yes, nearly every time I fly VX...</td>\n",
              "    </tr>\n",
              "    <tr>\n",
              "      <th>8</th>\n",
              "      <td>positive</td>\n",
              "      <td>@virginamerica Well, I didn't…but NOW I DO! :-D</td>\n",
              "    </tr>\n",
              "    <tr>\n",
              "      <th>9</th>\n",
              "      <td>positive</td>\n",
              "      <td>@VirginAmerica it was amazing, and arrived an ...</td>\n",
              "    </tr>\n",
              "    <tr>\n",
              "      <th>11</th>\n",
              "      <td>positive</td>\n",
              "      <td>@VirginAmerica I &amp;lt;3 pretty graphics. so muc...</td>\n",
              "    </tr>\n",
              "    <tr>\n",
              "      <th>...</th>\n",
              "      <td>...</td>\n",
              "      <td>...</td>\n",
              "    </tr>\n",
              "    <tr>\n",
              "      <th>162969</th>\n",
              "      <td>positive</td>\n",
              "      <td>objective cover everything from akhlaq ramalin...</td>\n",
              "    </tr>\n",
              "    <tr>\n",
              "      <th>162970</th>\n",
              "      <td>positive</td>\n",
              "      <td>raga knows dat wont spared modi courts for his...</td>\n",
              "    </tr>\n",
              "    <tr>\n",
              "      <th>162972</th>\n",
              "      <td>positive</td>\n",
              "      <td>engine growth modi unveils indias first 12000 ...</td>\n",
              "    </tr>\n",
              "    <tr>\n",
              "      <th>162973</th>\n",
              "      <td>positive</td>\n",
              "      <td>modi promised 2014 lok sabha elections that be...</td>\n",
              "    </tr>\n",
              "    <tr>\n",
              "      <th>162979</th>\n",
              "      <td>positive</td>\n",
              "      <td>have you ever listen about like gurukul where ...</td>\n",
              "    </tr>\n",
              "  </tbody>\n",
              "</table>\n",
              "<p>83126 rows × 2 columns</p>\n",
              "</div>\n",
              "      <button class=\"colab-df-convert\" onclick=\"convertToInteractive('df-256bf84a-30c9-494a-8650-7e0f37c10b6f')\"\n",
              "              title=\"Convert this dataframe to an interactive table.\"\n",
              "              style=\"display:none;\">\n",
              "        \n",
              "  <svg xmlns=\"http://www.w3.org/2000/svg\" height=\"24px\"viewBox=\"0 0 24 24\"\n",
              "       width=\"24px\">\n",
              "    <path d=\"M0 0h24v24H0V0z\" fill=\"none\"/>\n",
              "    <path d=\"M18.56 5.44l.94 2.06.94-2.06 2.06-.94-2.06-.94-.94-2.06-.94 2.06-2.06.94zm-11 1L8.5 8.5l.94-2.06 2.06-.94-2.06-.94L8.5 2.5l-.94 2.06-2.06.94zm10 10l.94 2.06.94-2.06 2.06-.94-2.06-.94-.94-2.06-.94 2.06-2.06.94z\"/><path d=\"M17.41 7.96l-1.37-1.37c-.4-.4-.92-.59-1.43-.59-.52 0-1.04.2-1.43.59L10.3 9.45l-7.72 7.72c-.78.78-.78 2.05 0 2.83L4 21.41c.39.39.9.59 1.41.59.51 0 1.02-.2 1.41-.59l7.78-7.78 2.81-2.81c.8-.78.8-2.07 0-2.86zM5.41 20L4 18.59l7.72-7.72 1.47 1.35L5.41 20z\"/>\n",
              "  </svg>\n",
              "      </button>\n",
              "      \n",
              "  <style>\n",
              "    .colab-df-container {\n",
              "      display:flex;\n",
              "      flex-wrap:wrap;\n",
              "      gap: 12px;\n",
              "    }\n",
              "\n",
              "    .colab-df-convert {\n",
              "      background-color: #E8F0FE;\n",
              "      border: none;\n",
              "      border-radius: 50%;\n",
              "      cursor: pointer;\n",
              "      display: none;\n",
              "      fill: #1967D2;\n",
              "      height: 32px;\n",
              "      padding: 0 0 0 0;\n",
              "      width: 32px;\n",
              "    }\n",
              "\n",
              "    .colab-df-convert:hover {\n",
              "      background-color: #E2EBFA;\n",
              "      box-shadow: 0px 1px 2px rgba(60, 64, 67, 0.3), 0px 1px 3px 1px rgba(60, 64, 67, 0.15);\n",
              "      fill: #174EA6;\n",
              "    }\n",
              "\n",
              "    [theme=dark] .colab-df-convert {\n",
              "      background-color: #3B4455;\n",
              "      fill: #D2E3FC;\n",
              "    }\n",
              "\n",
              "    [theme=dark] .colab-df-convert:hover {\n",
              "      background-color: #434B5C;\n",
              "      box-shadow: 0px 1px 3px 1px rgba(0, 0, 0, 0.15);\n",
              "      filter: drop-shadow(0px 1px 2px rgba(0, 0, 0, 0.3));\n",
              "      fill: #FFFFFF;\n",
              "    }\n",
              "  </style>\n",
              "\n",
              "      <script>\n",
              "        const buttonEl =\n",
              "          document.querySelector('#df-256bf84a-30c9-494a-8650-7e0f37c10b6f button.colab-df-convert');\n",
              "        buttonEl.style.display =\n",
              "          google.colab.kernel.accessAllowed ? 'block' : 'none';\n",
              "\n",
              "        async function convertToInteractive(key) {\n",
              "          const element = document.querySelector('#df-256bf84a-30c9-494a-8650-7e0f37c10b6f');\n",
              "          const dataTable =\n",
              "            await google.colab.kernel.invokeFunction('convertToInteractive',\n",
              "                                                     [key], {});\n",
              "          if (!dataTable) return;\n",
              "\n",
              "          const docLinkHtml = 'Like what you see? Visit the ' +\n",
              "            '<a target=\"_blank\" href=https://colab.research.google.com/notebooks/data_table.ipynb>data table notebook</a>'\n",
              "            + ' to learn more about interactive tables.';\n",
              "          element.innerHTML = '';\n",
              "          dataTable['output_type'] = 'display_data';\n",
              "          await google.colab.output.renderOutput(dataTable, element);\n",
              "          const docLink = document.createElement('div');\n",
              "          docLink.innerHTML = docLinkHtml;\n",
              "          element.appendChild(docLink);\n",
              "        }\n",
              "      </script>\n",
              "    </div>\n",
              "  </div>\n",
              "  "
            ]
          },
          "metadata": {},
          "execution_count": 42
        }
      ],
      "source": [
        "positive"
      ]
    },
    {
      "cell_type": "code",
      "execution_count": null,
      "metadata": {
        "id": "ZYQDZF9Zzs8S"
      },
      "outputs": [],
      "source": [
        "# # \"@united private jet would have been cool! Do does not work. I'll try again\",\n",
        "# # '@united just touched down in Miami - not too far off , Nicely done united 👍',\n",
        "\n",
        "# no_sentince = [sentence for sentence in positive.text if ' not ' in sentence ]#and ','not in sentence and '.'  not in sentence]\n",
        "# len(no_sentince)"
      ]
    },
    {
      "cell_type": "code",
      "execution_count": null,
      "metadata": {
        "id": "TzI3o4ae-Anr"
      },
      "outputs": [],
      "source": []
    },
    {
      "cell_type": "markdown",
      "metadata": {
        "id": "cobTg4eVmDMk"
      },
      "source": [
        "### Convert 11000 sentence from positive to negative "
      ]
    },
    {
      "cell_type": "code",
      "execution_count": null,
      "metadata": {
        "id": "WgMvj35nmBr5"
      },
      "outputs": [],
      "source": [
        "import spacy\n",
        "nlp = spacy.load('en_core_web_sm')\n",
        "\n",
        "# import nltk\n",
        "# # from nltk import word_tokenize\n",
        "# from nltk.tokenize import word_tokenize\n",
        "# nltk.download('punkt')\n",
        "# nltk.download('averaged_perceptron_tagger')\n"
      ]
    },
    {
      "cell_type": "code",
      "execution_count": null,
      "metadata": {
        "id": "F6ApABz2nfvE"
      },
      "outputs": [],
      "source": [
        "# p = word_tokenize(positive.iloc[4,1])\n",
        "# tags = nltk.pos_tag(p)\n",
        "# tags\n"
      ]
    },
    {
      "cell_type": "code",
      "execution_count": null,
      "metadata": {
        "colab": {
          "base_uri": "https://localhost:8080/"
        },
        "id": "epmewJ5-mNS0",
        "outputId": "8199e713-279a-4206-9a4b-2eedfb9984ae"
      },
      "outputs": [
        {
          "output_type": "stream",
          "name": "stdout",
          "text": [
            "@VirginAmerica  PROPN   proper noun\n",
            "@ladygaga       NOUN    noun\n",
            "@carrieunderwood PROPN   proper noun\n",
            "Julie           PROPN   proper noun\n",
            "Andrews         PROPN   proper noun\n",
            "all             DET     determiner\n",
            "the             DET     determiner\n",
            "way             NOUN    noun\n",
            "though          SCONJ   subordinating conjunction\n",
            "@ladygaga       NOUN    noun\n",
            "was             AUX     auxiliary\n",
            "very            ADV     adverb\n",
            "impressive      ADJ     adjective\n",
            "!               PUNCT   punctuation\n",
            "NO              INTJ    interjection\n",
            "to              PART    particle\n",
            "@Carrieunderwood VERB    verb\n"
          ]
        }
      ],
      "source": [
        "pos = nlp(positive.iloc[19,1])\n",
        "\n",
        "for token in pos:\n",
        "  print(f\"{token.text : <17} {token.pos_ : <7} {spacy.explain(token.pos_) }\")"
      ]
    },
    {
      "cell_type": "code",
      "execution_count": null,
      "metadata": {
        "id": "hVeI0s_MvcqY"
      },
      "outputs": [],
      "source": [
        "temp = positive.copy()"
      ]
    },
    {
      "cell_type": "markdown",
      "metadata": {
        "id": "W3KkDvi9ITIG"
      },
      "source": [
        "AUX(auxiliary) => (am, is, are, was, were,...)\n",
        "\n",
        "Add 'not' after AUX if there isn't any PART(negative)\n",
        "\n",
        "Add 'not befor VERB if there isn't any PART\n",
        "\n",
        "Delete any PART "
      ]
    },
    {
      "cell_type": "code",
      "execution_count": null,
      "metadata": {
        "id": "yD-BhTJNOAqJ"
      },
      "outputs": [],
      "source": [
        "# spacy \n",
        "\n",
        "for i in range(11000):\n",
        "\n",
        "  tokens = nlp(positive.iloc[i,1])\n",
        "  new_sentence = tokens[0].text + ' '\n",
        "\n",
        "  for j in range(1, len(tokens)-1):\n",
        "    if tokens[j].pos_ in ['AUX'] and tokens[j+1].pos_ != 'PART':\n",
        "      new_sentence += ' ' + tokens[j].text + ' not '\n",
        "    elif tokens[j].pos_ in ['VERB'] and tokens[j-1].pos_ not in ['PART', 'AUX']:\n",
        "      new_sentence += ' not ' + tokens[j].text\n",
        "    elif tokens[j].pos_ in ['PART']:\n",
        "      new_sentence += ' '\n",
        "    # elif tokens[j].text == 'good' and tokens[j-1].pos_ != 'PART':\n",
        "    #   new_sentence += ' bad '\n",
        "    else:\n",
        "      new_sentence += ' ' + tokens[j].text\n",
        "  new_sentence += ' ' + tokens[-1].text\n",
        "  temp.iloc[i,1] = new_sentence\n",
        "  temp.iloc[i,0] = 'negative'\n",
        "    \n",
        "\n"
      ]
    },
    {
      "cell_type": "code",
      "execution_count": null,
      "metadata": {
        "colab": {
          "base_uri": "https://localhost:8080/"
        },
        "id": "xmZ8MXGlRVIg",
        "outputId": "2c28e98a-9465-450c-c1ce-a27916b0f831"
      },
      "outputs": [
        {
          "output_type": "stream",
          "name": "stdout",
          "text": [
            "@VirginAmerica you know it. Need it on my spotify stat #guiltypleasures\n",
            "@VirginAmerica  you not know it . not Need it on my spotify not stat # guiltypleasures\n",
            "====================\n",
            "@VirginAmerica @ladygaga @carrieunderwood  I'm Lady Gaga!!! She is amazing! 😊\n",
            "@VirginAmerica  @ladygaga @carrieunderwood   I 'm not  Lady Gaga ! ! ! She is not  amazing ! 😊\n",
            "====================\n",
            "@VirginAmerica @ladygaga @carrieunderwood  love all three but you really can't beat the classics!\n",
            "@VirginAmerica  @ladygaga @carrieunderwood   not love all three but you really ca  beat the classics !\n",
            "====================\n",
            "@VirginAmerica Congrats on winning the @Travelzoo award for Best Deals from an Airline (US) http://t.co/kj1iljaebV\n",
            "@VirginAmerica  Congrats on not winning the @Travelzoo award for Best Deals from an Airline ( US ) http://t.co/kj1iljaebV\n",
            "====================\n",
            "@VirginAmerica not worried, it's been a great ride in a new plane with great crew. All airlines should be like this.\n",
            "@VirginAmerica   worried , it 's not  been not  a great ride in a new plane with great crew . All airlines should not  be not  like this .\n",
            "====================\n",
            "@VirginAmerica awesome. I flew yall Sat morning. Any way we can correct my bill ?\n",
            "@VirginAmerica  awesome . I not flew y all Sat morning . Any way we can not  correct my bill ?\n",
            "====================\n",
            "@VirginAmerica I've applied more then once to be a member of the #inflight crew team...Im 100% interested. #flightattendant #dreampath -G\n",
            "@VirginAmerica  I 've not  applied more then once  be not  a member of the # inflight crew team ... Im 100 % interested . # flightattendant # dreampath -G\n",
            "====================\n",
            "@VirginAmerica - amazing customer  service, again! 💕💕 RaeAnn in SF - she's the best! #customerservice #virginamerica #flying\n",
            "@VirginAmerica  - amazing customer   service , again ! 💕 not 💕 RaeAnn in SF - she 's not  the best ! # customerservice # virginamerica # flying\n",
            "====================\n",
            "@VirginAmerica has getaway deals through May, from $59 one-way. Lots of cool cities http://t.co/tZZJhuIbCH #CheapFlights #FareCompare\n",
            "@VirginAmerica  has not  getaway deals through May , from $ 59 one - way . Lots of cool cities http://t.co/tZZJhuIbCH # CheapFlights # FareCompare\n",
            "====================\n",
            "@VirginAmerica has getaway deals through May, from $59 one-way. Lots of cool cities http://t.co/B2Xi4YG5T8 #CheapFlights #FareCompare\n",
            "@VirginAmerica  has not  getaway deals through May , from $ 59 one - way . Lots of cool cities not http://t.co/B2Xi4YG5T8 # CheapFlights # FareCompare\n",
            "====================\n",
            "@VirginAmerica Have a great week 🌞✈\n",
            "@VirginAmerica  not Have a great week 🌞 ✈\n",
            "====================\n",
            "@VirginAmerica come back to #PHL already. We need you to take us out of this horrible cold. #pleasecomeback http://t.co/gLXFwP6nQH\n",
            "@VirginAmerica  not come back to # PHL already . We not need you  take us out of this horrible cold . # pleasecomeback http://t.co/gLXFwP6nQH\n",
            "====================\n",
            "@VirginAmerica is the best airline I have flown on.Easy to change your reservation,helpful representatives &amp; a comfortable flying experience\n",
            "@VirginAmerica  is not  the best airline I have not  flown on . Easy  change your reservation , helpful representatives & amp ; a comfortable not flying experience\n",
            "====================\n",
            "@VirginAmerica and again! Another rep kicked butt! Naelah represents your team so beautifully!! Thank you!!!\n",
            "@VirginAmerica  and again ! Another rep not kicked butt ! Naelah not represents your team so beautifully ! ! not Thank you ! ! !\n",
            "====================\n",
            "@VirginAmerica your beautiful front-end design is down right now; but it was cool to still book my ticket b/c all your back-end was secure.\n",
            "@VirginAmerica  your beautiful front - end design is not  down right now ; but it was not  cool  still not book my ticket b / c not  all your back - end was not  secure .\n",
            "====================\n",
            "@VirginAmerica Love the team running Gate E9 at LAS tonight. Waited for a delayed flight, and they kept things entertaining\n",
            "@VirginAmerica  not Love the team not running Gate E9 at LAS tonight . not Waited for a not delayed flight , and they not kept things entertaining\n",
            "====================\n",
            "@VirginAmerica thanks to your outstanding NYC-JFK crew who moved mountains to get me home to San Francisco tonight!\n",
            "@VirginAmerica  thanks to your outstanding NYC - JFK crew who not moved mountains  get me home to San Francisco tonight !\n",
            "====================\n",
            "@VirginAmerica you have the absolute best team and customer service ever.  Every time I fly with you I'm delighted.  Thank you!\n",
            "@VirginAmerica  you not have the absolute best team and customer service ever .   Every time I not fly with you I 'm not  delighted .   not Thank you !\n",
            "====================\n",
            "@VirginAmerica completely awesome experience last month BOS-LAS nonstop. Thanks for such an awesome flight and depart time. #VAbeatsJblue\n",
            "@VirginAmerica  completely awesome experience last month BOS - LAS nonstop . Thanks for such an awesome flight and depart time . # VAbeatsJblue\n",
            "====================\n",
            "@virginamerica you ROCK for making it so I can watch #Oscars on my flight!! #redcarpet #oscars #oscars2015\n",
            "@virginamerica  you ROCK for not making it so I can not  watch # not Oscars on my flight ! ! # redcarpet # not oscars # oscars2015\n",
            "====================\n",
            "@VirginAmerica always!!! Xoxo\n",
            "@VirginAmerica  always ! ! ! Xoxo\n",
            "====================\n",
            "@VirginAmerica best customer service rep in the world! #irmafromDallas takes the cake!!!\n",
            "@VirginAmerica  best customer service rep in the world ! # irmafromDallas not takes the cake ! ! !\n",
            "====================\n",
            "@VirginAmerica you have amazing staff &amp; super helpful as I just ran the @WaltDisneyWorld #PrincessHalf they have spoiled me with comfort!!!\n",
            "@VirginAmerica  you not have amazing staff & amp ; super helpful as I just not ran the @WaltDisneyWorld # PrincessHalf they have not  spoiled me with comfort ! ! !\n",
            "====================\n",
            "Always have it together!!! You're welcome! RT @VirginAmerica: @jessicajaymes You're so welcome.\n",
            "Always  not have it together ! ! ! You 're not  welcome ! RT @VirginAmerica : @jessicajaymes not  You 're not  so welcome .\n",
            "====================\n",
            "@virginamerica #flight home to #dc #sunset #globe in' #backtowinter back to #work! #refreshed http://t.co/VX9vBCTdLf\n",
            "@virginamerica  # flight home to # dc # sunset # globe in ' # not backtowinter back to # work ! # not refreshed http://t.co/VX9vBCTdLf\n",
            "====================\n",
            "@VirginAmerica thank you for checking in. tickets are purchased and customer is happy ;-)\n",
            "@VirginAmerica  not thank you for not checking in . tickets are not  purchased and customer is not  happy ;-)\n",
            "====================\n",
            "@VirginAmerica Thank you for the follow\n",
            "@VirginAmerica  not Thank you for the follow\n",
            "====================\n",
            "😎 RT @VirginAmerica: You’ve met your match. Got status on another airline? Upgrade (+restr): http://t.co/RHKaMx9VF5. http://t.co/PYalebgkJt\n",
            "😎  RT @VirginAmerica : You ’ve not  met your match . not Got status on another airline ? not Upgrade ( + restr ): http://t.co/RHKaMx9VF5 . http://t.co/PYalebgkJt\n",
            "====================\n",
            "@VirginAmerica Only way to fly! #Elevate #Gold\n",
            "@VirginAmerica  Only way  fly ! # Elevate # Gold\n",
            "====================\n",
            "@VirginAmerica you will match my #AmericanAirlines status? Cool!\n",
            "@VirginAmerica  you will not  match my # AmericanAirlines status ? Cool !\n",
            "====================\n"
          ]
        }
      ],
      "source": [
        "# x = 4200\n",
        "for i in range(20,50):\n",
        "  print(positive.iloc[i,1])\n",
        "  print(temp.iloc[i,1])\n",
        "  print('='*20)"
      ]
    },
    {
      "cell_type": "code",
      "execution_count": null,
      "metadata": {
        "id": "xIjK23EKmu30"
      },
      "outputs": [],
      "source": [
        "# for i in range(11000):\n",
        "#   tokens = nlp(positive.iloc[i,1])\n",
        "#   tags = nltk.pos_tag(tokens)\n",
        "#   for j in range(1,len(tokens)-1):\n",
        "#     if tags[j][1] in ['VBZ','VBP','VBD'] and tags[j+1][1] != 'RB':\n",
        "#       tokens[j] = tokens[j] + ' not'\n",
        "#     if tags[j][1] in ['VB'] and tags[j-1][1] != 'RB':\n",
        "#       tokens[j] = 'not ' + tokens[j] \n",
        "#     if tags[j][0] in ['not',\"n't\"]:\n",
        "#       tokens[j] = ''\n",
        "#     if tags[j][0] == 'good':\n",
        "#       tokens[j] = 'bad'\n",
        "#   temp.iloc[i,1] = ' '.join(tokens)\n",
        "#   temp.iloc[i,0] = 'negative'\n",
        "    \n"
      ]
    },
    {
      "cell_type": "code",
      "execution_count": null,
      "metadata": {
        "id": "39ywBfEb-Yj_"
      },
      "outputs": [],
      "source": [
        "# import nltk\n",
        "# from nltk.corpus import stopwords\n",
        "# nltk.download(\"stopwords\")\n",
        "# stopwords = stopwords.words('english')\n",
        "# print(stopwords)"
      ]
    },
    {
      "cell_type": "code",
      "execution_count": null,
      "metadata": {
        "id": "MhqAq5Bf-Yvk"
      },
      "outputs": [],
      "source": [
        "# nltk.pos_tag(stopwords)"
      ]
    },
    {
      "cell_type": "code",
      "execution_count": null,
      "metadata": {
        "colab": {
          "base_uri": "https://localhost:8080/"
        },
        "id": "tM61j6e7GKAf",
        "outputId": "817693e6-9a56-4395-aef3-7f3a0d778cde"
      },
      "outputs": [
        {
          "output_type": "execute_result",
          "data": {
            "text/plain": [
              "(array([69394.,     0.,     0.,     0.,     0., 63377.,     0.,     0.,\n",
              "            0., 72126.]),\n",
              " array([0. , 0.2, 0.4, 0.6, 0.8, 1. , 1.2, 1.4, 1.6, 1.8, 2. ]),\n",
              " <BarContainer object of 10 artists>)"
            ]
          },
          "metadata": {},
          "execution_count": 53
        },
        {
          "output_type": "display_data",
          "data": {
            "text/plain": [
              "<Figure size 432x288 with 1 Axes>"
            ],
            "image/png": "[encoded data removed]"
          },
          "metadata": {
            "needs_background": "light"
          }
        }
      ],
      "source": [
        "data = data[data['sentiment'] != 'positive']\n",
        "data = pd.concat([data, temp])\n",
        "plt.hist(data.sentiment)"
      ]
    },
    {
      "cell_type": "markdown",
      "metadata": {
        "id": "sJLIVKYWdp4A"
      },
      "source": [
        "### Data Cleaning"
      ]
    },
    {
      "cell_type": "code",
      "execution_count": null,
      "metadata": {
        "colab": {
          "base_uri": "https://localhost:8080/"
        },
        "id": "AjcspvuCdorr",
        "outputId": "752e52e8-9fa2-4b38-cf69-c1a9a54ffd97"
      },
      "outputs": [
        {
          "output_type": "stream",
          "name": "stderr",
          "text": [
            "[nltk_data] Downloading package punkt to /root/nltk_data...\n",
            "[nltk_data]   Unzipping tokenizers/punkt.zip.\n"
          ]
        }
      ],
      "source": [
        "import re\n",
        "import unicodedata\n",
        "from nltk.tokenize import word_tokenize\n",
        "import nltk\n",
        "nltk.download('punkt')\n",
        "import string\n",
        "\n",
        "# 😞\n",
        "def remove_non_ascii(text):\n",
        "    return unicodedata.normalize('NFKD', text).encode('ascii', 'ignore').decode('utf-8', 'ignore')\n",
        "\n",
        "def to_lowercase(text):\n",
        "    return text.lower()\n",
        "\n",
        "def remove_punctuation(text):\n",
        "    translator = str.maketrans('', '', string.punctuation)\n",
        "    return text.translate(translator)\n",
        "\n",
        "def replace_numbers(text):\n",
        "    return re.sub(r'\\d+', '', text)\n",
        "\n",
        "def remove_whitespaces(text):\n",
        "    return text.strip()\n",
        "\n",
        "\n",
        "def text2words(text):\n",
        "  words = word_tokenize(text)\n",
        "  # 'httptcobbhtlzghc'\n",
        "  clean_words = [ word for word in words if  len(word)>1 ]\n",
        "  return ' '.join(clean_words)\n",
        "\n",
        "\n",
        "clean_text = []\n",
        "for txt in data['text'] :\n",
        "    txt = remove_non_ascii(txt)\n",
        "    # txt = remove_punctuation(txt)\n",
        "    txt = remove_whitespaces(txt)\n",
        "    txt = to_lowercase(txt)\n",
        "    txt = replace_numbers(txt)\n",
        "    txt = text2words(txt)\n",
        "    clean_text.append(txt)\n",
        "\n"
      ]
    },
    {
      "cell_type": "code",
      "execution_count": null,
      "metadata": {
        "colab": {
          "base_uri": "https://localhost:8080/"
        },
        "id": "SF00wklYsVyC",
        "outputId": "7410d25b-b9f5-4d3b-bbc5-7a9ba1f2dbf7"
      },
      "outputs": [
        {
          "output_type": "execute_result",
          "data": {
            "text/plain": [
              "2367    0\n",
              "2368    0\n",
              "2369    0\n",
              "2370    1\n",
              "2372    0\n",
              "2373    0\n",
              "2375    1\n",
              "2376    0\n",
              "2377    0\n",
              "2378    1\n",
              "2379    0\n",
              "2380    0\n",
              "2381    0\n",
              "Name: sentiment, dtype: int64"
            ]
          },
          "metadata": {},
          "execution_count": 55
        }
      ],
      "source": [
        "labels_data = data['sentiment'].map({'negative':0, 'neutral':1, 'positive':2 })\n",
        "labels_data[2010:2023]"
      ]
    },
    {
      "cell_type": "code",
      "execution_count": null,
      "metadata": {
        "id": "aE_k6Ecbtope"
      },
      "outputs": [],
      "source": []
    },
    {
      "cell_type": "markdown",
      "metadata": {
        "id": "SXI6vIEPuq17"
      },
      "source": [
        "### Data tokenization"
      ]
    },
    {
      "cell_type": "code",
      "execution_count": null,
      "metadata": {
        "colab": {
          "base_uri": "https://localhost:8080/"
        },
        "id": "wfqX8wmA3KUH",
        "outputId": "a0172f0b-453b-41bb-fd72-c2e90703f1c2"
      },
      "outputs": [
        {
          "output_type": "execute_result",
          "data": {
            "text/plain": [
              "['well said one expects modi deliver everything years however certain objectives should have been met not sgrg then chidambaram should have atleast landed jail years our govt could not even punish shashi tharoor',\n",
              " 'no not at all miss girlfriends have all the seasons']"
            ]
          },
          "metadata": {},
          "execution_count": 56
        }
      ],
      "source": [
        "from sklearn.model_selection import train_test_split\n",
        "\n",
        "x_train,x_test,y_train,y_test = train_test_split(clean_text,labels_data,\n",
        "                                                 test_size=.4,shuffle=True,random_state=1)\n",
        "\n",
        "x_valid,x_test,y_valid,y_test = train_test_split(x_test,y_test,\n",
        "                                                 test_size=.25,shuffle=True,random_state=1)\n",
        "\n",
        "# x_train.shape,y_train.shape,x_test.shape\n",
        "x_train[:2]"
      ]
    },
    {
      "cell_type": "code",
      "execution_count": null,
      "metadata": {
        "colab": {
          "base_uri": "https://localhost:8080/"
        },
        "id": "x_sWM3WSup72",
        "outputId": "8cb1b8ec-8e2c-4d2f-f4ec-4191350ce5d2"
      },
      "outputs": [
        {
          "output_type": "execute_result",
          "data": {
            "text/plain": [
              "{'UNK': 1,\n",
              " 'modi': 2,\n",
              " 'the': 3,\n",
              " 'and': 4,\n",
              " 'for': 5,\n",
              " 'not': 6,\n",
              " 'you': 7,\n",
              " 'that': 8,\n",
              " 'this': 9,\n",
              " 'are': 10,\n",
              " 'will': 11,\n",
              " 'india': 12,\n",
              " 'with': 13,\n",
              " 'have': 14,\n",
              " 'but': 15,\n",
              " 'has': 16,\n",
              " 'all': 17,\n",
              " 'was': 18,\n",
              " 'from': 19,\n",
              " 'his': 20,\n",
              " 'to': 21,\n",
              " 'they': 22,\n",
              " 'can': 23,\n",
              " 'your': 24,\n",
              " 'what': 25,\n",
              " 'who': 26,\n",
              " 'bjp': 27,\n",
              " 'people': 28,\n",
              " 'like': 29,\n",
              " 'now': 30,\n",
              " 'congress': 31,\n",
              " 'only': 32,\n",
              " 'why': 33,\n",
              " 'our': 34,\n",
              " 'narendra': 35,\n",
              " 'just': 36,\n",
              " 'about': 37,\n",
              " 'its': 38,\n",
              " 'one': 39,\n",
              " 'govt': 40,\n",
              " 'when': 41,\n",
              " 'vote': 42,\n",
              " 'how': 43,\n",
              " 'time': 44,\n",
              " 'more': 45,\n",
              " 'him': 46,\n",
              " 'dont': 47,\n",
              " 'my': 48,\n",
              " 'get': 49,\n",
              " 'their': 50,\n",
              " 'out': 51,\n",
              " 'should': 52,\n",
              " 'did': 53,\n",
              " 'country': 54,\n",
              " 'there': 55,\n",
              " 'it': 56,\n",
              " 'modis': 57,\n",
              " 'election': 58,\n",
              " 'then': 59,\n",
              " 'years': 60,\n",
              " 'any': 61,\n",
              " 'after': 62,\n",
              " 'know': 63,\n",
              " 'even': 64,\n",
              " 'rahul': 65,\n",
              " 'good': 66,\n",
              " 'is': 67,\n",
              " 'indian': 68,\n",
              " 'nation': 69,\n",
              " 'had': 70,\n",
              " 'also': 71,\n",
              " 'against': 72,\n",
              " 'on': 73,\n",
              " 'again': 74,\n",
              " 'which': 75,\n",
              " 'been': 76,\n",
              " 'in': 77,\n",
              " 'want': 78,\n",
              " 'them': 79,\n",
              " 'would': 80,\n",
              " 'see': 81,\n",
              " 'because': 82,\n",
              " 'government': 83,\n",
              " 'than': 84,\n",
              " 'power': 85,\n",
              " 'back': 86,\n",
              " 'gandhi': 87,\n",
              " 'day': 88,\n",
              " 'give': 89,\n",
              " 'work': 90,\n",
              " 'make': 91,\n",
              " 'said': 92,\n",
              " 'today': 93,\n",
              " 'minister': 94,\n",
              " 'says': 95,\n",
              " 'done': 96,\n",
              " 'were': 97,\n",
              " 'of': 98,\n",
              " 'some': 99,\n",
              " 'space': 100,\n",
              " 'think': 101,\n",
              " 'money': 102,\n",
              " 'these': 103,\n",
              " 'hai': 104,\n",
              " 'under': 105,\n",
              " 'party': 106,\n",
              " 'take': 107,\n",
              " 'need': 108,\n",
              " 'new': 109,\n",
              " 'never': 110,\n",
              " 'say': 111,\n",
              " 'credit': 112,\n",
              " 'pakistan': 113,\n",
              " 'me': 114,\n",
              " 'very': 115,\n",
              " 'sir': 116,\n",
              " 'too': 117,\n",
              " 'united': 118,\n",
              " 'every': 119,\n",
              " 'got': 120,\n",
              " 'great': 121,\n",
              " 'going': 122,\n",
              " 'other': 123,\n",
              " 'much': 124,\n",
              " 'prime': 125,\n",
              " 'last': 126,\n",
              " 'please': 127,\n",
              " 'via': 128,\n",
              " 'still': 129,\n",
              " 'come': 130,\n",
              " 'well': 131,\n",
              " 'such': 132,\n",
              " 'same': 133,\n",
              " 'where': 134,\n",
              " 'chowkidar': 135,\n",
              " 'elections': 136,\n",
              " 'support': 137,\n",
              " 'right': 138,\n",
              " 'made': 139,\n",
              " 'over': 140,\n",
              " 'many': 141,\n",
              " 'flight': 142,\n",
              " 'opposition': 143,\n",
              " 'poor': 144,\n",
              " 'here': 145,\n",
              " 'before': 146,\n",
              " 'first': 147,\n",
              " 'world': 148,\n",
              " 'being': 149,\n",
              " 'may': 150,\n",
              " 'down': 151,\n",
              " 'thanks': 152,\n",
              " 'way': 153,\n",
              " 'media': 154,\n",
              " 'win': 155,\n",
              " 'so': 156,\n",
              " 'best': 157,\n",
              " 'news': 158,\n",
              " 'drdo': 159,\n",
              " 'anti': 160,\n",
              " 'does': 161,\n",
              " 'better': 162,\n",
              " 'at': 163,\n",
              " 'nehru': 164,\n",
              " 'political': 165,\n",
              " 'leader': 166,\n",
              " 'nirav': 167,\n",
              " 'love': 168,\n",
              " 'be': 169,\n",
              " 'doing': 170,\n",
              " 'really': 171,\n",
              " 'scientists': 172,\n",
              " 'man': 173,\n",
              " 'family': 174,\n",
              " 'next': 175,\n",
              " 'live': 176,\n",
              " 'cant': 177,\n",
              " 'she': 178,\n",
              " 'usairways': 179,\n",
              " 'yes': 180,\n",
              " 'could': 181,\n",
              " 'nothing': 182,\n",
              " 'satellite': 183,\n",
              " 'must': 184,\n",
              " 'mission': 185,\n",
              " 'no': 186,\n",
              " 'let': 187,\n",
              " 'americanair': 188,\n",
              " 'those': 189,\n",
              " 'another': 190,\n",
              " 'given': 191,\n",
              " 'most': 192,\n",
              " 'always': 193,\n",
              " 'help': 194,\n",
              " 'into': 195,\n",
              " 'big': 196,\n",
              " 'hate': 197,\n",
              " 'do': 198,\n",
              " 'thats': 199,\n",
              " 'her': 200,\n",
              " 'during': 201,\n",
              " 'upa': 202,\n",
              " 'national': 203,\n",
              " 'address': 204,\n",
              " 'name': 205,\n",
              " 'ask': 206,\n",
              " 'become': 207,\n",
              " 'proud': 208,\n",
              " 'watch': 209,\n",
              " 'don': 210,\n",
              " 'indians': 211,\n",
              " 'southwestair': 212,\n",
              " 'already': 213,\n",
              " 'didnt': 214,\n",
              " 'campaign': 215,\n",
              " 'happy': 216,\n",
              " 'stop': 217,\n",
              " 'anything': 218,\n",
              " 'show': 219,\n",
              " 'http': 220,\n",
              " 'since': 221,\n",
              " 'job': 222,\n",
              " 'shah': 223,\n",
              " 'own': 224,\n",
              " 'jetblue': 225,\n",
              " 'year': 226,\n",
              " 'making': 227,\n",
              " 'we': 228,\n",
              " 'hope': 229,\n",
              " 'thing': 230,\n",
              " 'keep': 231,\n",
              " 'jobs': 232,\n",
              " 'person': 233,\n",
              " 'thank': 234,\n",
              " 'scheme': 235,\n",
              " 'namo': 236,\n",
              " 'development': 237,\n",
              " 'off': 238,\n",
              " 'politics': 239,\n",
              " 'without': 240,\n",
              " 'up': 241,\n",
              " 'jai': 242,\n",
              " 'sure': 243,\n",
              " 'while': 244,\n",
              " 'crore': 245,\n",
              " 'gave': 246,\n",
              " 'saying': 247,\n",
              " 'state': 248,\n",
              " 'fake': 249,\n",
              " 'ever': 250,\n",
              " 'asat': 251,\n",
              " 'missile': 252,\n",
              " 'giving': 253,\n",
              " 'leaders': 254,\n",
              " 'true': 255,\n",
              " 'public': 256,\n",
              " 'doesnt': 257,\n",
              " 'lakh': 258,\n",
              " 'trying': 259,\n",
              " 'understand': 260,\n",
              " 'strike': 261,\n",
              " 'times': 262,\n",
              " 'shakti': 263,\n",
              " 'real': 264,\n",
              " 'everyone': 265,\n",
              " 'everything': 266,\n",
              " 'guys': 267,\n",
              " 'called': 268,\n",
              " \"n't\": 269,\n",
              " 'isro': 270,\n",
              " 'achievement': 271,\n",
              " 'corruption': 272,\n",
              " 'getting': 273,\n",
              " 'tell': 274,\n",
              " 'bad': 275,\n",
              " 'question': 276,\n",
              " 'wants': 277,\n",
              " 'days': 278,\n",
              " 'read': 279,\n",
              " 'per': 280,\n",
              " 'things': 281,\n",
              " 'look': 282,\n",
              " 'indias': 283,\n",
              " 'call': 284,\n",
              " 'both': 285,\n",
              " 'believe': 286,\n",
              " 'two': 287,\n",
              " 'change': 288,\n",
              " 'life': 289,\n",
              " 'once': 290,\n",
              " 'pappu': 291,\n",
              " 'seats': 292,\n",
              " 'something': 293,\n",
              " 'test': 294,\n",
              " 'due': 295,\n",
              " 'away': 296,\n",
              " 'lol': 297,\n",
              " 'wrong': 298,\n",
              " 'bhi': 299,\n",
              " 'speech': 300,\n",
              " 'long': 301,\n",
              " 'free': 302,\n",
              " 'air': 303,\n",
              " 'ppl': 304,\n",
              " 'hindu': 305,\n",
              " 'yrs': 306,\n",
              " 'talk': 307,\n",
              " 'use': 308,\n",
              " 'feel': 309,\n",
              " 'economy': 310,\n",
              " 'etc': 311,\n",
              " 'home': 312,\n",
              " 'working': 313,\n",
              " 'lost': 314,\n",
              " 'chor': 315,\n",
              " 'seat': 316,\n",
              " 'full': 317,\n",
              " 'tweet': 318,\n",
              " 'team': 319,\n",
              " 'pak': 320,\n",
              " 'taking': 321,\n",
              " 'used': 322,\n",
              " 'through': 323,\n",
              " 'hard': 324,\n",
              " 'surgical': 325,\n",
              " 'go': 326,\n",
              " 'votes': 327,\n",
              " 'strong': 328,\n",
              " 'bank': 329,\n",
              " 'an': 330,\n",
              " 'failed': 331,\n",
              " 'army': 332,\n",
              " 'varanasi': 333,\n",
              " 'took': 334,\n",
              " 'am': 335,\n",
              " 'coming': 336,\n",
              " 'video': 337,\n",
              " 'china': 338,\n",
              " 'left': 339,\n",
              " 'started': 340,\n",
              " 'himself': 341,\n",
              " 'congratulations': 342,\n",
              " 'bharat': 343,\n",
              " 'talking': 344,\n",
              " 'rally': 345,\n",
              " 'interview': 346,\n",
              " 'till': 347,\n",
              " 'th': 348,\n",
              " 'reason': 349,\n",
              " 'case': 350,\n",
              " 'announcement': 351,\n",
              " 'shame': 352,\n",
              " 'needs': 353,\n",
              " 'rule': 354,\n",
              " 'bhakts': 355,\n",
              " 'dear': 356,\n",
              " 'security': 357,\n",
              " 'wont': 358,\n",
              " 'parties': 359,\n",
              " 'seen': 360,\n",
              " 'promised': 361,\n",
              " 'put': 362,\n",
              " 'else': 363,\n",
              " 'twitter': 364,\n",
              " 'corrupt': 365,\n",
              " 'enough': 366,\n",
              " 'between': 367,\n",
              " \"'s\": 368,\n",
              " 'sarkar': 369,\n",
              " 'knows': 370,\n",
              " 'issues': 371,\n",
              " 'if': 372,\n",
              " 'instead': 373,\n",
              " 'came': 374,\n",
              " 'problem': 375,\n",
              " 'attack': 376,\n",
              " 'leadership': 377,\n",
              " 'waiting': 378,\n",
              " 'few': 379,\n",
              " 'bring': 380,\n",
              " 'tax': 381,\n",
              " 'old': 382,\n",
              " 'promises': 383,\n",
              " 'success': 384,\n",
              " 'shri': 385,\n",
              " 'code': 386,\n",
              " 'voters': 387,\n",
              " 'wait': 388,\n",
              " 'goes': 389,\n",
              " 'start': 390,\n",
              " 'app': 391,\n",
              " 'contest': 392,\n",
              " 'someone': 393,\n",
              " 'taken': 394,\n",
              " 'comes': 395,\n",
              " 'muslims': 396,\n",
              " 'promise': 397,\n",
              " 'whole': 398,\n",
              " 'anyone': 399,\n",
              " 'sabha': 400,\n",
              " 'court': 401,\n",
              " 'wish': 402,\n",
              " 'chief': 403,\n",
              " 'lot': 404,\n",
              " 'fight': 405,\n",
              " 'future': 406,\n",
              " 'happened': 407,\n",
              " 'find': 408,\n",
              " 'cong': 409,\n",
              " 'gujarat': 410,\n",
              " 'candidate': 411,\n",
              " 'high': 412,\n",
              " 'others': 413,\n",
              " 'answer': 414,\n",
              " 'issue': 415,\n",
              " 'check': 416,\n",
              " 'lok': 417,\n",
              " 'actually': 418,\n",
              " 'means': 419,\n",
              " 'face': 420,\n",
              " 'won': 421,\n",
              " 'part': 422,\n",
              " 'black': 423,\n",
              " 'god': 424,\n",
              " 'farmers': 425,\n",
              " 'asking': 426,\n",
              " 'soon': 427,\n",
              " 'as': 428,\n",
              " 'singh': 429,\n",
              " 'amit': 430,\n",
              " 'poverty': 431,\n",
              " 'told': 432,\n",
              " 'democracy': 433,\n",
              " 'asked': 434,\n",
              " 'important': 435,\n",
              " 'night': 436,\n",
              " 'income': 437,\n",
              " 't': 438,\n",
              " 'hind': 439,\n",
              " 'having': 440,\n",
              " 'hours': 441,\n",
              " 'account': 442,\n",
              " 'yet': 443,\n",
              " 'co': 444,\n",
              " 'follow': 445,\n",
              " 'announced': 446,\n",
              " 'seems': 447,\n",
              " 'bhakt': 448,\n",
              " 'save': 449,\n",
              " 'fact': 450,\n",
              " 'try': 451,\n",
              " 'service': 452,\n",
              " 'rss': 453,\n",
              " 'though': 454,\n",
              " 'sorry': 455,\n",
              " 'common': 456,\n",
              " 'low': 457,\n",
              " 'questions': 458,\n",
              " 'post': 459,\n",
              " 'point': 460,\n",
              " 'conduct': 461,\n",
              " 'ready': 462,\n",
              " 'difference': 463,\n",
              " 'possible': 464,\n",
              " 'least': 465,\n",
              " 'remember': 466,\n",
              " 'shot': 467,\n",
              " 'movie': 468,\n",
              " 'using': 469,\n",
              " 'thought': 470,\n",
              " 'bail': 471,\n",
              " 'care': 472,\n",
              " 'entire': 473,\n",
              " 'na': 474,\n",
              " 'mean': 475,\n",
              " 'antisatellite': 476,\n",
              " 'far': 477,\n",
              " 'modiji': 478,\n",
              " 'around': 479,\n",
              " 'scam': 480,\n",
              " 'each': 481,\n",
              " 'lies': 482,\n",
              " 'respect': 483,\n",
              " 'cancelled': 484,\n",
              " 'vision': 485,\n",
              " 'proof': 486,\n",
              " 'place': 487,\n",
              " 'super': 488,\n",
              " 'mind': 489,\n",
              " 'commission': 490,\n",
              " 'able': 491,\n",
              " 'muslim': 492,\n",
              " 'friends': 493,\n",
              " 'tomorrow': 494,\n",
              " 'makes': 495,\n",
              " 'delhi': 496,\n",
              " 'blame': 497,\n",
              " 'lakhs': 498,\n",
              " 'term': 499,\n",
              " 'run': 500,\n",
              " 'towards': 501,\n",
              " 'truth': 502,\n",
              " 'defeat': 503,\n",
              " 'responsible': 504,\n",
              " 'might': 505,\n",
              " 'agenda': 506,\n",
              " 'south': 507,\n",
              " 'morning': 508,\n",
              " 'class': 509,\n",
              " 'went': 510,\n",
              " 'scientist': 511,\n",
              " 'agree': 512,\n",
              " 'women': 513,\n",
              " 'speak': 514,\n",
              " 'majority': 515,\n",
              " 'forces': 516,\n",
              " 'happen': 517,\n",
              " 'hold': 518,\n",
              " 'supporting': 519,\n",
              " 'war': 520,\n",
              " 'single': 521,\n",
              " 'huge': 522,\n",
              " 'biggest': 523,\n",
              " 'hindus': 524,\n",
              " 'model': 525,\n",
              " 'different': 526,\n",
              " 'nice': 527,\n",
              " 'main': 528,\n",
              " 'forget': 529,\n",
              " 'past': 530,\n",
              " 'wave': 531,\n",
              " 'message': 532,\n",
              " 'matter': 533,\n",
              " 'end': 534,\n",
              " 'policy': 535,\n",
              " 'youth': 536,\n",
              " 'shows': 537,\n",
              " 'safe': 538,\n",
              " 'kind': 539,\n",
              " 'gives': 540,\n",
              " 'ahead': 541,\n",
              " 'action': 542,\n",
              " 'behind': 543,\n",
              " 'sad': 544,\n",
              " 'or': 545,\n",
              " 'miss': 546,\n",
              " 'history': 547,\n",
              " 'kashmir': 548,\n",
              " 'economic': 549,\n",
              " 'guy': 550,\n",
              " 'leave': 551,\n",
              " 'nahi': 552,\n",
              " 'created': 553,\n",
              " 'business': 554,\n",
              " 'decision': 555,\n",
              " 'us': 556,\n",
              " 'lets': 557,\n",
              " 'fool': 558,\n",
              " 'fear': 559,\n",
              " 'late': 560,\n",
              " 'growth': 561,\n",
              " 'hatred': 562,\n",
              " 'voting': 563,\n",
              " 'top': 564,\n",
              " 'gets': 565,\n",
              " 'less': 566,\n",
              " 'com': 567,\n",
              " 'clear': 568,\n",
              " 'didn': 569,\n",
              " 'nda': 570,\n",
              " 'mother': 571,\n",
              " 'set': 572,\n",
              " 'five': 573,\n",
              " 'fun': 574,\n",
              " 'biopic': 575,\n",
              " 'open': 576,\n",
              " 'crores': 577,\n",
              " 'clean': 578,\n",
              " 'second': 579,\n",
              " 'indira': 580,\n",
              " 'capability': 581,\n",
              " 'chance': 582,\n",
              " 'thinking': 583,\n",
              " 'pay': 584,\n",
              " 'raga': 585,\n",
              " 'achievements': 586,\n",
              " 'system': 587,\n",
              " 'idea': 588,\n",
              " 'looks': 589,\n",
              " 'stand': 590,\n",
              " 'terrorists': 591,\n",
              " 'number': 592,\n",
              " 'ticket': 593,\n",
              " 'terrorist': 594,\n",
              " 'aur': 595,\n",
              " 'wanted': 596,\n",
              " 'yeah': 597,\n",
              " 'aap': 598,\n",
              " 'paid': 599,\n",
              " 'little': 600,\n",
              " 'failure': 601,\n",
              " 'worst': 602,\n",
              " 'supporters': 603,\n",
              " 'kya': 604,\n",
              " 'statement': 605,\n",
              " 'list': 606,\n",
              " 'social': 607,\n",
              " 'looking': 608,\n",
              " 'successfully': 609,\n",
              " 'mallya': 610,\n",
              " 'pls': 611,\n",
              " 'trust': 612,\n",
              " 'hour': 613,\n",
              " 'priyanka': 614,\n",
              " 'updates': 615,\n",
              " 'by': 616,\n",
              " 'schemes': 617,\n",
              " 'unemployment': 618,\n",
              " 'words': 619,\n",
              " 'join': 620,\n",
              " 'wins': 621,\n",
              " 'worry': 622,\n",
              " 'president': 623,\n",
              " 'takes': 624,\n",
              " 'level': 625,\n",
              " 'project': 626,\n",
              " 'act': 627,\n",
              " 'ambani': 628,\n",
              " 'defence': 629,\n",
              " 'propaganda': 630,\n",
              " 'gon': 631,\n",
              " 'hand': 632,\n",
              " 'month': 633,\n",
              " 'hey': 634,\n",
              " 'stupid': 635,\n",
              " 'nyay': 636,\n",
              " 'report': 637,\n",
              " 'self': 638,\n",
              " 'successful': 639,\n",
              " 'earlier': 640,\n",
              " 'became': 641,\n",
              " 'he': 642,\n",
              " 'launch': 643,\n",
              " 'brought': 644,\n",
              " 'head': 645,\n",
              " 'gone': 646,\n",
              " 'poll': 647,\n",
              " 'ground': 648,\n",
              " 'share': 649,\n",
              " 'story': 650,\n",
              " 'imran': 651,\n",
              " 'destroyed': 652,\n",
              " 'game': 653,\n",
              " 'lose': 654,\n",
              " 'week': 655,\n",
              " 'whatever': 656,\n",
              " 'minutes': 657,\n",
              " 'rafale': 658,\n",
              " 'finally': 659,\n",
              " 'jail': 660,\n",
              " 'vijay': 661,\n",
              " 'supporter': 662,\n",
              " 'rest': 663,\n",
              " 'land': 664,\n",
              " 'strikes': 665,\n",
              " 'announce': 666,\n",
              " 'customer': 667,\n",
              " 'oh': 668,\n",
              " 'moment': 669,\n",
              " 'friend': 670,\n",
              " 'states': 671,\n",
              " 'watching': 672,\n",
              " 'haha': 673,\n",
              " 'phone': 674,\n",
              " 'side': 675,\n",
              " 'front': 676,\n",
              " 'policies': 677,\n",
              " 'im': 678,\n",
              " 'film': 679,\n",
              " 'ago': 680,\n",
              " 'mumkin': 681,\n",
              " 'politicians': 682,\n",
              " 'bhai': 683,\n",
              " 'plan': 684,\n",
              " 'isnt': 685,\n",
              " 'tweets': 686,\n",
              " 'data': 687,\n",
              " 'line': 688,\n",
              " 'saw': 689,\n",
              " 'expect': 690,\n",
              " 'request': 691,\n",
              " 'killed': 692,\n",
              " 'khan': 693,\n",
              " 'plane': 694,\n",
              " 'assam': 695,\n",
              " 'feeling': 696,\n",
              " 'citizens': 697,\n",
              " 'balakot': 698,\n",
              " 'loan': 699,\n",
              " 'changed': 700,\n",
              " 'earth': 701,\n",
              " 'press': 702,\n",
              " 'law': 703,\n",
              " 'wow': 704,\n",
              " 'yesterday': 705,\n",
              " 'tonight': 706,\n",
              " 'honest': 707,\n",
              " 'word': 708,\n",
              " 'tried': 709,\n",
              " 'create': 710,\n",
              " 'reality': 711,\n",
              " 'london': 712,\n",
              " 'stay': 713,\n",
              " 'buy': 714,\n",
              " 'pulwama': 715,\n",
              " 'hit': 716,\n",
              " 'claim': 717,\n",
              " 'guess': 718,\n",
              " 'education': 719,\n",
              " 'amp': 720,\n",
              " 'reply': 721,\n",
              " 'within': 722,\n",
              " 'definitely': 723,\n",
              " 'either': 724,\n",
              " 'heard': 725,\n",
              " 'hes': 726,\n",
              " 'foreign': 727,\n",
              " 'channel': 728,\n",
              " 'works': 729,\n",
              " 'sense': 730,\n",
              " 'doesn': 731,\n",
              " 'dynasty': 732,\n",
              " 'courage': 733,\n",
              " 'hear': 734,\n",
              " 'kar': 735,\n",
              " 'st': 736,\n",
              " 'young': 737,\n",
              " 'doubt': 738,\n",
              " 'former': 739,\n",
              " 'pradesh': 740,\n",
              " 'maybe': 741,\n",
              " \"'m\": 742,\n",
              " 'abt': 743,\n",
              " 'return': 744,\n",
              " 'middle': 745,\n",
              " 'plz': 746,\n",
              " 'hell': 747,\n",
              " 'achieved': 748,\n",
              " 'listen': 749,\n",
              " 'hands': 750,\n",
              " 'fighting': 751,\n",
              " 'gst': 752,\n",
              " 'jumla': 753,\n",
              " 'international': 754,\n",
              " 'antimodi': 755,\n",
              " 'flights': 756,\n",
              " 'arnab': 757,\n",
              " 'otherwise': 758,\n",
              " 'scared': 759,\n",
              " 'rather': 760,\n",
              " 'running': 761,\n",
              " 'll': 762,\n",
              " 'wonder': 763,\n",
              " 'yogi': 764,\n",
              " 'meerut': 765,\n",
              " 'sleep': 766,\n",
              " 'fan': 767,\n",
              " 'interest': 768,\n",
              " 'small': 769,\n",
              " 'remove': 770,\n",
              " 'bit': 771,\n",
              " 'rd': 772,\n",
              " 're': 773,\n",
              " 'across': 774,\n",
              " 'school': 775,\n",
              " 'problems': 776,\n",
              " 'send': 777,\n",
              " 'deal': 778,\n",
              " 'major': 779,\n",
              " 'desh': 780,\n",
              " 'winning': 781,\n",
              " 'whats': 782,\n",
              " 'almost': 783,\n",
              " 'becomes': 784,\n",
              " 'har': 785,\n",
              " 'voted': 786,\n",
              " 'together': 787,\n",
              " 'educated': 788,\n",
              " 'regime': 789,\n",
              " 'except': 790,\n",
              " 'house': 791,\n",
              " 'peace': 792,\n",
              " 'busy': 793,\n",
              " 'found': 794,\n",
              " 'constituency': 795,\n",
              " 'whether': 796,\n",
              " 'false': 797,\n",
              " 'elected': 798,\n",
              " 'release': 799,\n",
              " 'including': 800,\n",
              " 'april': 801,\n",
              " 'personal': 802,\n",
              " 'sent': 803,\n",
              " 'father': 804,\n",
              " 'facts': 805,\n",
              " 'march': 806,\n",
              " 'meeting': 807,\n",
              " 'hain': 808,\n",
              " 'terrorism': 809,\n",
              " 'rich': 810,\n",
              " 'led': 811,\n",
              " 'move': 812,\n",
              " 'office': 813,\n",
              " 'sonia': 814,\n",
              " 'ram': 815,\n",
              " 'loans': 816,\n",
              " 'polls': 817,\n",
              " 'debate': 818,\n",
              " 'son': 819,\n",
              " 'logic': 820,\n",
              " 'book': 821,\n",
              " 'nobody': 822,\n",
              " 'narrative': 823,\n",
              " 'employment': 824,\n",
              " 'destroy': 825,\n",
              " 'amazing': 826,\n",
              " 'btw': 827,\n",
              " 'months': 828,\n",
              " 'totally': 829,\n",
              " 'itself': 830,\n",
              " 'delayed': 831,\n",
              " 'playing': 832,\n",
              " 'accounts': 833,\n",
              " 'showing': 834,\n",
              " 'cost': 835,\n",
              " 'blind': 836,\n",
              " 'continue': 837,\n",
              " 'choice': 838,\n",
              " 'following': 839,\n",
              " 'sitting': 840,\n",
              " 'minimum': 841,\n",
              " 'toh': 842,\n",
              " 'play': 843,\n",
              " 'hence': 844,\n",
              " 'happens': 845,\n",
              " 'calling': 846,\n",
              " 'forward': 847,\n",
              " 'orbit': 848,\n",
              " 'accept': 849,\n",
              " 'nor': 850,\n",
              " 'becoming': 851,\n",
              " 'atleast': 852,\n",
              " 'correct': 853,\n",
              " 'food': 854,\n",
              " 'karnataka': 855,\n",
              " 'rajan': 856,\n",
              " 'until': 857,\n",
              " 'countries': 858,\n",
              " 'awesome': 859,\n",
              " 'form': 860,\n",
              " 'rallies': 861,\n",
              " 'situation': 862,\n",
              " 'clearly': 863,\n",
              " 'ca': 864,\n",
              " 'order': 865,\n",
              " 'politician': 866,\n",
              " 'allowed': 867,\n",
              " 'general': 868,\n",
              " 'response': 869,\n",
              " 'terror': 870,\n",
              " 'whom': 871,\n",
              " 'target': 872,\n",
              " 'followers': 873,\n",
              " 'present': 874,\n",
              " 'seriously': 875,\n",
              " 'three': 876,\n",
              " 'era': 877,\n",
              " 'loot': 878,\n",
              " 'citizen': 879,\n",
              " 'yourself': 880,\n",
              " 'coz': 881,\n",
              " 'technology': 882,\n",
              " 'article': 883,\n",
              " 'living': 884,\n",
              " 'exactly': 885,\n",
              " 'course': 886,\n",
              " 'non': 887,\n",
              " 'guts': 888,\n",
              " 'bag': 889,\n",
              " 'along': 890,\n",
              " 'language': 891,\n",
              " 'prove': 892,\n",
              " 'lie': 893,\n",
              " 'kuch': 894,\n",
              " 'reasons': 895,\n",
              " 'alliance': 896,\n",
              " 'force': 897,\n",
              " 'inc': 898,\n",
              " 'kumar': 899,\n",
              " 'none': 900,\n",
              " 'previous': 901,\n",
              " 'card': 902,\n",
              " 'above': 903,\n",
              " 'learn': 904,\n",
              " 'group': 905,\n",
              " 'current': 906,\n",
              " 'wah': 907,\n",
              " 'amethi': 908,\n",
              " 'scams': 909,\n",
              " 'nations': 910,\n",
              " 'institutions': 911,\n",
              " 'north': 912,\n",
              " 'stopped': 913,\n",
              " 'advani': 914,\n",
              " 'allow': 915,\n",
              " 'choose': 916,\n",
              " 'permission': 917,\n",
              " 'simple': 918,\n",
              " 'victory': 919,\n",
              " 'based': 920,\n",
              " 'soldiers': 921,\n",
              " 'ndtv': 922,\n",
              " 'among': 923,\n",
              " 'visit': 924,\n",
              " 'mein': 925,\n",
              " 'according': 926,\n",
              " 'shameless': 927,\n",
              " 'governance': 928,\n",
              " 'lead': 929,\n",
              " 'drama': 930,\n",
              " 'gate': 931,\n",
              " 'welcome': 932,\n",
              " 'fly': 933,\n",
              " 'cause': 934,\n",
              " 'brother': 935,\n",
              " 'demonetisation': 936,\n",
              " 'alone': 937,\n",
              " 'telling': 938,\n",
              " 'absolutely': 939,\n",
              " 'half': 940,\n",
              " 'seeing': 941,\n",
              " 'odisha': 942,\n",
              " 'airport': 943,\n",
              " 'rate': 944,\n",
              " 'despite': 945,\n",
              " 'gang': 946,\n",
              " 'journalist': 947,\n",
              " 'progress': 948,\n",
              " 'water': 949,\n",
              " 'dream': 950,\n",
              " 'speaking': 951,\n",
              " 'satellites': 952,\n",
              " 'worked': 953,\n",
              " 'joke': 954,\n",
              " 'banks': 955,\n",
              " 'easy': 956,\n",
              " 'chowkidars': 957,\n",
              " 'weather': 958,\n",
              " 'amount': 959,\n",
              " 'families': 960,\n",
              " 'wife': 961,\n",
              " 'contesting': 962,\n",
              " 'known': 963,\n",
              " 'link': 964,\n",
              " 'trailer': 965,\n",
              " 'manmohan': 966,\n",
              " 'later': 967,\n",
              " 'youre': 968,\n",
              " 'tenure': 969,\n",
              " 'adani': 970,\n",
              " 'baar': 971,\n",
              " 'kept': 972,\n",
              " 'virginamerica': 973,\n",
              " 'deserve': 974,\n",
              " 'kill': 975,\n",
              " 'jis': 976,\n",
              " 'neither': 977,\n",
              " 'special': 978,\n",
              " 'opinion': 979,\n",
              " 'missing': 980,\n",
              " 'meet': 981,\n",
              " 'role': 982,\n",
              " 'record': 983,\n",
              " 'launched': 984,\n",
              " 'liberals': 985,\n",
              " 'provide': 986,\n",
              " 'pakistani': 987,\n",
              " 'developed': 988,\n",
              " 'boarding': 989,\n",
              " 'company': 990,\n",
              " 'pro': 991,\n",
              " 'talks': 992,\n",
              " 'gandhis': 993,\n",
              " 'jee': 994,\n",
              " 'peoples': 995,\n",
              " 'worth': 996,\n",
              " 'airline': 997,\n",
              " 'themselves': 998,\n",
              " 'turn': 999,\n",
              " 'addressing': 1000,\n",
              " ...}"
            ]
          },
          "metadata": {},
          "execution_count": 57
        }
      ],
      "source": [
        "from tensorflow.keras.preprocessing.sequence import pad_sequences\n",
        "from tensorflow.keras.preprocessing.text import Tokenizer\n",
        "tokenizer = Tokenizer(oov_token='UNK')\n",
        "tokenizer.fit_on_texts(x_train)\n",
        "tokenizer.word_index"
      ]
    },
    {
      "cell_type": "code",
      "execution_count": null,
      "metadata": {
        "colab": {
          "base_uri": "https://localhost:8080/"
        },
        "id": "ZcmxTTEswFPL",
        "outputId": "65d450a5-0d46-4dd3-c94e-191eea9a7122"
      },
      "outputs": [
        {
          "output_type": "execute_result",
          "data": {
            "text/plain": [
              "(86821, dict)"
            ]
          },
          "metadata": {},
          "execution_count": 58
        }
      ],
      "source": [
        "n_words = len(tokenizer.word_index)\n",
        "n_words,type(tokenizer.word_index)"
      ]
    },
    {
      "cell_type": "code",
      "execution_count": null,
      "metadata": {
        "colab": {
          "base_uri": "https://localhost:8080/"
        },
        "id": "C-UL5b8GwMMK",
        "outputId": "e5bcb771-e70d-4466-bb93-e26b0376396f"
      },
      "outputs": [
        {
          "output_type": "execute_result",
          "data": {
            "text/plain": [
              "([[118,\n",
              "   107,\n",
              "   86,\n",
              "   3,\n",
              "   1052,\n",
              "   37,\n",
              "   24,\n",
              "   319,\n",
              "   145,\n",
              "   313,\n",
              "   324,\n",
              "   21,\n",
              "   194,\n",
              "   556,\n",
              "   156,\n",
              "   477,\n",
              "   186,\n",
              "   1958,\n",
              "   5,\n",
              "   2099,\n",
              "   545,\n",
              "   854,\n",
              "   545,\n",
              "   218,\n",
              "   1048],\n",
              "  [286, 2, 199],\n",
              "  [31, 24818, 32, 27, 242, 2],\n",
              "  [41,\n",
              "   22,\n",
              "   111,\n",
              "   119,\n",
              "   807,\n",
              "   134,\n",
              "   498,\n",
              "   75,\n",
              "   2,\n",
              "   110,\n",
              "   92,\n",
              "   27,\n",
              "   71,\n",
              "   52,\n",
              "   460,\n",
              "   51,\n",
              "   9,\n",
              "   119,\n",
              "   807,\n",
              "   41,\n",
              "   22,\n",
              "   14,\n",
              "   486,\n",
              "   8,\n",
              "   1720],\n",
              "  [2100,\n",
              "   48,\n",
              "   1344,\n",
              "   14,\n",
              "   6,\n",
              "   76,\n",
              "   6,\n",
              "   8840,\n",
              "   5,\n",
              "   3,\n",
              "   436,\n",
              "   190,\n",
              "   436,\n",
              "   312,\n",
              "   937,\n",
              "   5,\n",
              "   114,\n",
              "   14193,\n",
              "   2009]],\n",
              " [[1404, 4394, 335, 1]])"
            ]
          },
          "metadata": {},
          "execution_count": 59
        }
      ],
      "source": [
        "# texts to sequences\n",
        "\n",
        "def texts2sequences(txt):\n",
        "  return tokenizer.texts_to_sequences(txt) \n",
        "\n",
        "x_train = texts2sequences(x_train)\n",
        "x_valid = texts2sequences(x_valid)\n",
        "x_test  = texts2sequences(x_test)\n",
        "\n",
        "x_train[15:20], texts2sequences(['Hello I am Demian !'])"
      ]
    },
    {
      "cell_type": "code",
      "execution_count": null,
      "metadata": {
        "colab": {
          "base_uri": "https://localhost:8080/"
        },
        "id": "8hdBHXW3xrpn",
        "outputId": "f2c0fa3b-a85f-4b31-e768-a28bc4b3c044"
      },
      "outputs": [
        {
          "output_type": "execute_result",
          "data": {
            "text/plain": [
              "(array([ 9884., 22909., 22278., 18731., 16244., 14050., 10940.,  6800.,\n",
              "         1070.,    32.]),\n",
              " array([ 0. ,  5.2, 10.4, 15.6, 20.8, 26. , 31.2, 36.4, 41.6, 46.8, 52. ]),\n",
              " <BarContainer object of 10 artists>)"
            ]
          },
          "metadata": {},
          "execution_count": 60
        },
        {
          "output_type": "display_data",
          "data": {
            "text/plain": [
              "<Figure size 432x288 with 1 Axes>"
            ],
            "image/png": "[encoded data removed]"
          },
          "metadata": {
            "needs_background": "light"
          }
        }
      ],
      "source": [
        "sentences_len = [len(sentence) for sentence in x_train]\n",
        "plt.hist(sentences_len)"
      ]
    },
    {
      "cell_type": "code",
      "execution_count": null,
      "metadata": {
        "colab": {
          "base_uri": "https://localhost:8080/"
        },
        "id": "856F25y5xCCG",
        "outputId": "0e20adf2-beb3-4dfe-f5dd-712850739361"
      },
      "outputs": [
        {
          "output_type": "execute_result",
          "data": {
            "text/plain": [
              "array([[   13,     3,   906,  7170,     8,   113,    16, 24833,  4250,\n",
              "        12140,    11,  1087,     9,    11,  1169,  3506,    38,  4934,\n",
              "         4113,  4935,    11,   716,    17,    44,   457,   349,   651,\n",
              "          693,   170,   281,  2158,     2,   307,    46,  4639, 24834,\n",
              "         2461,     0,     0,     0],\n",
              "       [  146,   336,    85,    35,     2,   361,     8,    80,   710,\n",
              "           39,   245,   232,     3,   126,   876,    60,    20,    83,\n",
              "           16,   553,   617,    29,  1891,  1798,     4,  1997,    12,\n",
              "          194,    46,  4251,    20,   397,    15,    16,   331,  1776,\n",
              "            0,     0,     0,     0],\n",
              "       [  455,     6,    13,     2,     6,   160,    12,     0,     0,\n",
              "            0,     0,     0,     0,     0,     0,     0,     0,     0,\n",
              "            0,     0,     0,     0,     0,     0,     0,     0,     0,\n",
              "            0,     0,     0,     0,     0,     0,     0,     0,     0,\n",
              "            0,     0,     0,     0],\n",
              "       [    3,  2124,  1188,  4067,    13,    27,     2,   695,   128,\n",
              "          236,   391,     0,     0,     0,     0,     0,     0,     0,\n",
              "            0,     0,     0,     0,     0,     0,     0,     0,     0,\n",
              "            0,     0,     0,     0,     0,     0,     0,     0,     0,\n",
              "            0,     0,     0,     0],\n",
              "       [ 2009,     6,  1730,    48,  8227,   631,   326,     6,   766,\n",
              "           30,  3750,   494,  2009,   210,     6,   529,    56,  1235,\n",
              "           88,     0,     0,     0,     0,     0,     0,     0,     0,\n",
              "            0,     0,     0,     0,     0,     0,     0,     0,     0,\n",
              "            0,     0,     0,     0]], dtype=int32)"
            ]
          },
          "metadata": {},
          "execution_count": 61
        }
      ],
      "source": [
        "# pading\n",
        "\n",
        "sentence_length = 40\n",
        "\n",
        "def padding(txt):\n",
        "  return pad_sequences(txt, maxlen = sentence_length, padding='post')\n",
        "\n",
        "\n",
        "x_train = padding(x_train)\n",
        "x_valid = padding(x_valid)\n",
        "x_test  = padding(x_test)\n",
        "x_train[100:105]"
      ]
    },
    {
      "cell_type": "code",
      "execution_count": null,
      "metadata": {
        "id": "nep5Zc0LycuB"
      },
      "outputs": [],
      "source": []
    },
    {
      "cell_type": "markdown",
      "metadata": {
        "id": "p7Q-0VD5zGNT"
      },
      "source": [
        "### Embedding + Dense Model"
      ]
    },
    {
      "cell_type": "code",
      "execution_count": null,
      "metadata": {
        "id": "yaLk1esmzFg7"
      },
      "outputs": [],
      "source": [
        "from tensorflow.keras import models,layers,regularizers\n",
        "import tensorflow\n",
        "embedding_vector_size = 128\n",
        "Dense_model = models.Sequential()\n",
        "Dense_model.add(layers.Embedding(n_words+1, embedding_vector_size, input_length=sentence_length,mask_zero=True))\n",
        "Dense_model.add(layers.Flatten())\n",
        "Dense_model.add(layers.Dropout(.3)) # make it harder to memorise data\n",
        "Dense_model.add(layers.Dense(64,activation='relu')) \n",
        "Dense_model.add(layers.Dense(3,activation='softmax'))\n"
      ]
    },
    {
      "cell_type": "code",
      "execution_count": null,
      "metadata": {
        "colab": {
          "base_uri": "https://localhost:8080/"
        },
        "id": "GcBN3-5J18gn",
        "outputId": "27586d75-a0a3-4133-8b2b-b978a3428bd9"
      },
      "outputs": [
        {
          "name": "stdout",
          "output_type": "stream",
          "text": [
            "Model: \"sequential\"\n",
            "_________________________________________________________________\n",
            " Layer (type)                Output Shape              Param #   \n",
            "=================================================================\n",
            " embedding (Embedding)       (None, 40, 128)           11113344  \n",
            "                                                                 \n",
            " flatten (Flatten)           (None, 5120)              0         \n",
            "                                                                 \n",
            " dropout (Dropout)           (None, 5120)              0         \n",
            "                                                                 \n",
            " dense (Dense)               (None, 64)                327744    \n",
            "                                                                 \n",
            " dense_1 (Dense)             (None, 3)                 195       \n",
            "                                                                 \n",
            "=================================================================\n",
            "Total params: 11,441,283\n",
            "Trainable params: 11,441,283\n",
            "Non-trainable params: 0\n",
            "_________________________________________________________________\n"
          ]
        }
      ],
      "source": [
        "Dense_model.summary()"
      ]
    },
    {
      "cell_type": "code",
      "execution_count": null,
      "metadata": {
        "colab": {
          "base_uri": "https://localhost:8080/",
          "height": 95
        },
        "id": "cwMr9DxlzkPw",
        "outputId": "6f7e02f3-a33f-439c-9b37-f0fcfc437b2b"
      },
      "outputs": [
        {
          "data": {
            "image/png": "[encoded data removed]",
            "text/plain": [
              "<IPython.core.display.Image object>"
            ]
          },
          "execution_count": 64,
          "metadata": {},
          "output_type": "execute_result"
        }
      ],
      "source": [
        "tensorflow.keras.utils.plot_model(Dense_model, show_shapes=True, rankdir='LR')"
      ]
    },
    {
      "cell_type": "code",
      "execution_count": null,
      "metadata": {
        "colab": {
          "base_uri": "https://localhost:8080/"
        },
        "id": "7-U245Va2lzZ",
        "outputId": "4981346e-3efd-4fa8-f6da-de47aef738df"
      },
      "outputs": [
        {
          "name": "stdout",
          "output_type": "stream",
          "text": [
            "Epoch 1/20\n",
            "961/961 [==============================] - 127s 131ms/step - loss: 0.5947 - acc: 0.7485 - val_loss: 0.4413 - val_acc: 0.8394\n",
            "Epoch 2/20\n",
            "961/961 [==============================] - 126s 131ms/step - loss: 0.3298 - acc: 0.8804 - val_loss: 0.3547 - val_acc: 0.8678\n",
            "Epoch 3/20\n",
            "961/961 [==============================] - 127s 132ms/step - loss: 0.2405 - acc: 0.9155 - val_loss: 0.3493 - val_acc: 0.8734\n",
            "Epoch 4/20\n",
            "961/961 [==============================] - 136s 142ms/step - loss: 0.1784 - acc: 0.9379 - val_loss: 0.3819 - val_acc: 0.8708\n",
            "Epoch 5/20\n",
            "961/961 [==============================] - 154s 160ms/step - loss: 0.1345 - acc: 0.9537 - val_loss: 0.3907 - val_acc: 0.8767\n",
            "Epoch 6/20\n",
            "961/961 [==============================] - 142s 147ms/step - loss: 0.1052 - acc: 0.9645 - val_loss: 0.4464 - val_acc: 0.8637\n",
            "Epoch 7/20\n",
            "961/961 [==============================] - 148s 154ms/step - loss: 0.0842 - acc: 0.9717 - val_loss: 0.4443 - val_acc: 0.8765\n",
            "Epoch 8/20\n",
            "961/961 [==============================] - 137s 142ms/step - loss: 0.0692 - acc: 0.9767 - val_loss: 0.4756 - val_acc: 0.8746\n",
            "Epoch 9/20\n",
            "961/961 [==============================] - 136s 142ms/step - loss: 0.0583 - acc: 0.9807 - val_loss: 0.5020 - val_acc: 0.8770\n",
            "Epoch 10/20\n",
            "961/961 [==============================] - 138s 143ms/step - loss: 0.0507 - acc: 0.9832 - val_loss: 0.5370 - val_acc: 0.8685\n",
            "Epoch 11/20\n",
            "961/961 [==============================] - 147s 153ms/step - loss: 0.0431 - acc: 0.9854 - val_loss: 0.5430 - val_acc: 0.8760\n",
            "Epoch 12/20\n",
            "961/961 [==============================] - 138s 143ms/step - loss: 0.0395 - acc: 0.9872 - val_loss: 0.5740 - val_acc: 0.8784\n",
            "Epoch 13/20\n",
            "961/961 [==============================] - 137s 143ms/step - loss: 0.0346 - acc: 0.9886 - val_loss: 0.5769 - val_acc: 0.8735\n",
            "Epoch 14/20\n",
            "961/961 [==============================] - 137s 143ms/step - loss: 0.0315 - acc: 0.9893 - val_loss: 0.6077 - val_acc: 0.8731\n",
            "Epoch 15/20\n",
            "961/961 [==============================] - 148s 154ms/step - loss: 0.0289 - acc: 0.9905 - val_loss: 0.6538 - val_acc: 0.8749\n",
            "Epoch 16/20\n",
            "961/961 [==============================] - 138s 143ms/step - loss: 0.0256 - acc: 0.9916 - val_loss: 0.6442 - val_acc: 0.8759\n",
            "Epoch 17/20\n",
            "961/961 [==============================] - 138s 144ms/step - loss: 0.0241 - acc: 0.9920 - val_loss: 0.6547 - val_acc: 0.8746\n",
            "Epoch 18/20\n",
            "961/961 [==============================] - 138s 144ms/step - loss: 0.0233 - acc: 0.9923 - val_loss: 0.6594 - val_acc: 0.8786\n",
            "Epoch 19/20\n",
            "961/961 [==============================] - 137s 142ms/step - loss: 0.0211 - acc: 0.9932 - val_loss: 0.7123 - val_acc: 0.8794\n",
            "Epoch 20/20\n",
            "961/961 [==============================] - 135s 141ms/step - loss: 0.0197 - acc: 0.9936 - val_loss: 0.6880 - val_acc: 0.8765\n"
          ]
        }
      ],
      "source": [
        "Dense_model.compile(loss='sparse_categorical_crossentropy',optimizer='rmsprop',metrics=['acc'])\n",
        "history = Dense_model.fit(x_train,y_train,batch_size=128,epochs=20, validation_data=[x_valid,y_valid], verbose=1)\n"
      ]
    },
    {
      "cell_type": "code",
      "execution_count": null,
      "metadata": {
        "colab": {
          "base_uri": "https://localhost:8080/",
          "height": 590
        },
        "id": "Q81vJU5c4GHg",
        "outputId": "52770d60-0a73-4807-c553-02bb7039377d"
      },
      "outputs": [
        {
          "data": {
            "image/png": "[encoded data removed]",
            "text/plain": [
              "<Figure size 432x288 with 1 Axes>"
            ]
          },
          "metadata": {},
          "output_type": "display_data"
        },
        {
          "data": {
            "text/plain": [
              "<matplotlib.legend.Legend at 0x7f3f7c5acb80>"
            ]
          },
          "execution_count": 66,
          "metadata": {},
          "output_type": "execute_result"
        },
        {
          "data": {
            "image/png": "[encoded data removed]",
            "text/plain": [
              "<Figure size 432x288 with 1 Axes>"
            ]
          },
          "metadata": {},
          "output_type": "display_data"
        }
      ],
      "source": [
        "acc = history.history['acc']\n",
        "loss = history.history['loss']\n",
        "val_acc = history.history['val_acc']\n",
        "val_loss = history.history['val_loss']\n",
        "\n",
        "epochs = len(acc)\n",
        "\n",
        "plt.plot( acc, label='Training acc')\n",
        "plt.plot( val_acc, 'b', label='Validation acc')\n",
        "plt.title('Training and validation accuracy')\n",
        "plt.xlabel('Epochs')\n",
        "plt.ylabel('accuracy')\n",
        "plt.legend()\n",
        "plt.show()\n",
        "\n",
        "plt.plot( loss, label='Training loss')\n",
        "plt.plot( val_loss, 'b', label='Validation loss')\n",
        "plt.title('Training and validation loss')\n",
        "plt.xlabel('Epochs')\n",
        "plt.ylabel('Loss')\n",
        "plt.legend()"
      ]
    },
    {
      "cell_type": "code",
      "execution_count": null,
      "metadata": {
        "colab": {
          "base_uri": "https://localhost:8080/"
        },
        "id": "vtMkWQpCKvfs",
        "outputId": "62442375-cca3-4b57-a058-4dc4ee52a70a"
      },
      "outputs": [
        {
          "name": "stdout",
          "output_type": "stream",
          "text": [
            "2049/2049 [==============================] - 5s 3ms/step\n",
            "cm :\n",
            " [[17145  1733  1316]\n",
            " [ 2690 19077   520]\n",
            " [ 1269   568 21249]]\n",
            "clssification report :\n",
            "               precision    recall  f1-score   support\n",
            "\n",
            "           0       0.81      0.85      0.83     20194\n",
            "           1       0.89      0.86      0.87     22287\n",
            "           2       0.92      0.92      0.92     23086\n",
            "\n",
            "    accuracy                           0.88     65567\n",
            "   macro avg       0.88      0.88      0.87     65567\n",
            "weighted avg       0.88      0.88      0.88     65567\n",
            "\n"
          ]
        }
      ],
      "source": [
        "Dense_pred = Dense_model.predict(x_valid)\n",
        "Dense_pred = np.argmax(Dense_pred, axis=1)\n",
        "print('cm :\\n',confusion_matrix(y_valid, Dense_pred))\n",
        "print('clssification report :\\n',classification_report(y_valid, Dense_pred))"
      ]
    },
    {
      "cell_type": "code",
      "execution_count": null,
      "metadata": {
        "colab": {
          "base_uri": "https://localhost:8080/"
        },
        "id": "tXMA4iT0KzZm",
        "outputId": "afa0cbde-4e88-4c1d-e4e3-19e4d25ffcd3"
      },
      "outputs": [
        {
          "name": "stderr",
          "output_type": "stream",
          "text": [
            "WARNING:absl:Found untraced functions such as _update_step_xla while saving (showing 1 of 1). These functions will not be directly callable after loading.\n"
          ]
        }
      ],
      "source": [
        "\n",
        "Dense_model.save('/content/gdrive/MyDrive/Arete/sentiment analysis task/Dense_model_V4')\n",
        "\n",
        "# Model link\n",
        "# https://drive.google.com/drive/folders/1-nHBo6tB5gcvaLTPURhXirJ30aUfL6pA?usp=sharing"
      ]
    },
    {
      "cell_type": "code",
      "execution_count": null,
      "metadata": {
        "id": "4z7HfnjhKzME"
      },
      "outputs": [],
      "source": []
    },
    {
      "cell_type": "markdown",
      "metadata": {
        "id": "AojjKyG-fJeE"
      },
      "source": [
        "## LSTM\n"
      ]
    },
    {
      "cell_type": "code",
      "execution_count": null,
      "metadata": {
        "colab": {
          "base_uri": "https://localhost:8080/"
        },
        "id": "9BUUO6-sfJCD",
        "outputId": "3e636bae-78fe-4867-9f48-5f1544a7e8e3"
      },
      "outputs": [
        {
          "data": {
            "text/plain": [
              "(122938, 40)"
            ]
          },
          "execution_count": 68,
          "metadata": {},
          "output_type": "execute_result"
        }
      ],
      "source": [
        "x_train.shape"
      ]
    },
    {
      "cell_type": "code",
      "execution_count": null,
      "metadata": {
        "colab": {
          "base_uri": "https://localhost:8080/"
        },
        "id": "Rh4xZjALfIXe",
        "outputId": "075247b6-d99f-4b30-f98b-49b4d6ac5e8c"
      },
      "outputs": [
        {
          "name": "stdout",
          "output_type": "stream",
          "text": [
            "Model: \"sequential_1\"\n",
            "_________________________________________________________________\n",
            " Layer (type)                Output Shape              Param #   \n",
            "=================================================================\n",
            " embedding_1 (Embedding)     (None, 40, 128)           11113344  \n",
            "                                                                 \n",
            " lstm (LSTM)                 (None, 128)               131584    \n",
            "                                                                 \n",
            " dropout_1 (Dropout)         (None, 128)               0         \n",
            "                                                                 \n",
            " dense_2 (Dense)             (None, 3)                 387       \n",
            "                                                                 \n",
            "=================================================================\n",
            "Total params: 11,245,315\n",
            "Trainable params: 11,245,315\n",
            "Non-trainable params: 0\n",
            "_________________________________________________________________\n"
          ]
        }
      ],
      "source": [
        "from tensorflow.keras import models,layers\n",
        "import tensorflow\n",
        "embedding_vector_size = 128\n",
        "lstm_model = models.Sequential()\n",
        "lstm_model.add(layers.Embedding(n_words+1, embedding_vector_size, input_length=sentence_length,mask_zero=True))\n",
        "lstm_model.add(layers.LSTM(128,activation='relu',kernel_regularizer=regularizers.l2(0.01)))\n",
        "lstm_model.add(layers.Dropout(.3))\n",
        "lstm_model.add(layers.Dense(3,activation='softmax'))\n",
        "lstm_model.summary()\n"
      ]
    },
    {
      "cell_type": "code",
      "execution_count": null,
      "metadata": {
        "colab": {
          "base_uri": "https://localhost:8080/",
          "height": 533
        },
        "id": "8P-YoDgkSNXs",
        "outputId": "d3fed4e5-70a8-4a7c-884b-f4f55571c8e2"
      },
      "outputs": [
        {
          "data": {
            "image/png": "[encoded data removed]",
            "text/plain": [
              "<IPython.core.display.Image object>"
            ]
          },
          "execution_count": 70,
          "metadata": {},
          "output_type": "execute_result"
        }
      ],
      "source": [
        "tensorflow.keras.utils.plot_model(lstm_model,show_shapes=True)\n"
      ]
    },
    {
      "cell_type": "code",
      "execution_count": null,
      "metadata": {
        "colab": {
          "base_uri": "https://localhost:8080/"
        },
        "id": "Io8fHC6jgBIG",
        "outputId": "93bbe7ab-b4ab-4bab-adcb-10d5af850d65"
      },
      "outputs": [
        {
          "name": "stdout",
          "output_type": "stream",
          "text": [
            "Epoch 1/20\n",
            "481/481 [==============================] - 254s 523ms/step - loss: 0.9113 - acc: 0.6525 - val_loss: 0.5478 - val_acc: 0.8172\n",
            "Epoch 2/20\n",
            "481/481 [==============================] - 253s 526ms/step - loss: 0.4622 - acc: 0.8505 - val_loss: 0.3911 - val_acc: 0.8689\n",
            "Epoch 3/20\n",
            "481/481 [==============================] - 253s 525ms/step - loss: 0.3586 - acc: 0.8843 - val_loss: 0.3849 - val_acc: 0.8687\n",
            "Epoch 4/20\n",
            "481/481 [==============================] - 250s 520ms/step - loss: 0.3097 - acc: 0.9006 - val_loss: 0.5944 - val_acc: 0.7830\n",
            "Epoch 5/20\n",
            "481/481 [==============================] - 251s 523ms/step - loss: 0.2788 - acc: 0.9110 - val_loss: 0.3109 - val_acc: 0.8951\n",
            "Epoch 6/20\n",
            "481/481 [==============================] - 250s 521ms/step - loss: 0.2550 - acc: 0.9198 - val_loss: 0.2946 - val_acc: 0.9010\n",
            "Epoch 7/20\n",
            "481/481 [==============================] - 253s 526ms/step - loss: 0.2359 - acc: 0.9255 - val_loss: 0.2900 - val_acc: 0.8982\n",
            "Epoch 8/20\n",
            "481/481 [==============================] - 250s 520ms/step - loss: 0.2193 - acc: 0.9318 - val_loss: 0.2770 - val_acc: 0.9075\n",
            "Epoch 9/20\n",
            "481/481 [==============================] - 254s 529ms/step - loss: 0.2045 - acc: 0.9373 - val_loss: 0.2682 - val_acc: 0.9116\n",
            "Epoch 10/20\n",
            "481/481 [==============================] - 252s 525ms/step - loss: 0.1916 - acc: 0.9411 - val_loss: 0.2858 - val_acc: 0.9011\n",
            "Epoch 11/20\n",
            "481/481 [==============================] - 252s 523ms/step - loss: 0.1806 - acc: 0.9452 - val_loss: 0.2888 - val_acc: 0.8999\n",
            "Epoch 12/20\n",
            "481/481 [==============================] - 251s 521ms/step - loss: 0.1715 - acc: 0.9483 - val_loss: 0.2871 - val_acc: 0.9054\n",
            "Epoch 13/20\n",
            "481/481 [==============================] - 252s 524ms/step - loss: 0.1642 - acc: 0.9501 - val_loss: 0.3434 - val_acc: 0.8841\n",
            "Epoch 14/20\n",
            "481/481 [==============================] - 252s 524ms/step - loss: 0.1556 - acc: 0.9536 - val_loss: 0.2856 - val_acc: 0.9143\n",
            "Epoch 15/20\n",
            "481/481 [==============================] - 251s 522ms/step - loss: 0.2270 - acc: 0.9539 - val_loss: 0.3565 - val_acc: 0.8907\n",
            "Epoch 16/20\n",
            "481/481 [==============================] - 252s 524ms/step - loss: 0.1449 - acc: 0.9578 - val_loss: 0.2644 - val_acc: 0.9137\n",
            "Epoch 17/20\n",
            "481/481 [==============================] - 251s 521ms/step - loss: 0.1383 - acc: 0.9602 - val_loss: 0.2632 - val_acc: 0.9178\n",
            "Epoch 18/20\n",
            "481/481 [==============================] - 252s 525ms/step - loss: 0.1329 - acc: 0.9624 - val_loss: 0.2694 - val_acc: 0.9152\n",
            "Epoch 19/20\n",
            "481/481 [==============================] - 250s 521ms/step - loss: 0.1271 - acc: 0.9633 - val_loss: 0.2726 - val_acc: 0.9158\n",
            "Epoch 20/20\n",
            "481/481 [==============================] - 253s 526ms/step - loss: 0.1222 - acc: 0.9656 - val_loss: 0.2958 - val_acc: 0.9092\n"
          ]
        }
      ],
      "source": [
        "lstm_model.compile(loss='sparse_categorical_crossentropy',optimizer='rmsprop',metrics=['acc'])\n",
        "history2 = lstm_model.fit(x_train,y_train,epochs=20,batch_size=256,validation_data=[x_valid,y_valid]) \n"
      ]
    },
    {
      "cell_type": "code",
      "execution_count": null,
      "metadata": {
        "colab": {
          "base_uri": "https://localhost:8080/",
          "height": 590
        },
        "id": "V1Ln6dgLg5CW",
        "outputId": "517707a5-83db-400d-f579-d7bb89bccae6"
      },
      "outputs": [
        {
          "data": {
            "image/png": "[encoded data removed]",
            "text/plain": [
              "<Figure size 432x288 with 1 Axes>"
            ]
          },
          "metadata": {},
          "output_type": "display_data"
        },
        {
          "data": {
            "text/plain": [
              "<matplotlib.legend.Legend at 0x7f3f7d161b20>"
            ]
          },
          "execution_count": 72,
          "metadata": {},
          "output_type": "execute_result"
        },
        {
          "data": {
            "image/png": "[encoded data removed]",
            "text/plain": [
              "<Figure size 432x288 with 1 Axes>"
            ]
          },
          "metadata": {},
          "output_type": "display_data"
        }
      ],
      "source": [
        "acc2 = history2.history['acc']\n",
        "loss2 = history2.history['loss']\n",
        "val_acc2 = history2.history['val_acc']\n",
        "val_loss2 = history2.history['val_loss']\n",
        "\n",
        "epochs2 = len(acc2)\n",
        "\n",
        "plt.plot( acc2, label='Training acc')\n",
        "plt.plot( val_acc2, 'b', label='Validation acc')\n",
        "plt.title('Training and validation accuracy')\n",
        "plt.xlabel('Epochs')\n",
        "plt.ylabel('accuracy')\n",
        "plt.legend()\n",
        "plt.show()\n",
        "\n",
        "plt.plot( loss2, label='Training loss')\n",
        "plt.plot( val_loss2, 'b', label='Validation loss')\n",
        "plt.title('Training and validation loss')\n",
        "plt.xlabel('Epochs')\n",
        "plt.ylabel('Loss')\n",
        "plt.legend()"
      ]
    },
    {
      "cell_type": "code",
      "execution_count": null,
      "metadata": {
        "colab": {
          "base_uri": "https://localhost:8080/"
        },
        "id": "6G8BdQ8EKdbR",
        "outputId": "a175e1f2-4e7d-4d1d-dcee-c427c89d55f0"
      },
      "outputs": [
        {
          "name": "stdout",
          "output_type": "stream",
          "text": [
            "2049/2049 [==============================] - 73s 35ms/step\n",
            "cm :\n",
            " [[16831  2609   754]\n",
            " [ 1036 20974   277]\n",
            " [  756   521 21809]]\n",
            "clssification report :\n",
            "               precision    recall  f1-score   support\n",
            "\n",
            "           0       0.90      0.83      0.87     20194\n",
            "           1       0.87      0.94      0.90     22287\n",
            "           2       0.95      0.94      0.95     23086\n",
            "\n",
            "    accuracy                           0.91     65567\n",
            "   macro avg       0.91      0.91      0.91     65567\n",
            "weighted avg       0.91      0.91      0.91     65567\n",
            "\n"
          ]
        }
      ],
      "source": [
        "lstm_pred = lstm_model.predict(x_valid)\n",
        "lstm_pred = np.argmax(lstm_pred, axis=1)\n",
        "print('cm :\\n',confusion_matrix(y_valid, lstm_pred))\n",
        "print('clssification report :\\n',classification_report(y_valid, lstm_pred))"
      ]
    },
    {
      "cell_type": "code",
      "execution_count": null,
      "metadata": {
        "colab": {
          "base_uri": "https://localhost:8080/"
        },
        "id": "C5grfIapKc6S",
        "outputId": "36534072-b726-4211-f8dc-3bcd88f9437c"
      },
      "outputs": [
        {
          "name": "stderr",
          "output_type": "stream",
          "text": [
            "WARNING:absl:Found untraced functions such as _update_step_xla while saving (showing 1 of 1). These functions will not be directly callable after loading.\n"
          ]
        }
      ],
      "source": [
        "lstm_model.save('/content/gdrive/MyDrive/Arete/sentiment analysis task/lstm_model_V4')\n",
        "\n",
        "# lstm_model link \n",
        "# https://drive.google.com/drive/folders/1TSnCsL-tWh5InWyd-9EuRVvI2RmJcAAk?usp=sharing"
      ]
    },
    {
      "cell_type": "code",
      "execution_count": null,
      "metadata": {
        "id": "ggO6ygu_0-su"
      },
      "outputs": [],
      "source": []
    },
    {
      "cell_type": "markdown",
      "metadata": {
        "id": "2mAqg0AHNLvI"
      },
      "source": [
        "## Bidirectional LSTM"
      ]
    },
    {
      "cell_type": "code",
      "execution_count": null,
      "metadata": {
        "id": "52yjwgLGNLKP"
      },
      "outputs": [],
      "source": []
    },
    {
      "cell_type": "code",
      "execution_count": null,
      "metadata": {
        "colab": {
          "base_uri": "https://localhost:8080/"
        },
        "id": "UqHoKp6uTigN",
        "outputId": "0dc8202b-406d-4437-e6af-9e73f22bc5ca"
      },
      "outputs": [
        {
          "name": "stdout",
          "output_type": "stream",
          "text": [
            "Model: \"sequential\"\n",
            "_________________________________________________________________\n",
            " Layer (type)                Output Shape              Param #   \n",
            "=================================================================\n",
            " embedding (Embedding)       (None, 40, 128)           11113344  \n",
            "                                                                 \n",
            " dropout (Dropout)           (None, 40, 128)           0         \n",
            "                                                                 \n",
            " bidirectional (Bidirectiona  (None, 128)              98816     \n",
            " l)                                                              \n",
            "                                                                 \n",
            " dense (Dense)               (None, 3)                 387       \n",
            "                                                                 \n",
            "=================================================================\n",
            "Total params: 11,212,547\n",
            "Trainable params: 11,212,547\n",
            "Non-trainable params: 0\n",
            "_________________________________________________________________\n"
          ]
        }
      ],
      "source": [
        "from tensorflow.keras import models,layers\n",
        "import tensorflow\n",
        "embedding_vector_size = 128\n",
        "Bi_lstm_model = models.Sequential()\n",
        "Bi_lstm_model.add(layers.Embedding(n_words+1, embedding_vector_size, input_length=sentence_length,mask_zero=True)) # \n",
        "Bi_lstm_model.add(layers.Dropout(.25))\n",
        "Bi_lstm_model.add(layers.Bidirectional(layers.LSTM(64,activation='relu')))\n",
        "Bi_lstm_model.add(layers.Dense(3,activation='softmax'))\n",
        "\n",
        "Bi_lstm_model.summary()"
      ]
    },
    {
      "cell_type": "code",
      "execution_count": null,
      "metadata": {
        "colab": {
          "base_uri": "https://localhost:8080/",
          "height": 533
        },
        "id": "IVsbSGLJEvos",
        "outputId": "ac3cd266-ad3e-4dfd-efe5-d6f30a159f8c"
      },
      "outputs": [
        {
          "data": {
            "image/png": "[encoded data removed]",
            "text/plain": [
              "<IPython.core.display.Image object>"
            ]
          },
          "execution_count": 63,
          "metadata": {},
          "output_type": "execute_result"
        }
      ],
      "source": [
        "tensorflow.keras.utils.plot_model(Bi_lstm_model,show_shapes=True)"
      ]
    },
    {
      "cell_type": "code",
      "execution_count": null,
      "metadata": {
        "colab": {
          "base_uri": "https://localhost:8080/"
        },
        "id": "LlTqdp3ZUO3z",
        "outputId": "b1a5b27a-c0e9-49b8-ebf6-ebd58e18b5d9"
      },
      "outputs": [
        {
          "name": "stdout",
          "output_type": "stream",
          "text": [
            "Epoch 1/15\n",
            "481/481 [==============================] - 156s 319ms/step - loss: 0.6555 - acc: 0.7159 - val_loss: 0.3801 - val_acc: 0.8645\n",
            "Epoch 2/15\n",
            "481/481 [==============================] - 154s 321ms/step - loss: 0.3120 - acc: 0.8895 - val_loss: 0.2862 - val_acc: 0.8950\n",
            "Epoch 3/15\n",
            "481/481 [==============================] - 158s 329ms/step - loss: 0.2292 - acc: 0.9173 - val_loss: 0.2506 - val_acc: 0.9057\n",
            "Epoch 4/15\n",
            "481/481 [==============================] - 161s 335ms/step - loss: 0.1863 - acc: 0.9313 - val_loss: 0.2197 - val_acc: 0.9183\n",
            "Epoch 5/15\n",
            "481/481 [==============================] - 163s 340ms/step - loss: 0.1585 - acc: 0.9422 - val_loss: 0.2204 - val_acc: 0.9152\n",
            "Epoch 6/15\n",
            "481/481 [==============================] - 160s 332ms/step - loss: 0.1376 - acc: 0.9503 - val_loss: 0.2060 - val_acc: 0.9243\n",
            "Epoch 7/15\n",
            "481/481 [==============================] - 159s 332ms/step - loss: 0.1210 - acc: 0.9563 - val_loss: 0.2291 - val_acc: 0.9217\n",
            "Epoch 8/15\n",
            "481/481 [==============================] - 162s 337ms/step - loss: 0.1077 - acc: 0.9620 - val_loss: 0.2147 - val_acc: 0.9258\n",
            "Epoch 9/15\n",
            "481/481 [==============================] - 161s 334ms/step - loss: 0.0955 - acc: 0.9664 - val_loss: 0.2133 - val_acc: 0.9255\n",
            "Epoch 10/15\n",
            "481/481 [==============================] - 159s 331ms/step - loss: 0.0848 - acc: 0.9706 - val_loss: 0.2265 - val_acc: 0.9264\n",
            "Epoch 11/15\n",
            "481/481 [==============================] - 162s 338ms/step - loss: 0.0748 - acc: 0.9742 - val_loss: 0.2458 - val_acc: 0.9229\n",
            "Epoch 12/15\n",
            "481/481 [==============================] - 160s 333ms/step - loss: 0.0894 - acc: 0.9772 - val_loss: 0.2360 - val_acc: 0.9264\n",
            "Epoch 13/15\n",
            "481/481 [==============================] - 159s 331ms/step - loss: 0.0622 - acc: 0.9796 - val_loss: 0.2496 - val_acc: 0.9247\n",
            "Epoch 14/15\n",
            "481/481 [==============================] - 159s 330ms/step - loss: 0.0560 - acc: 0.9815 - val_loss: 0.3135 - val_acc: 0.9177\n",
            "Epoch 15/15\n",
            "481/481 [==============================] - 160s 333ms/step - loss: 0.0633 - acc: 0.9837 - val_loss: 0.2850 - val_acc: 0.9260\n"
          ]
        }
      ],
      "source": [
        "Bi_lstm_model.compile(loss='sparse_categorical_crossentropy',optimizer='rmsprop',metrics=['acc'])\n",
        "history3 = Bi_lstm_model.fit(x_train,y_train,epochs=15,batch_size=256,validation_data=[x_valid,y_valid]) "
      ]
    },
    {
      "cell_type": "code",
      "execution_count": null,
      "metadata": {
        "colab": {
          "base_uri": "https://localhost:8080/",
          "height": 590
        },
        "id": "jWDmF0VkUO_P",
        "outputId": "4acc6e44-708b-49ab-c5bb-803cb5867b7f"
      },
      "outputs": [
        {
          "data": {
            "image/png": "[encoded data removed]",
            "text/plain": [
              "<Figure size 432x288 with 1 Axes>"
            ]
          },
          "metadata": {},
          "output_type": "display_data"
        },
        {
          "data": {
            "text/plain": [
              "<matplotlib.legend.Legend at 0x7fa4dbc27cd0>"
            ]
          },
          "execution_count": 65,
          "metadata": {},
          "output_type": "execute_result"
        },
        {
          "data": {
            "image/png": "[encoded data removed]",
            "text/plain": [
              "<Figure size 432x288 with 1 Axes>"
            ]
          },
          "metadata": {},
          "output_type": "display_data"
        }
      ],
      "source": [
        "acc3 = history3.history['acc']\n",
        "loss3 = history3.history['loss']\n",
        "val_acc3 = history3.history['val_acc']\n",
        "val_loss3 = history3.history['val_loss']\n",
        "\n",
        "epochs3 = len(acc3)\n",
        "\n",
        "plt.plot( acc3, label='Training acc')\n",
        "plt.plot( val_acc3, label='Validation acc')\n",
        "plt.title('Training and validation accuracy')\n",
        "plt.xlabel('Epochs')\n",
        "plt.ylabel('accuracy')\n",
        "plt.legend()\n",
        "plt.show()\n",
        "\n",
        "plt.plot( loss3, label='Training loss')\n",
        "plt.plot( val_loss3, label='Validation loss')\n",
        "plt.title('Training and validation loss')\n",
        "plt.xlabel('Epochs')\n",
        "plt.ylabel('Loss')\n",
        "plt.legend()"
      ]
    },
    {
      "cell_type": "code",
      "execution_count": null,
      "metadata": {
        "colab": {
          "base_uri": "https://localhost:8080/"
        },
        "id": "X5tmcK4kK98F",
        "outputId": "69c82a81-ce72-4bf5-cd46-6a04766d7c37"
      },
      "outputs": [
        {
          "name": "stdout",
          "output_type": "stream",
          "text": [
            "2049/2049 [==============================] - 31s 15ms/step\n",
            "cm :\n",
            " [[18041  1483   670]\n",
            " [ 1469 20462   356]\n",
            " [  673   204 22209]]\n",
            "clssification report :\n",
            "               precision    recall  f1-score   support\n",
            "\n",
            "           0       0.89      0.89      0.89     20194\n",
            "           1       0.92      0.92      0.92     22287\n",
            "           2       0.96      0.96      0.96     23086\n",
            "\n",
            "    accuracy                           0.93     65567\n",
            "   macro avg       0.92      0.92      0.92     65567\n",
            "weighted avg       0.93      0.93      0.93     65567\n",
            "\n"
          ]
        }
      ],
      "source": [
        "Bi_lstm_pred = Bi_lstm_model.predict(x_valid)\n",
        "Bi_lstm_pred = np.argmax(Bi_lstm_pred, axis=1)\n",
        "print('cm :\\n',confusion_matrix(y_valid, Bi_lstm_pred))\n",
        "print('clssification report :\\n',classification_report(y_valid, Bi_lstm_pred))"
      ]
    },
    {
      "cell_type": "code",
      "execution_count": null,
      "metadata": {
        "colab": {
          "base_uri": "https://localhost:8080/"
        },
        "id": "gkDpD0GCKW2U",
        "outputId": "1cd4e10d-9fad-4a32-899e-6a444f4cb8ce"
      },
      "outputs": [
        {
          "name": "stderr",
          "output_type": "stream",
          "text": [
            "WARNING:absl:Found untraced functions such as _update_step_xla while saving (showing 1 of 1). These functions will not be directly callable after loading.\n"
          ]
        }
      ],
      "source": [
        "Bi_lstm_model.save('/content/gdrive/MyDrive/Arete/sentiment analysis task/Bi_lstm_model_V4')\n",
        "\n",
        "# model link\n",
        "# https://drive.google.com/drive/folders/1-KCmc6RU_u3DXHAU8AaEX1AD-FQSXGT7?usp=sharing"
      ]
    },
    {
      "cell_type": "code",
      "execution_count": null,
      "metadata": {
        "id": "zVo7KDKK178g"
      },
      "outputs": [],
      "source": []
    },
    {
      "cell_type": "markdown",
      "metadata": {
        "id": "CpEecafoC-Ir"
      },
      "source": [
        "## LSTM by torch"
      ]
    },
    {
      "cell_type": "markdown",
      "metadata": {
        "id": "n54N9vKEC9mS"
      },
      "source": []
    },
    {
      "cell_type": "code",
      "execution_count": null,
      "metadata": {
        "colab": {
          "base_uri": "https://localhost:8080/"
        },
        "id": "TBBB3f9mFYQt",
        "outputId": "471db250-24ea-47d7-9975-905dd2dcf050"
      },
      "outputs": [
        {
          "output_type": "execute_result",
          "data": {
            "text/plain": [
              "((122938, 40), numpy.ndarray, (20490, 40))"
            ]
          },
          "metadata": {},
          "execution_count": 62
        }
      ],
      "source": [
        "x_train.shape, type(x_train), x_test.shape"
      ]
    },
    {
      "cell_type": "code",
      "execution_count": null,
      "metadata": {
        "id": "7QsnAxIcDYaz"
      },
      "outputs": [],
      "source": [
        "import torch\n",
        "from torch import nn\n",
        "import torch.nn.functional as F\n",
        "from torch.utils.data import TensorDataset, DataLoader\n"
      ]
    },
    {
      "cell_type": "code",
      "execution_count": null,
      "metadata": {
        "id": "HF0Qo-KTG9vD"
      },
      "outputs": [],
      "source": [
        "from sklearn.utils import shuffle\n",
        "\n",
        "train_data = TensorDataset(torch.from_numpy(np.array(x_train)),torch.from_numpy(np.array(y_train)))\n",
        "valid_data = TensorDataset(torch.from_numpy(np.array(x_valid)),torch.from_numpy(np.array(y_valid)))\n",
        "test_data  = TensorDataset(torch.from_numpy(np.array(x_test)), torch.from_numpy(np.array(y_test)))\n",
        "\n",
        "batch_size = 256\n",
        "\n",
        "train_loader = DataLoader(train_data, shuffle=True, batch_size=batch_size, drop_last=True)\n",
        "valid_loader = DataLoader(valid_data, shuffle=True, batch_size=batch_size, drop_last=True)\n",
        "test_loader  = DataLoader(test_data , shuffle=True, batch_size=x_test.shape[0])\n"
      ]
    },
    {
      "cell_type": "code",
      "execution_count": null,
      "metadata": {
        "colab": {
          "base_uri": "https://localhost:8080/"
        },
        "id": "4lXTjUBxCRz7",
        "outputId": "a5532c9f-89f6-4bea-a1e7-6fe07c7fdcea"
      },
      "outputs": [
        {
          "output_type": "execute_result",
          "data": {
            "text/plain": [
              "122938"
            ]
          },
          "metadata": {},
          "execution_count": 65
        }
      ],
      "source": [
        "len(train_data)"
      ]
    },
    {
      "cell_type": "code",
      "execution_count": null,
      "metadata": {
        "colab": {
          "base_uri": "https://localhost:8080/"
        },
        "id": "zPjOMvxqKGK1",
        "outputId": "03e00b94-b1f1-4b5e-fe61-b778f5eec4e3"
      },
      "outputs": [
        {
          "output_type": "stream",
          "name": "stdout",
          "text": [
            "Sample input size:  torch.Size([256, 40])\n",
            "Sample input: \n",
            " tensor([[  190, 10683,  2740,  ...,     0,     0,     0],\n",
            "        [  672,  1019,  3767,  ...,     0,     0,     0],\n",
            "        [   35,    57,     3,  ...,     0,     0,     0],\n",
            "        ...,\n",
            "        [ 2732,   743,     0,  ...,     0,     0,     0],\n",
            "        [   65,    87,    16,  ...,  1894,   371,     0],\n",
            "        [  118, 22484,  1768,  ...,     0,     0,     0]], dtype=torch.int32)\n",
            "Sample input: \n",
            " tensor([2, 0, 1, 1, 0, 1, 2, 0, 2, 0, 1, 0, 0, 1, 1, 1, 2, 0, 1, 1, 2, 1, 0, 2,\n",
            "        1, 0, 1, 2, 2, 2, 2, 0, 1, 2, 0, 0, 1, 2, 0, 2, 0, 0, 0, 1, 1, 1, 0, 1,\n",
            "        0, 1, 0, 1, 1, 1, 2, 1, 1, 1, 2, 0, 2, 1, 0, 1, 0, 2, 1, 2, 2, 1, 0, 2,\n",
            "        2, 0, 0, 1, 2, 1, 1, 0, 1, 1, 1, 0, 1, 0, 1, 0, 0, 1, 1, 2, 2, 1, 2, 0,\n",
            "        2, 0, 0, 1, 1, 2, 0, 0, 1, 2, 2, 2, 0, 2, 0, 0, 1, 1, 1, 1, 2, 0, 0, 0,\n",
            "        0, 1, 2, 1, 0, 2, 0, 0, 2, 2, 1, 2, 2, 0, 0, 2, 0, 0, 2, 2, 2, 0, 1, 1,\n",
            "        1, 2, 1, 1, 2, 0, 2, 1, 2, 2, 0, 1, 0, 2, 2, 2, 1, 1, 1, 1, 0, 1, 0, 1,\n",
            "        1, 0, 1, 0, 0, 2, 2, 2, 0, 0, 1, 1, 0, 0, 2, 0, 2, 2, 2, 1, 1, 1, 0, 1,\n",
            "        1, 1, 1, 0, 2, 1, 2, 1, 1, 0, 1, 0, 2, 1, 1, 2, 0, 2, 1, 2, 1, 2, 1, 1,\n",
            "        1, 2, 0, 1, 1, 1, 2, 1, 1, 2, 2, 1, 1, 2, 1, 1, 1, 2, 0, 2, 1, 1, 1, 0,\n",
            "        2, 0, 0, 2, 1, 2, 0, 0, 0, 2, 2, 2, 0, 1, 0, 0])\n"
          ]
        }
      ],
      "source": [
        "# obtain one batch of training data\n",
        "dataiter = iter(train_loader)\n",
        "sample_x, sample_y = next(dataiter)\n",
        "\n",
        "print('Sample input size: ', sample_x.size()) # batch_size, seq_length\n",
        "print('Sample input: \\n', sample_x)\n",
        "print('Sample input: \\n', sample_y)"
      ]
    },
    {
      "cell_type": "code",
      "source": [
        "# First checking if GPU is available\n",
        "train_on_gpu=torch.cuda.is_available()\n",
        "\n",
        "if(train_on_gpu):\n",
        "    print('Training on GPU.')\n",
        "else:\n",
        "    print('No GPU available, training on CPU.')"
      ],
      "metadata": {
        "colab": {
          "base_uri": "https://localhost:8080/"
        },
        "id": "CKoijScjMo19",
        "outputId": "38f09385-8175-4b0a-e1ae-dcf119616fdc"
      },
      "execution_count": null,
      "outputs": [
        {
          "output_type": "stream",
          "name": "stdout",
          "text": [
            "Training on GPU.\n"
          ]
        }
      ]
    },
    {
      "cell_type": "markdown",
      "source": [
        "Torch model\n",
        "\n",
        "embedding size = 128\n",
        "\n",
        "hidden_size = 128\n",
        "\n",
        "dropout = .25\n",
        "\n",
        "softmax = 128 => 3\n",
        "\n"
      ],
      "metadata": {
        "id": "-QoeWmx9ROPy"
      }
    },
    {
      "cell_type": "code",
      "execution_count": null,
      "metadata": {
        "id": "vDXGxr6ED5Ol"
      },
      "outputs": [],
      "source": [
        "from torch.nn.modules import dropout\n",
        "class torch_lstm(nn.Module):\n",
        "\n",
        "  # def __init__(self, vocab_size, embedd_size, hidden_dim, dropout, n_layers):\n",
        "  def __init__(self, vocab_size, embedd_size, dropout, n_layers):\n",
        "    super(torch_lstm, self).__init__()\n",
        "    self.n_layers = n_layers\n",
        "    self.embedding = nn.Embedding(vocab_size,embedd_size) \n",
        "    # self.lstm = nn.LSTM( embedd_size, hidden_dim, n_layers, batch_first=True) \n",
        "    self.lstm = nn.LSTM( embedd_size, hidden_dim, batch_first=True) \n",
        "\n",
        "    self.dropout = nn.Dropout(dropout)\n",
        "    # self.fc1 = nn.Linear(128,64)\n",
        "    self.fc2 = nn.Linear(hidden_dim,3)\n",
        "\n",
        "\n",
        "  # def forward(self,x,hidden):\n",
        "  def forward(self,x):\n",
        "    x = self.embedding(x)\n",
        "    # x, hidden = self.lstm(x, hidden) \n",
        "    x, _ = self.lstm(x) \n",
        "    x = x[:, -1, :] # getting the last time step output # [128, 40, 128]\n",
        "    x = self.dropout(x)\n",
        "    # x = F.relu(self.fc1(x))\n",
        "    x = F.softmax(self.fc2(x))\n",
        "\n",
        "    # return x, hidden\n",
        "    return x\n",
        "\n",
        "  def init_hidden(self, batch_size):\n",
        "    weights = next(self.parameters()).data\n",
        "    if train_on_gpu:\n",
        "      hidden = (weights.new(self.n_layers, batch_size, hidden_dim).zero_().cuda(),\n",
        "                weights.new(self.n_layers, batch_size, hidden_dim).zero_().cuda())\n",
        "    else:\n",
        "      hidden = (weights.new(self.n_layers, batch_size, hidden_dim).zero_(),\n",
        "                weights.new(self.n_layers, batch_size, hidden_dim).zero_())\n",
        "    return hidden\n"
      ]
    },
    {
      "cell_type": "code",
      "execution_count": null,
      "metadata": {
        "colab": {
          "base_uri": "https://localhost:8080/"
        },
        "id": "Z4mV-ztsR0Op",
        "outputId": "209eeaf5-0954-4b52-c17f-3962ae2d14b2"
      },
      "outputs": [
        {
          "output_type": "stream",
          "name": "stdout",
          "text": [
            "torch_lstm(\n",
            "  (embedding): Embedding(86822, 128)\n",
            "  (lstm): LSTM(128, 128, batch_first=True)\n",
            "  (dropout): Dropout(p=0.25, inplace=False)\n",
            "  (fc2): Linear(in_features=128, out_features=3, bias=True)\n",
            ")\n"
          ]
        }
      ],
      "source": [
        "vocab_size = n_words+1\n",
        "embedd_size = 128\n",
        "hidden_dim = 128\n",
        "# n_layers = 2\n",
        "dropout = .25\n",
        "\n",
        "# torch_model = torch_lstm(vocab_size, embedd_size, hidden_dim, dropout, n_layers)\n",
        "torch_model = torch_lstm(vocab_size, embedd_size, dropout, n_layers)\n",
        "\n",
        "print(torch_model)"
      ]
    },
    {
      "cell_type": "markdown",
      "source": [
        "epochs = 30\n",
        "\n",
        "loss = cross entropy\n",
        "\n",
        "optim = rmsprop"
      ],
      "metadata": {
        "id": "n1ESODFTR0PI"
      }
    },
    {
      "cell_type": "code",
      "execution_count": null,
      "metadata": {
        "colab": {
          "base_uri": "https://localhost:8080/"
        },
        "id": "Zuj_xgDASN2a",
        "outputId": "388f43e3-b013-42ae-8f14-064cd630b864"
      },
      "outputs": [
        {
          "output_type": "stream",
          "name": "stderr",
          "text": [
            "<ipython-input-71-31d73e1c2c16>:25: UserWarning: Implicit dimension choice for softmax has been deprecated. Change the call to include dim=X as an argument.\n",
            "  x = F.softmax(self.fc2(x))\n"
          ]
        },
        {
          "output_type": "stream",
          "name": "stdout",
          "text": [
            "Epoch: 1/30...  Loss: 1.0827 -  acc: 0.4541 -  Val_Loss: 0.8527 -  Val_acc: 0.6885  \n",
            "Epoch: 2/30...  Loss: 0.7775 -  acc: 0.7693 -  Val_Loss: 0.7499 -  Val_acc: 0.7982  \n",
            "Epoch: 3/30...  Loss: 0.7223 -  acc: 0.8266 -  Val_Loss: 0.7366 -  Val_acc: 0.8120  \n",
            "Epoch: 4/30...  Loss: 0.7078 -  acc: 0.8415 -  Val_Loss: 0.7267 -  Val_acc: 0.8226  \n",
            "Epoch: 5/30...  Loss: 0.6990 -  acc: 0.8505 -  Val_Loss: 0.7210 -  Val_acc: 0.8279  \n",
            "Epoch: 6/30...  Loss: 0.6878 -  acc: 0.8623 -  Val_Loss: 0.7221 -  Val_acc: 0.8277  \n",
            "Epoch: 7/30...  Loss: 0.6826 -  acc: 0.8672 -  Val_Loss: 0.7077 -  Val_acc: 0.8416  \n",
            "Epoch: 8/30...  Loss: 0.6812 -  acc: 0.8686 -  Val_Loss: 0.7044 -  Val_acc: 0.8453  \n",
            "Epoch: 9/30...  Loss: 0.6780 -  acc: 0.8721 -  Val_Loss: 0.7024 -  Val_acc: 0.8480  \n",
            "Epoch: 10/30... Loss: 0.6773 -  acc: 0.8728 -  Val_Loss: 0.6982 -  Val_acc: 0.8522  \n",
            "Epoch: 11/30... Loss: 0.6715 -  acc: 0.8788 -  Val_Loss: 0.6913 -  Val_acc: 0.8585  \n",
            "Epoch: 12/30... Loss: 0.6688 -  acc: 0.8813 -  Val_Loss: 0.6920 -  Val_acc: 0.8571  \n",
            "Epoch: 13/30... Loss: 0.6671 -  acc: 0.8828 -  Val_Loss: 0.6900 -  Val_acc: 0.8599  \n",
            "Epoch: 14/30... Loss: 0.6613 -  acc: 0.8886 -  Val_Loss: 0.6945 -  Val_acc: 0.8548  \n",
            "Epoch: 15/30... Loss: 0.6590 -  acc: 0.8910 -  Val_Loss: 0.6903 -  Val_acc: 0.8598  \n",
            "Epoch: 16/30... Loss: 0.6577 -  acc: 0.8924 -  Val_Loss: 0.6923 -  Val_acc: 0.8579  \n",
            "Epoch: 17/30... Loss: 0.6598 -  acc: 0.8906 -  Val_Loss: 0.6912 -  Val_acc: 0.8583  \n",
            "Epoch: 18/30... Loss: 0.6598 -  acc: 0.8902 -  Val_Loss: 0.6940 -  Val_acc: 0.8562  \n",
            "Epoch: 19/30... Loss: 0.6581 -  acc: 0.8918 -  Val_Loss: 0.6857 -  Val_acc: 0.8639  \n",
            "Epoch: 20/30... Loss: 0.6540 -  acc: 0.8962 -  Val_Loss: 0.6895 -  Val_acc: 0.8609  \n",
            "Epoch: 21/30... Loss: 0.6542 -  acc: 0.8960 -  Val_Loss: 0.6856 -  Val_acc: 0.8644  \n",
            "Epoch: 22/30... Loss: 0.6533 -  acc: 0.8968 -  Val_Loss: 0.6876 -  Val_acc: 0.8619  \n",
            "Epoch: 23/30... Loss: 0.6521 -  acc: 0.8983 -  Val_Loss: 0.6966 -  Val_acc: 0.8536  \n",
            "Epoch: 24/30... Loss: 0.6518 -  acc: 0.8985 -  Val_Loss: 0.6888 -  Val_acc: 0.8616  \n",
            "Epoch: 25/30... Loss: 0.6501 -  acc: 0.9003 -  Val_Loss: 0.6884 -  Val_acc: 0.8619  \n",
            "Epoch: 26/30... Loss: 0.6496 -  acc: 0.9010 -  Val_Loss: 0.6842 -  Val_acc: 0.8660  \n",
            "Epoch: 27/30... Loss: 0.6485 -  acc: 0.9020 -  Val_Loss: 0.6830 -  Val_acc: 0.8675  \n",
            "Epoch: 28/30... Loss: 0.6494 -  acc: 0.9011 -  Val_Loss: 0.6864 -  Val_acc: 0.8638  \n",
            "Epoch: 29/30... Loss: 0.6501 -  acc: 0.9002 -  Val_Loss: 0.6829 -  Val_acc: 0.8672  \n",
            "Epoch: 30/30... Loss: 0.6498 -  acc: 0.9003 -  Val_Loss: 0.6848 -  Val_acc: 0.8650  \n"
          ]
        }
      ],
      "source": [
        "\n",
        "criterion = nn.CrossEntropyLoss()\n",
        "optimizer = torch.optim.RMSprop(torch_model.parameters(), lr=0.01)\n",
        "\n",
        "epochs = 30\n",
        "epoch_tr_loss,epoch_vl_loss = [],[]\n",
        "epoch_tr_acc,epoch_vl_acc = [],[]\n",
        "\n",
        "# move model to GPU, if available\n",
        "if(train_on_gpu):\n",
        "    torch_model.cuda()\n",
        "\n",
        "for epoch in range(epochs):\n",
        "  train_losses = []\n",
        "  train_acc = 0.0\n",
        "\n",
        "  # hidden = torch_model.init_hidden(batch_size)\n",
        "  torch_model.train()\n",
        "\n",
        "  for sentenc, label in train_loader:\n",
        "    if(train_on_gpu):\n",
        "            sentenc, label = sentenc.cuda(), label.cuda()\n",
        "    # hidden = tuple([each.data for each in hidden])\n",
        "    torch_model.zero_grad()\n",
        "    # output, hidden = torch_model(sentenc, hidden)\n",
        "    output = torch_model(sentenc)\n",
        "    label =  label.long() \n",
        "\n",
        "    loss = criterion(output.squeeze(), label)\n",
        "    # loss = torch.sum(loss)\n",
        "    loss.backward()\n",
        "\n",
        "    optimizer.step()\n",
        "\n",
        "    train_losses.append(loss.item())\n",
        "    pred = torch.argmax(output, dim=1)\n",
        "    acc = sum(pred == label).item()\n",
        "    train_acc += acc\n",
        "\n",
        "  \n",
        "  val_losses = []\n",
        "  val_acc = 0.0\n",
        "  torch_model.eval()\n",
        "  # val_h = torch_model.init_hidden(batch_size)\n",
        "\n",
        "  for inputs, labels in valid_loader:\n",
        "    if(train_on_gpu):\n",
        "            inputs, labels = inputs.cuda(), labels.cuda()\n",
        "\n",
        "    # val_h = tuple([each.data for each in val_h])\n",
        "    # output, val_h= torch_model(inputs, val_h)\n",
        "    output= torch_model(inputs)\n",
        "    val_loss = criterion(output.squeeze(), labels)\n",
        "    # print('output ',output,' ouptue.squeeze ',output.squeeze())\n",
        "    # print('before',val_loss)\n",
        "    # val_loss = torch.sum(val_loss)\n",
        "    # print('vall loss ',val_loss,' val loss.item() ',val_loss.item)\n",
        "    val_losses.append(val_loss.item())\n",
        "    \n",
        "    pred = torch.argmax(output, dim=1)\n",
        "    acc = sum(pred == labels).item()\n",
        "    val_acc += acc\n",
        "\n",
        "  epoch_tr_loss.append(np.mean(train_losses))\n",
        "  epoch_tr_acc.append(train_acc/len(train_data))\n",
        "  epoch_vl_loss.append(np.mean(val_losses))\n",
        "  epoch_vl_acc.append(val_acc/len(valid_data))\n",
        "  print(f\"{'Epoch: {}/{}...'.format(epoch+1, epochs): <15}\", # 'Epoch: {}/{}...'.format(epoch+1, epochs)\n",
        "                  \"Loss: {:.4f} - \".format(epoch_tr_loss[-1]),\n",
        "                  \"acc: {:.4f} - \".format(epoch_tr_acc[-1]),\n",
        "                  \"Val_Loss: {:.4f} - \".format(epoch_vl_loss[-1]),\n",
        "                  \"Val_acc: {:.4f}  \".format(epoch_vl_acc[-1]))\n"
      ]
    },
    {
      "cell_type": "code",
      "execution_count": null,
      "metadata": {
        "colab": {
          "base_uri": "https://localhost:8080/",
          "height": 573
        },
        "id": "0Ij8AaGv_kD8",
        "outputId": "a2e9da97-a84f-4828-dbca-0d2188a09c63"
      },
      "outputs": [
        {
          "output_type": "display_data",
          "data": {
            "text/plain": [
              "<Figure size 432x288 with 1 Axes>"
            ],
            "image/png": "[encoded data removed]"
          },
          "metadata": {
            "needs_background": "light"
          }
        },
        {
          "output_type": "display_data",
          "data": {
            "text/plain": [
              "<Figure size 432x288 with 1 Axes>"
            ],
            "image/png": "[encoded data removed]"
          },
          "metadata": {
            "needs_background": "light"
          }
        }
      ],
      "source": [
        "epochs = range(len(epoch_tr_acc))\n",
        "\n",
        "plt.plot(epochs, epoch_tr_acc, label='Training acc')\n",
        "plt.plot(epochs, epoch_vl_acc, label='Validation acc')\n",
        "plt.title('Training and validation accuracy')\n",
        "plt.xlabel('Epochs')\n",
        "plt.ylabel('accuracy')\n",
        "plt.legend()\n",
        "plt.show()\n",
        "\n",
        "plt.plot(epochs, epoch_tr_loss, label='Training loss')\n",
        "plt.plot(epochs, epoch_vl_loss, label='Validation loss')\n",
        "plt.title('Training and validation loss')\n",
        "plt.xlabel('Epochs')\n",
        "plt.ylabel('Loss')\n",
        "plt.legend()\n",
        "plt.show()"
      ]
    },
    {
      "cell_type": "code",
      "execution_count": null,
      "metadata": {
        "colab": {
          "base_uri": "https://localhost:8080/"
        },
        "id": "TOZgxSFAO9wh",
        "outputId": "f2ebb937-1125-4bd2-acde-4dfc220e01c7"
      },
      "outputs": [
        {
          "output_type": "stream",
          "name": "stderr",
          "text": [
            "<ipython-input-71-31d73e1c2c16>:25: UserWarning: Implicit dimension choice for softmax has been deprecated. Change the call to include dim=X as an argument.\n",
            "  x = F.softmax(self.fc2(x))\n"
          ]
        },
        {
          "output_type": "stream",
          "name": "stdout",
          "text": [
            "cm :\n",
            " [[15749  1468  1650]\n",
            " [ 2398 17813   684]\n",
            " [ 1011  1057 19610]]\n",
            "clssification report :\n",
            "               precision    recall  f1-score   support\n",
            "\n",
            "           0       0.82      0.83      0.83     18867\n",
            "           1       0.88      0.85      0.86     20895\n",
            "           2       0.89      0.90      0.90     21678\n",
            "\n",
            "    accuracy                           0.87     61440\n",
            "   macro avg       0.86      0.86      0.86     61440\n",
            "weighted avg       0.87      0.87      0.87     61440\n",
            "\n"
          ]
        }
      ],
      "source": [
        "y_pred = []\n",
        "y_true = []\n",
        "for inputs, labels in valid_loader:\n",
        "    if(train_on_gpu):\n",
        "      inputs, labels = inputs.cuda(), labels.cuda()\n",
        "\n",
        "    # val_h = torch_model.init_hidden(batch_size)\n",
        "    # val_h = tuple([each.data for each in val_h])\n",
        "    # output, val_h = torch_model(inputs, val_h)\n",
        "    output = torch_model(inputs)\n",
        "    pred = torch.argmax(output, dim=1)\n",
        "    y_pred.extend(pred)\n",
        "    y_true.extend(labels)\n",
        "\n",
        "print('cm :\\n',confusion_matrix(torch.tensor(y_true), torch.tensor(y_pred)))\n",
        "print('clssification report :\\n',classification_report(torch.tensor(y_true), torch.tensor(y_pred)))"
      ]
    },
    {
      "cell_type": "code",
      "execution_count": null,
      "metadata": {
        "id": "R2u26m0qcVo0"
      },
      "outputs": [],
      "source": [
        "# torch_model.save('/content/gdrive/MyDrive/Arete/sentiment analysis task/torch_model_V2')"
      ]
    },
    {
      "cell_type": "code",
      "execution_count": null,
      "metadata": {
        "id": "yBiIA6tbgZj0"
      },
      "outputs": [],
      "source": [
        "# dataiter = iter(test_loader)\n",
        "# x_sample, y_sample = next(dataiter)\n",
        "\n",
        "# output = torch_model(x_sample)\n",
        "# pred = torch.argmax(output, dim=1)\n",
        "\n",
        "# print('cm :\\n',confusion_matrix(y_sample, pred))\n",
        "# print('clssification report :\\n',classification_report(y_sample, pred))"
      ]
    },
    {
      "cell_type": "code",
      "source": [],
      "metadata": {
        "id": "seLqK6W_GZAS"
      },
      "execution_count": null,
      "outputs": []
    }
  ],
  "metadata": {
    "colab": {
      "collapsed_sections": [
        "Mum8V2gGSXUJ",
        "cobTg4eVmDMk",
        "sJLIVKYWdp4A",
        "SXI6vIEPuq17",
        "p7Q-0VD5zGNT",
        "AojjKyG-fJeE",
        "2mAqg0AHNLvI",
        "CpEecafoC-Ir"
      ],
      "provenance": []
    },
    "gpuClass": "standard",
    "kernelspec": {
      "display_name": "Python 3",
      "name": "python3"
    },
    "language_info": {
      "name": "python"
    },
    "accelerator": "GPU"
  },
  "nbformat": 4,
  "nbformat_minor": 0
}